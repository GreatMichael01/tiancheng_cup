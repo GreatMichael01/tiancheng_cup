{
 "cells": [
  {
   "cell_type": "code",
   "execution_count": 1,
   "metadata": {},
   "outputs": [],
   "source": [
    "import pandas as pd\n",
    "import numpy as np"
   ]
  },
  {
   "cell_type": "markdown",
   "metadata": {},
   "source": [
    "### 对operation_TRAIN数据分析"
   ]
  },
  {
   "cell_type": "code",
   "execution_count": 2,
   "metadata": {},
   "outputs": [],
   "source": [
    "train_operation = pd.read_csv(\"../data/operation_TRAIN.csv\")"
   ]
  },
  {
   "cell_type": "code",
   "execution_count": 3,
   "metadata": {},
   "outputs": [
    {
     "data": {
      "text/html": [
       "<div>\n",
       "<style scoped>\n",
       "    .dataframe tbody tr th:only-of-type {\n",
       "        vertical-align: middle;\n",
       "    }\n",
       "\n",
       "    .dataframe tbody tr th {\n",
       "        vertical-align: top;\n",
       "    }\n",
       "\n",
       "    .dataframe thead th {\n",
       "        text-align: right;\n",
       "    }\n",
       "</style>\n",
       "<table border=\"1\" class=\"dataframe\">\n",
       "  <thead>\n",
       "    <tr style=\"text-align: right;\">\n",
       "      <th></th>\n",
       "      <th>UID</th>\n",
       "      <th>day</th>\n",
       "      <th>mode</th>\n",
       "      <th>success</th>\n",
       "      <th>time</th>\n",
       "      <th>os</th>\n",
       "      <th>version</th>\n",
       "      <th>device1</th>\n",
       "      <th>device2</th>\n",
       "      <th>device_code1</th>\n",
       "      <th>device_code2</th>\n",
       "      <th>device_code3</th>\n",
       "      <th>mac1</th>\n",
       "      <th>mac2</th>\n",
       "      <th>ip1</th>\n",
       "      <th>ip2</th>\n",
       "      <th>wifi</th>\n",
       "      <th>geo_code</th>\n",
       "      <th>ip1_sub</th>\n",
       "      <th>ip2_sub</th>\n",
       "    </tr>\n",
       "  </thead>\n",
       "  <tbody>\n",
       "    <tr>\n",
       "      <th>0</th>\n",
       "      <td>10035</td>\n",
       "      <td>30</td>\n",
       "      <td>c8741ce15ceac2a4</td>\n",
       "      <td>1.0</td>\n",
       "      <td>17:51:50</td>\n",
       "      <td>102</td>\n",
       "      <td>7.0.9</td>\n",
       "      <td>49dd36968dbfadda</td>\n",
       "      <td>OPPO R11</td>\n",
       "      <td>ecb58082e0e9b8e2</td>\n",
       "      <td>00fa2e4ba95605ef</td>\n",
       "      <td>NaN</td>\n",
       "      <td>NaN</td>\n",
       "      <td>a8dc52f65085212e</td>\n",
       "      <td>55dd8936655c86f6</td>\n",
       "      <td>NaN</td>\n",
       "      <td>NaN</td>\n",
       "      <td>wskx</td>\n",
       "      <td>e58e48fb9215116e</td>\n",
       "      <td>NaN</td>\n",
       "    </tr>\n",
       "    <tr>\n",
       "      <th>1</th>\n",
       "      <td>16264</td>\n",
       "      <td>16</td>\n",
       "      <td>20a91b45ef8f8221</td>\n",
       "      <td>1.0</td>\n",
       "      <td>08:36:00</td>\n",
       "      <td>200</td>\n",
       "      <td>NaN</td>\n",
       "      <td>NaN</td>\n",
       "      <td>NaN</td>\n",
       "      <td>NaN</td>\n",
       "      <td>NaN</td>\n",
       "      <td>NaN</td>\n",
       "      <td>NaN</td>\n",
       "      <td>NaN</td>\n",
       "      <td>NaN</td>\n",
       "      <td>fc7fc47d6c93f554</td>\n",
       "      <td>NaN</td>\n",
       "      <td>NaN</td>\n",
       "      <td>NaN</td>\n",
       "      <td>3502c553ea2ac187</td>\n",
       "    </tr>\n",
       "  </tbody>\n",
       "</table>\n",
       "</div>"
      ],
      "text/plain": [
       "     UID  day              mode  success      time   os version  \\\n",
       "0  10035   30  c8741ce15ceac2a4      1.0  17:51:50  102   7.0.9   \n",
       "1  16264   16  20a91b45ef8f8221      1.0  08:36:00  200     NaN   \n",
       "\n",
       "            device1   device2      device_code1      device_code2  \\\n",
       "0  49dd36968dbfadda  OPPO R11  ecb58082e0e9b8e2  00fa2e4ba95605ef   \n",
       "1               NaN       NaN               NaN               NaN   \n",
       "\n",
       "  device_code3 mac1              mac2               ip1               ip2  \\\n",
       "0          NaN  NaN  a8dc52f65085212e  55dd8936655c86f6               NaN   \n",
       "1          NaN  NaN               NaN               NaN  fc7fc47d6c93f554   \n",
       "\n",
       "  wifi geo_code           ip1_sub           ip2_sub  \n",
       "0  NaN     wskx  e58e48fb9215116e               NaN  \n",
       "1  NaN      NaN               NaN  3502c553ea2ac187  "
      ]
     },
     "execution_count": 3,
     "metadata": {},
     "output_type": "execute_result"
    }
   ],
   "source": [
    "train_operation.head(2)"
   ]
  },
  {
   "cell_type": "code",
   "execution_count": 4,
   "metadata": {},
   "outputs": [
    {
     "data": {
      "text/plain": [
       "(424481, 20)"
      ]
     },
     "execution_count": 4,
     "metadata": {},
     "output_type": "execute_result"
    }
   ],
   "source": [
    "train_operation.shape"
   ]
  },
  {
   "cell_type": "code",
   "execution_count": 5,
   "metadata": {},
   "outputs": [],
   "source": [
    "train_operation = train_operation.drop_duplicates([\"UID\"], keep=\"last\")"
   ]
  },
  {
   "cell_type": "code",
   "execution_count": 6,
   "metadata": {},
   "outputs": [
    {
     "data": {
      "text/plain": [
       "(11979, 20)"
      ]
     },
     "execution_count": 6,
     "metadata": {},
     "output_type": "execute_result"
    }
   ],
   "source": [
    "train_operation.shape"
   ]
  },
  {
   "cell_type": "markdown",
   "metadata": {},
   "source": [
    "### 对transaction_TRAIN数据分析"
   ]
  },
  {
   "cell_type": "code",
   "execution_count": 7,
   "metadata": {},
   "outputs": [],
   "source": [
    "train_transaction = pd.read_csv(\"../data/transaction_TRAIN.csv\")"
   ]
  },
  {
   "cell_type": "code",
   "execution_count": 8,
   "metadata": {},
   "outputs": [
    {
     "data": {
      "text/html": [
       "<div>\n",
       "<style scoped>\n",
       "    .dataframe tbody tr th:only-of-type {\n",
       "        vertical-align: middle;\n",
       "    }\n",
       "\n",
       "    .dataframe tbody tr th {\n",
       "        vertical-align: top;\n",
       "    }\n",
       "\n",
       "    .dataframe thead th {\n",
       "        text-align: right;\n",
       "    }\n",
       "</style>\n",
       "<table border=\"1\" class=\"dataframe\">\n",
       "  <thead>\n",
       "    <tr style=\"text-align: right;\">\n",
       "      <th></th>\n",
       "      <th>UID</th>\n",
       "      <th>channel</th>\n",
       "      <th>day</th>\n",
       "      <th>time</th>\n",
       "      <th>trans_amt</th>\n",
       "      <th>amt_src1</th>\n",
       "      <th>merchant</th>\n",
       "      <th>code1</th>\n",
       "      <th>code2</th>\n",
       "      <th>trans_type1</th>\n",
       "      <th>...</th>\n",
       "      <th>ip1</th>\n",
       "      <th>bal</th>\n",
       "      <th>amt_src2</th>\n",
       "      <th>acc_id2</th>\n",
       "      <th>acc_id3</th>\n",
       "      <th>geo_code</th>\n",
       "      <th>trans_type2</th>\n",
       "      <th>market_code</th>\n",
       "      <th>market_type</th>\n",
       "      <th>ip1_sub</th>\n",
       "    </tr>\n",
       "  </thead>\n",
       "  <tbody>\n",
       "    <tr>\n",
       "      <th>0</th>\n",
       "      <td>19092</td>\n",
       "      <td>102</td>\n",
       "      <td>30</td>\n",
       "      <td>11:48:47</td>\n",
       "      <td>1459</td>\n",
       "      <td>acdbdb842ac20f1e</td>\n",
       "      <td>abc6bc660561e0eb</td>\n",
       "      <td>NaN</td>\n",
       "      <td>NaN</td>\n",
       "      <td>26bcf43a19df14c8</td>\n",
       "      <td>...</td>\n",
       "      <td>a664530c1fb20abe</td>\n",
       "      <td>1007</td>\n",
       "      <td>9fefed0a981dcb7a</td>\n",
       "      <td>NaN</td>\n",
       "      <td>NaN</td>\n",
       "      <td>wsbq</td>\n",
       "      <td>102.0</td>\n",
       "      <td>2ecf94369847c748</td>\n",
       "      <td>1.0</td>\n",
       "      <td>45f4ca1f4e9b9cb7</td>\n",
       "    </tr>\n",
       "    <tr>\n",
       "      <th>1</th>\n",
       "      <td>13465</td>\n",
       "      <td>140</td>\n",
       "      <td>23</td>\n",
       "      <td>16:58:03</td>\n",
       "      <td>725</td>\n",
       "      <td>4d7831c6f695ab19</td>\n",
       "      <td>7a87b1aa20972d48</td>\n",
       "      <td>NaN</td>\n",
       "      <td>NaN</td>\n",
       "      <td>c2f2023d279665b2</td>\n",
       "      <td>...</td>\n",
       "      <td>52abe1e300a8aa10</td>\n",
       "      <td>100</td>\n",
       "      <td>NaN</td>\n",
       "      <td>NaN</td>\n",
       "      <td>NaN</td>\n",
       "      <td>wte7</td>\n",
       "      <td>105.0</td>\n",
       "      <td>NaN</td>\n",
       "      <td>NaN</td>\n",
       "      <td>2b416f1d7e89ad3b</td>\n",
       "    </tr>\n",
       "  </tbody>\n",
       "</table>\n",
       "<p>2 rows × 27 columns</p>\n",
       "</div>"
      ],
      "text/plain": [
       "     UID  channel  day      time  trans_amt          amt_src1  \\\n",
       "0  19092      102   30  11:48:47       1459  acdbdb842ac20f1e   \n",
       "1  13465      140   23  16:58:03        725  4d7831c6f695ab19   \n",
       "\n",
       "           merchant code1 code2       trans_type1        ...         \\\n",
       "0  abc6bc660561e0eb   NaN   NaN  26bcf43a19df14c8        ...          \n",
       "1  7a87b1aa20972d48   NaN   NaN  c2f2023d279665b2        ...          \n",
       "\n",
       "                ip1   bal          amt_src2 acc_id2 acc_id3 geo_code  \\\n",
       "0  a664530c1fb20abe  1007  9fefed0a981dcb7a     NaN     NaN     wsbq   \n",
       "1  52abe1e300a8aa10   100               NaN     NaN     NaN     wte7   \n",
       "\n",
       "  trans_type2       market_code  market_type           ip1_sub  \n",
       "0       102.0  2ecf94369847c748          1.0  45f4ca1f4e9b9cb7  \n",
       "1       105.0               NaN          NaN  2b416f1d7e89ad3b  \n",
       "\n",
       "[2 rows x 27 columns]"
      ]
     },
     "execution_count": 8,
     "metadata": {},
     "output_type": "execute_result"
    }
   ],
   "source": [
    "train_transaction.head(2)"
   ]
  },
  {
   "cell_type": "code",
   "execution_count": 9,
   "metadata": {},
   "outputs": [
    {
     "data": {
      "text/plain": [
       "(161965, 27)"
      ]
     },
     "execution_count": 9,
     "metadata": {},
     "output_type": "execute_result"
    }
   ],
   "source": [
    "train_transaction.shape"
   ]
  },
  {
   "cell_type": "code",
   "execution_count": 10,
   "metadata": {},
   "outputs": [],
   "source": [
    "train_transaction = train_transaction.drop_duplicates([\"UID\"], keep=\"last\")"
   ]
  },
  {
   "cell_type": "code",
   "execution_count": 11,
   "metadata": {},
   "outputs": [
    {
     "data": {
      "text/plain": [
       "(13013, 27)"
      ]
     },
     "execution_count": 11,
     "metadata": {},
     "output_type": "execute_result"
    }
   ],
   "source": [
    "train_transaction.shape"
   ]
  },
  {
   "cell_type": "code",
   "execution_count": 19,
   "metadata": {},
   "outputs": [],
   "source": [
    "train = pd.merge(train_operation,train_transaction, on=\"UID\", how=\"outer\")"
   ]
  },
  {
   "cell_type": "code",
   "execution_count": 21,
   "metadata": {},
   "outputs": [
    {
     "data": {
      "text/plain": [
       "(13422, 46)"
      ]
     },
     "execution_count": 21,
     "metadata": {},
     "output_type": "execute_result"
    }
   ],
   "source": [
    "train.shape"
   ]
  },
  {
   "cell_type": "code",
   "execution_count": 22,
   "metadata": {},
   "outputs": [],
   "source": [
    "tag_train = pd.read_csv(\"../data/tag_TRAIN.csv\")"
   ]
  },
  {
   "cell_type": "code",
   "execution_count": 23,
   "metadata": {},
   "outputs": [
    {
     "data": {
      "text/plain": [
       "(13422, 2)"
      ]
     },
     "execution_count": 23,
     "metadata": {},
     "output_type": "execute_result"
    }
   ],
   "source": [
    "tag_train.shape"
   ]
  },
  {
   "cell_type": "markdown",
   "metadata": {},
   "source": [
    "### 将训练集中的operation_TRAIN和transaction_TRAIN合并，并去重"
   ]
  },
  {
   "cell_type": "code",
   "execution_count": 2,
   "metadata": {},
   "outputs": [],
   "source": [
    "import pandas as pd\n",
    "import numpy as np"
   ]
  },
  {
   "cell_type": "code",
   "execution_count": 3,
   "metadata": {},
   "outputs": [],
   "source": [
    "operation_TRAIN = pd.read_csv(\"../data/operation_TRAIN.csv\")\n",
    "transaction_TRAIN = pd.read_csv(\"../data/transaction_TRAIN.csv\")"
   ]
  },
  {
   "cell_type": "code",
   "execution_count": 4,
   "metadata": {},
   "outputs": [],
   "source": [
    "operation_TRAIN_dup = operation_TRAIN.drop_duplicates([\"UID\"], keep=\"last\")"
   ]
  },
  {
   "cell_type": "code",
   "execution_count": 5,
   "metadata": {},
   "outputs": [],
   "source": [
    "transaction_TRAIN_dup = transaction_TRAIN.drop_duplicates([\"UID\"], keep=\"last\")"
   ]
  },
  {
   "cell_type": "code",
   "execution_count": 6,
   "metadata": {},
   "outputs": [],
   "source": [
    "train_X = pd.merge(operation_TRAIN_dup, transaction_TRAIN_dup, on=\"UID\", how=\"outer\")"
   ]
  },
  {
   "cell_type": "code",
   "execution_count": 7,
   "metadata": {},
   "outputs": [
    {
     "data": {
      "text/plain": [
       "(13422, 46)"
      ]
     },
     "execution_count": 7,
     "metadata": {},
     "output_type": "execute_result"
    }
   ],
   "source": [
    "train_X.shape"
   ]
  },
  {
   "cell_type": "code",
   "execution_count": 8,
   "metadata": {},
   "outputs": [],
   "source": [
    "tag_train = pd.read_csv(\"../data/tag_TRAIN.csv\")"
   ]
  },
  {
   "cell_type": "code",
   "execution_count": 9,
   "metadata": {},
   "outputs": [],
   "source": [
    "train = pd.merge(train_X, tag_train, on=\"UID\", how=\"outer\")"
   ]
  },
  {
   "cell_type": "code",
   "execution_count": 10,
   "metadata": {},
   "outputs": [
    {
     "data": {
      "text/html": [
       "<div>\n",
       "<style scoped>\n",
       "    .dataframe tbody tr th:only-of-type {\n",
       "        vertical-align: middle;\n",
       "    }\n",
       "\n",
       "    .dataframe tbody tr th {\n",
       "        vertical-align: top;\n",
       "    }\n",
       "\n",
       "    .dataframe thead th {\n",
       "        text-align: right;\n",
       "    }\n",
       "</style>\n",
       "<table border=\"1\" class=\"dataframe\">\n",
       "  <thead>\n",
       "    <tr style=\"text-align: right;\">\n",
       "      <th></th>\n",
       "      <th>UID</th>\n",
       "      <th>day_x</th>\n",
       "      <th>mode</th>\n",
       "      <th>success</th>\n",
       "      <th>time_x</th>\n",
       "      <th>os</th>\n",
       "      <th>version</th>\n",
       "      <th>device1_x</th>\n",
       "      <th>device2_x</th>\n",
       "      <th>device_code1_x</th>\n",
       "      <th>...</th>\n",
       "      <th>bal</th>\n",
       "      <th>amt_src2</th>\n",
       "      <th>acc_id2</th>\n",
       "      <th>acc_id3</th>\n",
       "      <th>geo_code_y</th>\n",
       "      <th>trans_type2</th>\n",
       "      <th>market_code</th>\n",
       "      <th>market_type</th>\n",
       "      <th>ip1_sub_y</th>\n",
       "      <th>Tag</th>\n",
       "    </tr>\n",
       "  </thead>\n",
       "  <tbody>\n",
       "    <tr>\n",
       "      <th>0</th>\n",
       "      <td>19923</td>\n",
       "      <td>20.0</td>\n",
       "      <td>bf79b3647c0878eb</td>\n",
       "      <td>1.0</td>\n",
       "      <td>11:09:53</td>\n",
       "      <td>102.0</td>\n",
       "      <td>7.0.9</td>\n",
       "      <td>d2cf44cec09806cc</td>\n",
       "      <td>VIVO X20A</td>\n",
       "      <td>cceec3b85966e235</td>\n",
       "      <td>...</td>\n",
       "      <td>100.0</td>\n",
       "      <td>NaN</td>\n",
       "      <td>NaN</td>\n",
       "      <td>NaN</td>\n",
       "      <td>ww03</td>\n",
       "      <td>105.0</td>\n",
       "      <td>NaN</td>\n",
       "      <td>NaN</td>\n",
       "      <td>d272ccd7577d0dda</td>\n",
       "      <td>0</td>\n",
       "    </tr>\n",
       "    <tr>\n",
       "      <th>1</th>\n",
       "      <td>20534</td>\n",
       "      <td>29.0</td>\n",
       "      <td>e806d126013b42d1</td>\n",
       "      <td>1.0</td>\n",
       "      <td>11:16:20</td>\n",
       "      <td>102.0</td>\n",
       "      <td>7.0.9</td>\n",
       "      <td>09baf2f39bc3dc86</td>\n",
       "      <td>PLE-703L</td>\n",
       "      <td>4e064bb19a0c0a64</td>\n",
       "      <td>...</td>\n",
       "      <td>100.0</td>\n",
       "      <td>9a8ee16bde15e38a</td>\n",
       "      <td>NaN</td>\n",
       "      <td>NaN</td>\n",
       "      <td>wr5c</td>\n",
       "      <td>105.0</td>\n",
       "      <td>NaN</td>\n",
       "      <td>NaN</td>\n",
       "      <td>616a079994b20717</td>\n",
       "      <td>0</td>\n",
       "    </tr>\n",
       "  </tbody>\n",
       "</table>\n",
       "<p>2 rows × 47 columns</p>\n",
       "</div>"
      ],
      "text/plain": [
       "     UID  day_x              mode  success    time_x     os version  \\\n",
       "0  19923   20.0  bf79b3647c0878eb      1.0  11:09:53  102.0   7.0.9   \n",
       "1  20534   29.0  e806d126013b42d1      1.0  11:16:20  102.0   7.0.9   \n",
       "\n",
       "          device1_x  device2_x    device_code1_x ...    bal          amt_src2  \\\n",
       "0  d2cf44cec09806cc  VIVO X20A  cceec3b85966e235 ...  100.0               NaN   \n",
       "1  09baf2f39bc3dc86   PLE-703L  4e064bb19a0c0a64 ...  100.0  9a8ee16bde15e38a   \n",
       "\n",
       "  acc_id2 acc_id3 geo_code_y trans_type2 market_code market_type  \\\n",
       "0     NaN     NaN       ww03       105.0         NaN         NaN   \n",
       "1     NaN     NaN       wr5c       105.0         NaN         NaN   \n",
       "\n",
       "          ip1_sub_y Tag  \n",
       "0  d272ccd7577d0dda   0  \n",
       "1  616a079994b20717   0  \n",
       "\n",
       "[2 rows x 47 columns]"
      ]
     },
     "execution_count": 10,
     "metadata": {},
     "output_type": "execute_result"
    }
   ],
   "source": [
    "train.head(2)"
   ]
  },
  {
   "cell_type": "markdown",
   "metadata": {},
   "source": [
    "### 将测试集中的operation_round1和transaction_round1合并，并去重"
   ]
  },
  {
   "cell_type": "code",
   "execution_count": 11,
   "metadata": {},
   "outputs": [],
   "source": [
    "operation_round1 = pd.read_csv(\"../data/operation_round1.csv\")\n",
    "transaction_round1 = pd.read_csv(\"../data/transaction_round1.csv\")"
   ]
  },
  {
   "cell_type": "code",
   "execution_count": 15,
   "metadata": {},
   "outputs": [],
   "source": [
    "operation_round1_dup = operation_round1.drop_duplicates([\"UID\"], keep=\"last\")"
   ]
  },
  {
   "cell_type": "code",
   "execution_count": 16,
   "metadata": {},
   "outputs": [],
   "source": [
    "transaction_round1_dup = transaction_round1.drop_duplicates([\"UID\"], keep=\"last\")"
   ]
  },
  {
   "cell_type": "code",
   "execution_count": 17,
   "metadata": {},
   "outputs": [],
   "source": [
    "test_C = pd.merge(operation_round1_dup, transaction_round1_dup, on=\"UID\", how=\"outer\")"
   ]
  },
  {
   "cell_type": "code",
   "execution_count": 18,
   "metadata": {},
   "outputs": [
    {
     "data": {
      "text/plain": [
       "(13434, 46)"
      ]
     },
     "execution_count": 18,
     "metadata": {},
     "output_type": "execute_result"
    }
   ],
   "source": [
    "test_C.shape"
   ]
  },
  {
   "cell_type": "code",
   "execution_count": 23,
   "metadata": {},
   "outputs": [],
   "source": [
    "test_C = test_C.sort_values(\"UID\")"
   ]
  },
  {
   "cell_type": "code",
   "execution_count": 25,
   "metadata": {},
   "outputs": [
    {
     "data": {
      "text/html": [
       "<div>\n",
       "<style scoped>\n",
       "    .dataframe tbody tr th:only-of-type {\n",
       "        vertical-align: middle;\n",
       "    }\n",
       "\n",
       "    .dataframe tbody tr th {\n",
       "        vertical-align: top;\n",
       "    }\n",
       "\n",
       "    .dataframe thead th {\n",
       "        text-align: right;\n",
       "    }\n",
       "</style>\n",
       "<table border=\"1\" class=\"dataframe\">\n",
       "  <thead>\n",
       "    <tr style=\"text-align: right;\">\n",
       "      <th></th>\n",
       "      <th>UID</th>\n",
       "      <th>day_x</th>\n",
       "      <th>mode</th>\n",
       "      <th>success</th>\n",
       "      <th>time_x</th>\n",
       "      <th>os</th>\n",
       "      <th>version</th>\n",
       "      <th>device1_x</th>\n",
       "      <th>device2_x</th>\n",
       "      <th>device_code1_x</th>\n",
       "      <th>...</th>\n",
       "      <th>ip1_y</th>\n",
       "      <th>bal</th>\n",
       "      <th>amt_src2</th>\n",
       "      <th>acc_id2</th>\n",
       "      <th>acc_id3</th>\n",
       "      <th>geo_code_y</th>\n",
       "      <th>trans_type2</th>\n",
       "      <th>market_code</th>\n",
       "      <th>market_type</th>\n",
       "      <th>ip1_sub_y</th>\n",
       "    </tr>\n",
       "  </thead>\n",
       "  <tbody>\n",
       "    <tr>\n",
       "      <th>2435</th>\n",
       "      <td>30000</td>\n",
       "      <td>25.0</td>\n",
       "      <td>d25caee90b27fa9b</td>\n",
       "      <td>1.0</td>\n",
       "      <td>20:02:49</td>\n",
       "      <td>103.0</td>\n",
       "      <td>7.0.7</td>\n",
       "      <td>ce26b1cbdc4db90e</td>\n",
       "      <td>NaN</td>\n",
       "      <td>NaN</td>\n",
       "      <td>...</td>\n",
       "      <td>a172170f881898b9</td>\n",
       "      <td>100.0</td>\n",
       "      <td>9a8ee16bde15e38a</td>\n",
       "      <td>NaN</td>\n",
       "      <td>NaN</td>\n",
       "      <td>wmsy</td>\n",
       "      <td>105.0</td>\n",
       "      <td>NaN</td>\n",
       "      <td>NaN</td>\n",
       "      <td>02c53c843e93fcd4</td>\n",
       "    </tr>\n",
       "    <tr>\n",
       "      <th>1084</th>\n",
       "      <td>30001</td>\n",
       "      <td>21.0</td>\n",
       "      <td>c8741ce15ceac2a4</td>\n",
       "      <td>1.0</td>\n",
       "      <td>19:05:34</td>\n",
       "      <td>102.0</td>\n",
       "      <td>7.1.3</td>\n",
       "      <td>49dd36968dbfadda</td>\n",
       "      <td>OPPO A59M</td>\n",
       "      <td>19e2d1b6868609c8</td>\n",
       "      <td>...</td>\n",
       "      <td>NaN</td>\n",
       "      <td>100.0</td>\n",
       "      <td>NaN</td>\n",
       "      <td>NaN</td>\n",
       "      <td>NaN</td>\n",
       "      <td>NaN</td>\n",
       "      <td>103.0</td>\n",
       "      <td>NaN</td>\n",
       "      <td>NaN</td>\n",
       "      <td>NaN</td>\n",
       "    </tr>\n",
       "  </tbody>\n",
       "</table>\n",
       "<p>2 rows × 46 columns</p>\n",
       "</div>"
      ],
      "text/plain": [
       "        UID  day_x              mode  success    time_x     os version  \\\n",
       "2435  30000   25.0  d25caee90b27fa9b      1.0  20:02:49  103.0   7.0.7   \n",
       "1084  30001   21.0  c8741ce15ceac2a4      1.0  19:05:34  102.0   7.1.3   \n",
       "\n",
       "             device1_x  device2_x    device_code1_x        ...         \\\n",
       "2435  ce26b1cbdc4db90e        NaN               NaN        ...          \n",
       "1084  49dd36968dbfadda  OPPO A59M  19e2d1b6868609c8        ...          \n",
       "\n",
       "                 ip1_y    bal          amt_src2 acc_id2 acc_id3 geo_code_y  \\\n",
       "2435  a172170f881898b9  100.0  9a8ee16bde15e38a     NaN     NaN       wmsy   \n",
       "1084               NaN  100.0               NaN     NaN     NaN        NaN   \n",
       "\n",
       "     trans_type2 market_code market_type         ip1_sub_y  \n",
       "2435       105.0         NaN         NaN  02c53c843e93fcd4  \n",
       "1084       103.0         NaN         NaN               NaN  \n",
       "\n",
       "[2 rows x 46 columns]"
      ]
     },
     "execution_count": 25,
     "metadata": {},
     "output_type": "execute_result"
    }
   ],
   "source": [
    "test_C.head(2)"
   ]
  },
  {
   "cell_type": "code",
   "execution_count": 29,
   "metadata": {},
   "outputs": [],
   "source": [
    "train.to_csv(\"../data/train_C.csv\", index=False)"
   ]
  },
  {
   "cell_type": "code",
   "execution_count": 33,
   "metadata": {},
   "outputs": [
    {
     "data": {
      "text/plain": [
       "0    11:09:53\n",
       "1    11:16:20\n",
       "2    09:40:25\n",
       "3    12:40:29\n",
       "4    16:23:16\n",
       "Name: time_x, dtype: object"
      ]
     },
     "execution_count": 33,
     "metadata": {},
     "output_type": "execute_result"
    }
   ],
   "source": [
    "time_x = train.time_x\n",
    "time_x.head(5)"
   ]
  },
  {
   "cell_type": "code",
   "execution_count": null,
   "metadata": {},
   "outputs": [],
   "source": []
  },
  {
   "cell_type": "code",
   "execution_count": 54,
   "metadata": {},
   "outputs": [],
   "source": [
    "operation_round1 = pd.read_csv(\"../data/operation_round1.csv\")\n",
    "transaction_round1 = pd.read_csv(\"../data/transaction_round1.csv\")\n",
    "operation_round1 = operation_round1.drop_duplicates([\"UID\"], keep=\"last\")\n",
    "transaction_round1 = transaction_round1.drop_duplicates([\"UID\"], keep=\"last\")\n",
    "test_C = pd.merge(operation_round1, transaction_round1, on=\"UID\", how=\"inner\")"
   ]
  },
  {
   "cell_type": "code",
   "execution_count": 52,
   "metadata": {},
   "outputs": [
    {
     "data": {
      "text/plain": [
       "(13434, 46)"
      ]
     },
     "execution_count": 52,
     "metadata": {},
     "output_type": "execute_result"
    }
   ],
   "source": [
    "test_C.shape"
   ]
  },
  {
   "cell_type": "code",
   "execution_count": 55,
   "metadata": {},
   "outputs": [],
   "source": [
    "test_C[\"hour_x\"] = test_C.time_x.apply(lambda  x: x.split(\":\")[0])\n",
    "test_C[\"minutes_x\"] = test_C.time_x.apply(lambda  x: x.split(\":\")[1])\n",
    "test_C[\"hour_y\"] = test_C.time_y.apply(lambda  x: x.split(\":\")[0])\n",
    "test_C[\"minutes_y\"] = test_C.time_y.apply(lambda  x: x.split(\":\")[1])"
   ]
  },
  {
   "cell_type": "code",
   "execution_count": 56,
   "metadata": {},
   "outputs": [
    {
     "data": {
      "text/plain": [
       "(9809, 50)"
      ]
     },
     "execution_count": 56,
     "metadata": {},
     "output_type": "execute_result"
    }
   ],
   "source": []
  },
  {
   "cell_type": "code",
   "execution_count": 62,
   "metadata": {},
   "outputs": [],
   "source": [
    "operation_TRAIN = pd.read_csv(\"../data/operation_TRAIN.csv\")\n",
    "transaction_TRAIN = pd.read_csv(\"../data/transaction_TRAIN.csv\")\n",
    "tag_TRAIN = pd.read_csv(\"../data/tag_TRAIN.csv\")\n",
    "operation_TRAIN = operation_TRAIN.drop_duplicates(\"UID\", keep=\"last\")\n",
    "transaction_TRAIN = transaction_TRAIN.drop_duplicates(\"UID\", keep=\"last\")\n",
    "train_X = pd.merge(operation_TRAIN, transaction_TRAIN, on=\"UID\", how=\"outer\")\n",
    "train = pd.merge(train_X, tag_TRAIN, on=\"UID\", how=\"left\")"
   ]
  },
  {
   "cell_type": "code",
   "execution_count": 63,
   "metadata": {},
   "outputs": [
    {
     "data": {
      "text/plain": [
       "(13422, 46)"
      ]
     },
     "execution_count": 63,
     "metadata": {},
     "output_type": "execute_result"
    }
   ],
   "source": [
    "train_X.shape"
   ]
  },
  {
   "cell_type": "code",
   "execution_count": null,
   "metadata": {},
   "outputs": [],
   "source": []
  },
  {
   "cell_type": "code",
   "execution_count": null,
   "metadata": {},
   "outputs": [],
   "source": []
  },
  {
   "cell_type": "code",
   "execution_count": null,
   "metadata": {},
   "outputs": [],
   "source": []
  },
  {
   "cell_type": "code",
   "execution_count": null,
   "metadata": {},
   "outputs": [],
   "source": []
  },
  {
   "cell_type": "code",
   "execution_count": 50,
   "metadata": {},
   "outputs": [],
   "source": [
    "def splitime(strtime, idx):\n",
    "    \n",
    "    hour, minutes = strtime.split(\":\")[0:2]\n",
    "    caches = [hour, minutes]\n",
    "    \n",
    "    return caches[idx]"
   ]
  },
  {
   "cell_type": "code",
   "execution_count": null,
   "metadata": {},
   "outputs": [],
   "source": []
  },
  {
   "cell_type": "code",
   "execution_count": 33,
   "metadata": {},
   "outputs": [],
   "source": [
    "import pandas as pd\n",
    "import numpy as np\n",
    "import time"
   ]
  },
  {
   "cell_type": "code",
   "execution_count": 40,
   "metadata": {},
   "outputs": [],
   "source": [
    "operation_TRAIN = pd.read_csv(\"../data/operation_TRAIN.csv\")\n",
    "transaction_TRAIN = pd.read_csv(\"../data/transaction_TRAIN.csv\")\n",
    "tag_TRAIN = pd.read_csv(\"../data/tag_TRAIN.csv\")"
   ]
  },
  {
   "cell_type": "code",
   "execution_count": 41,
   "metadata": {},
   "outputs": [],
   "source": [
    "operation_TRAIN = operation_TRAIN.drop_duplicates(\"UID\", keep=\"last\")\n",
    "transaction_TRAIN = transaction_TRAIN.drop_duplicates(\"UID\", keep=\"last\")\n",
    "train_X = pd.merge(operation_TRAIN, transaction_TRAIN, on=\"UID\", how=\"inner\")"
   ]
  },
  {
   "cell_type": "code",
   "execution_count": 42,
   "metadata": {},
   "outputs": [],
   "source": [
    "train_X[\"hour_x\"] = train_X.time_x.apply(lambda  x: x.split(\":\")[0])\n",
    "train_X[\"minutes_x\"] = train_X.time_x.apply(lambda  x: x.split(\":\")[1])\n",
    "train_X[\"hour_y\"] = train_X.time_y.apply(lambda  x: x.split(\":\")[0])\n",
    "train_X[\"minutes_y\"] = train_X.time_y.apply(lambda  x: x.split(\":\")[1])"
   ]
  },
  {
   "cell_type": "code",
   "execution_count": 43,
   "metadata": {},
   "outputs": [
    {
     "data": {
      "text/plain": [
       "(11570, 48)"
      ]
     },
     "execution_count": 43,
     "metadata": {},
     "output_type": "execute_result"
    }
   ],
   "source": [
    "train_X = train_X.drop([\"time_x\", \"time_y\"], axis=1)\n",
    "train_X.shape"
   ]
  },
  {
   "cell_type": "code",
   "execution_count": 44,
   "metadata": {},
   "outputs": [],
   "source": [
    "train = pd.merge(train_X, tag_TRAIN, on=\"UID\", how=\"left\")"
   ]
  },
  {
   "cell_type": "code",
   "execution_count": 45,
   "metadata": {},
   "outputs": [
    {
     "data": {
      "text/plain": [
       "(11570, 49)"
      ]
     },
     "execution_count": 45,
     "metadata": {},
     "output_type": "execute_result"
    }
   ],
   "source": [
    "train.shape"
   ]
  },
  {
   "cell_type": "code",
   "execution_count": 46,
   "metadata": {},
   "outputs": [
    {
     "data": {
      "text/html": [
       "<div>\n",
       "<style scoped>\n",
       "    .dataframe tbody tr th:only-of-type {\n",
       "        vertical-align: middle;\n",
       "    }\n",
       "\n",
       "    .dataframe tbody tr th {\n",
       "        vertical-align: top;\n",
       "    }\n",
       "\n",
       "    .dataframe thead th {\n",
       "        text-align: right;\n",
       "    }\n",
       "</style>\n",
       "<table border=\"1\" class=\"dataframe\">\n",
       "  <thead>\n",
       "    <tr style=\"text-align: right;\">\n",
       "      <th></th>\n",
       "      <th>UID</th>\n",
       "      <th>day_x</th>\n",
       "      <th>mode</th>\n",
       "      <th>success</th>\n",
       "      <th>os</th>\n",
       "      <th>version</th>\n",
       "      <th>device1_x</th>\n",
       "      <th>device2_x</th>\n",
       "      <th>device_code1_x</th>\n",
       "      <th>device_code2_x</th>\n",
       "      <th>...</th>\n",
       "      <th>geo_code_y</th>\n",
       "      <th>trans_type2</th>\n",
       "      <th>market_code</th>\n",
       "      <th>market_type</th>\n",
       "      <th>ip1_sub_y</th>\n",
       "      <th>hour_x</th>\n",
       "      <th>minutes_x</th>\n",
       "      <th>hour_y</th>\n",
       "      <th>minutes_y</th>\n",
       "      <th>Tag</th>\n",
       "    </tr>\n",
       "  </thead>\n",
       "  <tbody>\n",
       "    <tr>\n",
       "      <th>0</th>\n",
       "      <td>19923</td>\n",
       "      <td>20</td>\n",
       "      <td>bf79b3647c0878eb</td>\n",
       "      <td>1.0</td>\n",
       "      <td>102</td>\n",
       "      <td>7.0.9</td>\n",
       "      <td>d2cf44cec09806cc</td>\n",
       "      <td>VIVO X20A</td>\n",
       "      <td>cceec3b85966e235</td>\n",
       "      <td>d64aa4f53518dd2e</td>\n",
       "      <td>...</td>\n",
       "      <td>ww03</td>\n",
       "      <td>105.0</td>\n",
       "      <td>NaN</td>\n",
       "      <td>NaN</td>\n",
       "      <td>d272ccd7577d0dda</td>\n",
       "      <td>11</td>\n",
       "      <td>09</td>\n",
       "      <td>11</td>\n",
       "      <td>17</td>\n",
       "      <td>0</td>\n",
       "    </tr>\n",
       "    <tr>\n",
       "      <th>1</th>\n",
       "      <td>20534</td>\n",
       "      <td>29</td>\n",
       "      <td>e806d126013b42d1</td>\n",
       "      <td>1.0</td>\n",
       "      <td>102</td>\n",
       "      <td>7.0.9</td>\n",
       "      <td>09baf2f39bc3dc86</td>\n",
       "      <td>PLE-703L</td>\n",
       "      <td>4e064bb19a0c0a64</td>\n",
       "      <td>fd6d00daf66ccecd</td>\n",
       "      <td>...</td>\n",
       "      <td>wr5c</td>\n",
       "      <td>105.0</td>\n",
       "      <td>NaN</td>\n",
       "      <td>NaN</td>\n",
       "      <td>616a079994b20717</td>\n",
       "      <td>11</td>\n",
       "      <td>16</td>\n",
       "      <td>11</td>\n",
       "      <td>22</td>\n",
       "      <td>0</td>\n",
       "    </tr>\n",
       "  </tbody>\n",
       "</table>\n",
       "<p>2 rows × 49 columns</p>\n",
       "</div>"
      ],
      "text/plain": [
       "     UID  day_x              mode  success   os version         device1_x  \\\n",
       "0  19923     20  bf79b3647c0878eb      1.0  102   7.0.9  d2cf44cec09806cc   \n",
       "1  20534     29  e806d126013b42d1      1.0  102   7.0.9  09baf2f39bc3dc86   \n",
       "\n",
       "   device2_x    device_code1_x    device_code2_x ...  geo_code_y trans_type2  \\\n",
       "0  VIVO X20A  cceec3b85966e235  d64aa4f53518dd2e ...        ww03       105.0   \n",
       "1   PLE-703L  4e064bb19a0c0a64  fd6d00daf66ccecd ...        wr5c       105.0   \n",
       "\n",
       "  market_code market_type         ip1_sub_y hour_x minutes_x hour_y minutes_y  \\\n",
       "0         NaN         NaN  d272ccd7577d0dda     11        09     11        17   \n",
       "1         NaN         NaN  616a079994b20717     11        16     11        22   \n",
       "\n",
       "   Tag  \n",
       "0    0  \n",
       "1    0  \n",
       "\n",
       "[2 rows x 49 columns]"
      ]
     },
     "execution_count": 46,
     "metadata": {},
     "output_type": "execute_result"
    }
   ],
   "source": [
    "train.head(2)"
   ]
  },
  {
   "cell_type": "code",
   "execution_count": 75,
   "metadata": {},
   "outputs": [],
   "source": [
    "columns = train.columns\n"
   ]
  },
  {
   "cell_type": "code",
   "execution_count": 72,
   "metadata": {},
   "outputs": [],
   "source": [
    "tags = [\"Tag\"]"
   ]
  },
  {
   "cell_type": "code",
   "execution_count": 77,
   "metadata": {},
   "outputs": [],
   "source": [
    "cols = columns.drop(tags)"
   ]
  },
  {
   "cell_type": "code",
   "execution_count": 78,
   "metadata": {},
   "outputs": [
    {
     "data": {
      "text/plain": [
       "Index(['UID', 'day_x', 'mode', 'success', 'time_x', 'os', 'version',\n",
       "       'device1_x', 'device2_x', 'device_code1_x', 'device_code2_x',\n",
       "       'device_code3_x', 'mac1_x', 'mac2', 'ip1_x', 'ip2', 'wifi',\n",
       "       'geo_code_x', 'ip1_sub_x', 'ip2_sub', 'channel', 'day_y', 'time_y',\n",
       "       'trans_amt', 'amt_src1', 'merchant', 'code1', 'code2', 'trans_type1',\n",
       "       'acc_id1', 'device_code1_y', 'device_code2_y', 'device_code3_y',\n",
       "       'device1_y', 'device2_y', 'mac1_y', 'ip1_y', 'bal', 'amt_src2',\n",
       "       'acc_id2', 'acc_id3', 'geo_code_y', 'trans_type2', 'market_code',\n",
       "       'market_type', 'ip1_sub_y'],\n",
       "      dtype='object')"
      ]
     },
     "execution_count": 78,
     "metadata": {},
     "output_type": "execute_result"
    }
   ],
   "source": [
    "cols"
   ]
  },
  {
   "cell_type": "code",
   "execution_count": null,
   "metadata": {},
   "outputs": [],
   "source": []
  },
  {
   "cell_type": "code",
   "execution_count": 5,
   "metadata": {},
   "outputs": [],
   "source": [
    "import time\n",
    "import pandas as pd\n",
    "from sklearn.linear_model import LogisticRegression\n",
    "from sklearn.model_selection import train_test_split\n",
    "import lightgbm as lgb\n",
    "from sklearn.preprocessing import MinMaxScaler\n",
    "from sklearn.metrics import log_loss\n",
    "import gc\n",
    "import matplotlib.pyplot as plt\n",
    "from sklearn.metrics import roc_curve, auc"
   ]
  },
  {
   "cell_type": "code",
   "execution_count": 6,
   "metadata": {},
   "outputs": [],
   "source": [
    "def prepro():\n",
    "    \n",
    "    print(\"读取数据...\")\n",
    "    operation_TRAIN = pd.read_csv(\"../data/operation_TRAIN.csv\")\n",
    "    transaction_TRAIN = pd.read_csv(\"../data/transaction_TRAIN.csv\")\n",
    "    tag_TRAIN = pd.read_csv(\"../data/tag_TRAIN.csv\")\n",
    "    operation_TRAIN = operation_TRAIN.drop_duplicates(\"UID\", keep=\"last\")\n",
    "    transaction_TRAIN = transaction_TRAIN.drop_duplicates(\"UID\", keep=\"last\")\n",
    "    train_X = pd.merge(operation_TRAIN, transaction_TRAIN, on=\"UID\", how=\"outer\")\n",
    "    train = pd.merge(train_X, tag_TRAIN, on=\"UID\", how=\"left\")\n",
    "    train = train.sort_values(\"UID\")\n",
    "    \n",
    "    operation_round1 = pd.read_csv(\"../data/operation_round1.csv\")\n",
    "    transaction_round1 = pd.read_csv(\"../data/transaction_round1.csv\")\n",
    "    operation_round1 = operation_round1.drop_duplicates([\"UID\"], keep=\"last\")\n",
    "    transaction_round1 = transaction_round1.drop_duplicates([\"UID\"], keep=\"last\")\n",
    "    test_C = pd.merge(operation_round1, transaction_round1, on=\"UID\", how=\"outer\")\n",
    "    test_C = test_C.sort_values(\"UID\")\n",
    "\n",
    "    print(\"读取结束...\")\n",
    "    \n",
    "    train.drop([\"UID\"], axis=1, inplace=True)\n",
    "    test_C.drop([\"UID\"], axis=1, inplace=True)\n",
    "    test_C[\"Tag\"] = -1\n",
    "    data = pd.concat([train, test_C])\n",
    "    data = data.drop([\"time_x\", \"time_y\"], axis=1)\n",
    "    data = data.fillna(-1)\n",
    "\n",
    "    return data\n",
    "    \n",
    "    "
   ]
  },
  {
   "cell_type": "code",
   "execution_count": 7,
   "metadata": {},
   "outputs": [],
   "source": [
    "def gbdt_lr_predict(data, dis_feature, con_feature):\n",
    "    \"\"\"离散特征one-hot\"\"\"\n",
    "    print(\"开始one-hot...\")\n",
    "    for col in dis_feature:\n",
    "        onehot_feats = pd.get_dummies(data[col], prefix=col)\n",
    "        data.drop([col], axis=1, inplace=True)\n",
    "        data = pd.concat([data, onehot_feats], axis=1)\n",
    "    print(\"one-hot结束\")\n",
    "    \n",
    "    train = data[data[\"Tag\"] != -1]\n",
    "    target = train.pop(\"Tag\")\n",
    "    test = data[data[\"Tag\"] == -1]\n",
    "    test.drop([\"Tag\"], axis=1, inplace=True)\n",
    "    \n",
    "    print(\"划分数据集...\")\n",
    "    x_train, x_val, y_train, y_val = train_test_split(train, target, test_size=0.2, random_state=2018)\n",
    "    \n",
    "    print(\"开始训练gbdt...\")\n",
    "    gbm = lgb.LGBMRegressor(objective=\"binary\",\n",
    "                            subsample=0.8,\n",
    "                            min_child_weight=0.2,\n",
    "                            colsample_bytree=0.8,\n",
    "                            num_leaves=100,\n",
    "                            max_depth=20,\n",
    "                            learning_rate=0.01,\n",
    "                            n_estimators=200,\n",
    "                            n_jobs=-1)\n",
    "    gbm.fit(x_train, y_train, \n",
    "            eval_set=[(x_train, y_train), (x_val, y_val)],\n",
    "            eval_names=[\"train\", \"val\"],\n",
    "            eval_metric=\"binary_logloss\")\n",
    "    model = gbm.booster_\n",
    "    print(\"训练得到叶子数...\")\n",
    "    gbdt_feats_train = model.predict(train, pred_leaf=True)\n",
    "    gbdt_feats_test = model.predict(test, pred_leaf=True)\n",
    "    gbdt_feats_name = [\"gbdt_leaf_\" + str(i) for i in range(gbdt_feats_train.shape[1])]\n",
    "    df_train_gbdt_feats = pd.DataFrame(gbdt_feats_train, columns=gbdt_feats_name)\n",
    "    df_test_gbdt_feats = pd.DataFrame(gbdt_feats_test, columns=gbdt_feats_name)\n",
    "\n",
    "    \n",
    "    print(\"构造新的数据集...\")\n",
    "    train = pd.concat([train, df_train_gbdt_feats], axis=1)\n",
    "    test = pd.concat([test, df_test_gbdt_feats], axis=1)\n",
    "    train_len = train.shape[0]\n",
    "    data = pd.concat([train, test])\n",
    "    del train\n",
    "    del test\n",
    "    gc.collect()\n",
    "    \n",
    "    \n",
    "    \"\"\"连续特征归一化\"\"\"\n",
    "    print(\"开始归一化...\")\n",
    "    scaler = MinMaxScaler()\n",
    "    for col in con_feature:\n",
    "        data[col] = scaler.fit_transform(data[col].values.reshape(-1, 1))\n",
    "    print(\"归一化结束\")\n",
    "    \n",
    "    \"\"\"叶子数One-Hot\"\"\"\n",
    "    print(\"开始one-hot...\")\n",
    "    for col in gbdt_feats_name:\n",
    "        print(\"this is feature:\", col)\n",
    "        onehot_feats = pd.get_dummies(data[col], prefix=col)\n",
    "        data.drop([col], axis=1, inplace=True)\n",
    "        data = pd.concat([data, onehot_feats], axis=1)\n",
    "    print(\"one-hot结束\")\n",
    "    \n",
    "    train = data[ :train_len]\n",
    "    test = data[train_len: ]\n",
    "    del data\n",
    "    gc.collect()\n",
    "    \n",
    "    x_train, x_val, y_train, y_val = train_test_split(train, target, test_size=0.3, random_state=2018)\n",
    "    print(\"开始训练lr...\")\n",
    "    lr = LogisticRegression()\n",
    "    lr.fit(x_train, y_train)\n",
    "    tr_logloss = log_loss(y_train, lr.predict_proba(x_train)[:, 1])\n",
    "    print(\"tr-logloss:\", tr_logloss)\n",
    "    val_logloss = log_loss(y_val, lr.predict_proba(x_val)[:, 1])\n",
    "    print(\"val-logloss:\", val_logloss)\n",
    "    \n",
    "    \n",
    "    fpr, tpr, threshold = roc_curve(y_val, lr.predict_proba(x_val)[:, 1])\n",
    "    roc_auc = auc(fpr, tpr)\n",
    "    lw = 2\n",
    "    plt.plot(fpr, tpr, color=\"darkorange\", lw=lw, label=\"ROC curve (area = %0.5f)\" % roc_auc)\n",
    "    plt.plot([0, 1], [0, 1], color=\"navy\", lw=lw, linestyle=\"--\")  \n",
    "    plt.xlim([0.0, 1.0])  \n",
    "    plt.ylim([0.0, 1.05])  \n",
    "    plt.xlabel(\"False Positive Rate\")  \n",
    "    plt.ylabel(\"True Positive Rate\")  \n",
    "    plt.title( \"gbdt_lr\"+ \"ROC\")  \n",
    "    plt.legend(loc=\"lower right\")\n",
    "    plt.show()\n",
    "    \n",
    "    \n",
    "    \n",
    "    \n",
    "    print(\"开始预测...\")\n",
    "    y_pred = lr.predict_proba(test)[:, 1]\n",
    "    print(\"写入结果...\")\n",
    "    submission = pd.DataFrame({\"UID\": test.UID, \"Tag\": y_pred})\n",
    "    submission.to_csv(\"./submission/submission_gbdt+lr_trlogloss_%s_vallogloss_%s.csv\" % (tr_logloss, val_logloss), index=False)\n",
    "    print(\"结束\")\n",
    "    \n",
    "    "
   ]
  },
  {
   "cell_type": "code",
   "execution_count": null,
   "metadata": {},
   "outputs": [],
   "source": [
    "if __name__ == \"__main__\":\n",
    "    print(\"time start:\\n\")\n",
    "    print(time.clock() / 60)\n",
    "    \n",
    "    data = prepro()\n",
    "    feature = data.columns.drop(\"Tag\")\n",
    "    col_feature = [\"day_x\", \"day_y\", \"bal\", \"trans_amt\"]\n",
    "    dis_feature = feature.drop(col_feature)\n",
    "    gbdt_lr_predict(data, dis_feature, col_feature)\n",
    "\n",
    "    print('time end')\n",
    "    print(time.clock()/60)"
   ]
  },
  {
   "cell_type": "code",
   "execution_count": 9,
   "metadata": {},
   "outputs": [],
   "source": [
    "import warnings\n",
    "from sklearn import preprocessing\n",
    "warnings.filterwarnings(\"ignore\")\n",
    "import time\n",
    "import pandas as pd\n",
    "import numpy as np\n",
    "import matplotlib.pyplot as plt\n",
    "from sklearn.metrics import roc_curve, auc\n",
    "from sklearn.model_selection import train_test_split\n",
    "import xgboost as xgb\n",
    "from datetime import datetime"
   ]
  },
  {
   "cell_type": "code",
   "execution_count": 10,
   "metadata": {},
   "outputs": [],
   "source": [
    "operation_TRAIN = pd.read_csv(\"../data/operation_TRAIN.csv\")\n",
    "transaction_TRAIN = pd.read_csv(\"../data/transaction_TRAIN.csv\")\n",
    "tag_TRAIN = pd.read_csv(\"../data/tag_TRAIN.csv\")\n",
    "operation_TRAIN = operation_TRAIN.drop_duplicates(\"UID\", keep=\"last\")\n",
    "transaction_TRAIN = transaction_TRAIN.drop_duplicates(\"UID\", keep=\"last\")\n",
    "train_X = pd.merge(operation_TRAIN, transaction_TRAIN, on=\"UID\", how=\"outer\")\n",
    "train = pd.merge(train_X, tag_TRAIN, on=\"UID\", how=\"left\")\n",
    "train = train.sort_values(\"UID\")\n",
    "train = train.drop([\"time_x\", \"time_y\"], axis=1)\n",
    "\n",
    "operation_round1 = pd.read_csv(\"../data/operation_round1.csv\")\n",
    "transaction_round1 = pd.read_csv(\"../data/transaction_round1.csv\")\n",
    "operation_round1 = operation_round1.drop_duplicates([\"UID\"], keep=\"last\")\n",
    "transaction_round1 = transaction_round1.drop_duplicates([\"UID\"], keep=\"last\")\n",
    "test_C = pd.merge(operation_round1, transaction_round1, on=\"UID\", how=\"outer\")\n",
    "test_C = test_C.sort_values(\"UID\")\n",
    "test_C = test_C.drop([\"time_x\", \"time_y\"], axis=1)\n",
    "\n",
    "test_C[\"Tag\"] = -1\n",
    "data = pd.concat([train, test_C])\n"
   ]
  },
  {
   "cell_type": "code",
   "execution_count": 17,
   "metadata": {},
   "outputs": [
    {
     "data": {
      "text/plain": [
       "(13434, 45)"
      ]
     },
     "execution_count": 17,
     "metadata": {},
     "output_type": "execute_result"
    }
   ],
   "source": [
    "test_C.shape"
   ]
  },
  {
   "cell_type": "code",
   "execution_count": 30,
   "metadata": {},
   "outputs": [],
   "source": [
    "feature = data.columns.drop([\"UID\", \"Tag\"])\n",
    "col_feat = [\"day_x\", \"day_y\", \"bal\", \"trans_amt\"]\n",
    "dis_feat = feature.drop(col_feat)"
   ]
  },
  {
   "cell_type": "code",
   "execution_count": 36,
   "metadata": {},
   "outputs": [
    {
     "ename": "KeyError",
     "evalue": "\"Index(['mode', 'success', 'os', 'version', 'device1_x', 'device2_x',\\n       'device_code1_x', 'device_code2_x', 'device_code3_x', 'mac1_x', 'mac2',\\n       'ip1_x', 'ip2', 'wifi', 'geo_code_x', 'ip1_sub_x', 'ip2_sub', 'channel',\\n       'amt_src1', 'merchant', 'code1', 'code2', 'trans_type1', 'acc_id1',\\n       'device_code1_y', 'device_code2_y', 'device_code3_y', 'device1_y',\\n       'device2_y', 'mac1_y', 'ip1_y', 'amt_src2', 'acc_id2', 'acc_id3',\\n       'geo_code_y', 'trans_type2', 'market_code', 'market_type', 'ip1_sub_y'],\\n      dtype='object') not in index\"",
     "output_type": "error",
     "traceback": [
      "\u001b[1;31m---------------------------------------------------------------------------\u001b[0m",
      "\u001b[1;31mKeyError\u001b[0m                                  Traceback (most recent call last)",
      "\u001b[1;32m<ipython-input-36-146cc3856d2a>\u001b[0m in \u001b[0;36m<module>\u001b[1;34m()\u001b[0m\n\u001b[0;32m      1\u001b[0m \u001b[1;32mfrom\u001b[0m \u001b[0msklearn\u001b[0m\u001b[1;33m.\u001b[0m\u001b[0mpreprocessing\u001b[0m \u001b[1;32mimport\u001b[0m \u001b[0mOneHotEncoder\u001b[0m\u001b[1;33m\u001b[0m\u001b[0m\n\u001b[0;32m      2\u001b[0m \u001b[0menc\u001b[0m \u001b[1;33m=\u001b[0m \u001b[0mOneHotEncoder\u001b[0m\u001b[1;33m(\u001b[0m\u001b[1;33m)\u001b[0m\u001b[1;33m\u001b[0m\u001b[0m\n\u001b[1;32m----> 3\u001b[1;33m \u001b[0menc\u001b[0m\u001b[1;33m.\u001b[0m\u001b[0mfit\u001b[0m\u001b[1;33m(\u001b[0m\u001b[0mdata\u001b[0m\u001b[1;33m[\u001b[0m\u001b[0mdis_feat\u001b[0m\u001b[1;33m]\u001b[0m\u001b[1;33m)\u001b[0m\u001b[1;33m\u001b[0m\u001b[0m\n\u001b[0m\u001b[0;32m      4\u001b[0m \u001b[0mdata\u001b[0m \u001b[1;33m=\u001b[0m \u001b[0mpd\u001b[0m\u001b[1;33m.\u001b[0m\u001b[0mconcat\u001b[0m\u001b[1;33m(\u001b[0m\u001b[1;33m[\u001b[0m\u001b[0mdata\u001b[0m\u001b[1;33m,\u001b[0m \u001b[0mpd\u001b[0m\u001b[1;33m.\u001b[0m\u001b[0mDataFrame\u001b[0m\u001b[1;33m(\u001b[0m\u001b[0menc\u001b[0m\u001b[1;33m.\u001b[0m\u001b[0mtransform\u001b[0m\u001b[1;33m(\u001b[0m\u001b[0mdata\u001b[0m\u001b[1;33m[\u001b[0m\u001b[0mdis_feat\u001b[0m\u001b[1;33m]\u001b[0m\u001b[1;33m)\u001b[0m\u001b[1;33m.\u001b[0m\u001b[0mtoarray\u001b[0m\u001b[1;33m(\u001b[0m\u001b[1;33m)\u001b[0m\u001b[1;33m)\u001b[0m\u001b[1;33m]\u001b[0m\u001b[1;33m,\u001b[0m \u001b[0maxis\u001b[0m\u001b[1;33m=\u001b[0m\u001b[1;36m1\u001b[0m\u001b[1;33m)\u001b[0m\u001b[1;33m\u001b[0m\u001b[0m\n",
      "\u001b[1;32mC:\\python3\\lib\\site-packages\\pandas\\core\\frame.py\u001b[0m in \u001b[0;36m__getitem__\u001b[1;34m(self, key)\u001b[0m\n\u001b[0;32m   2677\u001b[0m         \u001b[1;32mif\u001b[0m \u001b[0misinstance\u001b[0m\u001b[1;33m(\u001b[0m\u001b[0mkey\u001b[0m\u001b[1;33m,\u001b[0m \u001b[1;33m(\u001b[0m\u001b[0mSeries\u001b[0m\u001b[1;33m,\u001b[0m \u001b[0mnp\u001b[0m\u001b[1;33m.\u001b[0m\u001b[0mndarray\u001b[0m\u001b[1;33m,\u001b[0m \u001b[0mIndex\u001b[0m\u001b[1;33m,\u001b[0m \u001b[0mlist\u001b[0m\u001b[1;33m)\u001b[0m\u001b[1;33m)\u001b[0m\u001b[1;33m:\u001b[0m\u001b[1;33m\u001b[0m\u001b[0m\n\u001b[0;32m   2678\u001b[0m             \u001b[1;31m# either boolean or fancy integer index\u001b[0m\u001b[1;33m\u001b[0m\u001b[1;33m\u001b[0m\u001b[0m\n\u001b[1;32m-> 2679\u001b[1;33m             \u001b[1;32mreturn\u001b[0m \u001b[0mself\u001b[0m\u001b[1;33m.\u001b[0m\u001b[0m_getitem_array\u001b[0m\u001b[1;33m(\u001b[0m\u001b[0mkey\u001b[0m\u001b[1;33m)\u001b[0m\u001b[1;33m\u001b[0m\u001b[0m\n\u001b[0m\u001b[0;32m   2680\u001b[0m         \u001b[1;32melif\u001b[0m \u001b[0misinstance\u001b[0m\u001b[1;33m(\u001b[0m\u001b[0mkey\u001b[0m\u001b[1;33m,\u001b[0m \u001b[0mDataFrame\u001b[0m\u001b[1;33m)\u001b[0m\u001b[1;33m:\u001b[0m\u001b[1;33m\u001b[0m\u001b[0m\n\u001b[0;32m   2681\u001b[0m             \u001b[1;32mreturn\u001b[0m \u001b[0mself\u001b[0m\u001b[1;33m.\u001b[0m\u001b[0m_getitem_frame\u001b[0m\u001b[1;33m(\u001b[0m\u001b[0mkey\u001b[0m\u001b[1;33m)\u001b[0m\u001b[1;33m\u001b[0m\u001b[0m\n",
      "\u001b[1;32mC:\\python3\\lib\\site-packages\\pandas\\core\\frame.py\u001b[0m in \u001b[0;36m_getitem_array\u001b[1;34m(self, key)\u001b[0m\n\u001b[0;32m   2721\u001b[0m             \u001b[1;32mreturn\u001b[0m \u001b[0mself\u001b[0m\u001b[1;33m.\u001b[0m\u001b[0m_take\u001b[0m\u001b[1;33m(\u001b[0m\u001b[0mindexer\u001b[0m\u001b[1;33m,\u001b[0m \u001b[0maxis\u001b[0m\u001b[1;33m=\u001b[0m\u001b[1;36m0\u001b[0m\u001b[1;33m)\u001b[0m\u001b[1;33m\u001b[0m\u001b[0m\n\u001b[0;32m   2722\u001b[0m         \u001b[1;32melse\u001b[0m\u001b[1;33m:\u001b[0m\u001b[1;33m\u001b[0m\u001b[0m\n\u001b[1;32m-> 2723\u001b[1;33m             \u001b[0mindexer\u001b[0m \u001b[1;33m=\u001b[0m \u001b[0mself\u001b[0m\u001b[1;33m.\u001b[0m\u001b[0mloc\u001b[0m\u001b[1;33m.\u001b[0m\u001b[0m_convert_to_indexer\u001b[0m\u001b[1;33m(\u001b[0m\u001b[0mkey\u001b[0m\u001b[1;33m,\u001b[0m \u001b[0maxis\u001b[0m\u001b[1;33m=\u001b[0m\u001b[1;36m1\u001b[0m\u001b[1;33m)\u001b[0m\u001b[1;33m\u001b[0m\u001b[0m\n\u001b[0m\u001b[0;32m   2724\u001b[0m             \u001b[1;32mreturn\u001b[0m \u001b[0mself\u001b[0m\u001b[1;33m.\u001b[0m\u001b[0m_take\u001b[0m\u001b[1;33m(\u001b[0m\u001b[0mindexer\u001b[0m\u001b[1;33m,\u001b[0m \u001b[0maxis\u001b[0m\u001b[1;33m=\u001b[0m\u001b[1;36m1\u001b[0m\u001b[1;33m)\u001b[0m\u001b[1;33m\u001b[0m\u001b[0m\n\u001b[0;32m   2725\u001b[0m \u001b[1;33m\u001b[0m\u001b[0m\n",
      "\u001b[1;32mC:\\python3\\lib\\site-packages\\pandas\\core\\indexing.py\u001b[0m in \u001b[0;36m_convert_to_indexer\u001b[1;34m(self, obj, axis, is_setter)\u001b[0m\n\u001b[0;32m   1325\u001b[0m                 \u001b[1;32mif\u001b[0m \u001b[0mmask\u001b[0m\u001b[1;33m.\u001b[0m\u001b[0many\u001b[0m\u001b[1;33m(\u001b[0m\u001b[1;33m)\u001b[0m\u001b[1;33m:\u001b[0m\u001b[1;33m\u001b[0m\u001b[0m\n\u001b[0;32m   1326\u001b[0m                     raise KeyError('{mask} not in index'\n\u001b[1;32m-> 1327\u001b[1;33m                                    .format(mask=objarr[mask]))\n\u001b[0m\u001b[0;32m   1328\u001b[0m \u001b[1;33m\u001b[0m\u001b[0m\n\u001b[0;32m   1329\u001b[0m                 \u001b[1;32mreturn\u001b[0m \u001b[0mcom\u001b[0m\u001b[1;33m.\u001b[0m\u001b[0m_values_from_object\u001b[0m\u001b[1;33m(\u001b[0m\u001b[0mindexer\u001b[0m\u001b[1;33m)\u001b[0m\u001b[1;33m\u001b[0m\u001b[0m\n",
      "\u001b[1;31mKeyError\u001b[0m: \"Index(['mode', 'success', 'os', 'version', 'device1_x', 'device2_x',\\n       'device_code1_x', 'device_code2_x', 'device_code3_x', 'mac1_x', 'mac2',\\n       'ip1_x', 'ip2', 'wifi', 'geo_code_x', 'ip1_sub_x', 'ip2_sub', 'channel',\\n       'amt_src1', 'merchant', 'code1', 'code2', 'trans_type1', 'acc_id1',\\n       'device_code1_y', 'device_code2_y', 'device_code3_y', 'device1_y',\\n       'device2_y', 'mac1_y', 'ip1_y', 'amt_src2', 'acc_id2', 'acc_id3',\\n       'geo_code_y', 'trans_type2', 'market_code', 'market_type', 'ip1_sub_y'],\\n      dtype='object') not in index\""
     ]
    }
   ],
   "source": [
    "from sklearn.preprocessing import OneHotEncoder\n",
    "enc = OneHotEncoder()\n",
    "enc.fit(data[dis_feat])\n",
    "data = pd.concat([data, pd.DataFrame(enc.transform(data[dis_feat]).toarray())], axis=1)"
   ]
  },
  {
   "cell_type": "code",
   "execution_count": 32,
   "metadata": {},
   "outputs": [
    {
     "data": {
      "text/html": [
       "<div>\n",
       "<style scoped>\n",
       "    .dataframe tbody tr th:only-of-type {\n",
       "        vertical-align: middle;\n",
       "    }\n",
       "\n",
       "    .dataframe tbody tr th {\n",
       "        vertical-align: top;\n",
       "    }\n",
       "\n",
       "    .dataframe thead th {\n",
       "        text-align: right;\n",
       "    }\n",
       "</style>\n",
       "<table border=\"1\" class=\"dataframe\">\n",
       "  <thead>\n",
       "    <tr style=\"text-align: right;\">\n",
       "      <th></th>\n",
       "      <th>UID</th>\n",
       "      <th>day_x</th>\n",
       "      <th>mode</th>\n",
       "      <th>success</th>\n",
       "      <th>os</th>\n",
       "      <th>version</th>\n",
       "      <th>device1_x</th>\n",
       "      <th>device2_x</th>\n",
       "      <th>device_code1_x</th>\n",
       "      <th>device_code2_x</th>\n",
       "      <th>...</th>\n",
       "      <th>bal</th>\n",
       "      <th>amt_src2</th>\n",
       "      <th>acc_id2</th>\n",
       "      <th>acc_id3</th>\n",
       "      <th>geo_code_y</th>\n",
       "      <th>trans_type2</th>\n",
       "      <th>market_code</th>\n",
       "      <th>market_type</th>\n",
       "      <th>ip1_sub_y</th>\n",
       "      <th>Tag</th>\n",
       "    </tr>\n",
       "  </thead>\n",
       "  <tbody>\n",
       "    <tr>\n",
       "      <th>9064</th>\n",
       "      <td>10000</td>\n",
       "      <td>13.0</td>\n",
       "      <td>52</td>\n",
       "      <td>1</td>\n",
       "      <td>2</td>\n",
       "      <td>16</td>\n",
       "      <td>996</td>\n",
       "      <td>397</td>\n",
       "      <td>14568</td>\n",
       "      <td>14139</td>\n",
       "      <td>...</td>\n",
       "      <td>100.0</td>\n",
       "      <td>59</td>\n",
       "      <td>2584</td>\n",
       "      <td>2614</td>\n",
       "      <td>2</td>\n",
       "      <td>3</td>\n",
       "      <td>259</td>\n",
       "      <td>2301</td>\n",
       "      <td>1354</td>\n",
       "      <td>1</td>\n",
       "    </tr>\n",
       "    <tr>\n",
       "      <th>11787</th>\n",
       "      <td>10001</td>\n",
       "      <td>7.0</td>\n",
       "      <td>48</td>\n",
       "      <td>1</td>\n",
       "      <td>1</td>\n",
       "      <td>11</td>\n",
       "      <td>64</td>\n",
       "      <td>341</td>\n",
       "      <td>13074</td>\n",
       "      <td>1388</td>\n",
       "      <td>...</td>\n",
       "      <td>72118.0</td>\n",
       "      <td>60</td>\n",
       "      <td>2584</td>\n",
       "      <td>2614</td>\n",
       "      <td>1709</td>\n",
       "      <td>0</td>\n",
       "      <td>259</td>\n",
       "      <td>16226</td>\n",
       "      <td>1462</td>\n",
       "      <td>0</td>\n",
       "    </tr>\n",
       "  </tbody>\n",
       "</table>\n",
       "<p>2 rows × 45 columns</p>\n",
       "</div>"
      ],
      "text/plain": [
       "         UID  day_x  mode  success  os  version  device1_x  device2_x  \\\n",
       "9064   10000   13.0    52        1   2       16        996        397   \n",
       "11787  10001    7.0    48        1   1       11         64        341   \n",
       "\n",
       "       device_code1_x  device_code2_x ...       bal  amt_src2  acc_id2  \\\n",
       "9064            14568           14139 ...     100.0        59     2584   \n",
       "11787           13074            1388 ...   72118.0        60     2584   \n",
       "\n",
       "       acc_id3  geo_code_y  trans_type2  market_code  market_type  ip1_sub_y  \\\n",
       "9064      2614           2            3          259         2301       1354   \n",
       "11787     2614        1709            0          259        16226       1462   \n",
       "\n",
       "       Tag  \n",
       "9064     1  \n",
       "11787    0  \n",
       "\n",
       "[2 rows x 45 columns]"
      ]
     },
     "execution_count": 32,
     "metadata": {},
     "output_type": "execute_result"
    }
   ],
   "source": [
    "data.head(2)"
   ]
  },
  {
   "cell_type": "code",
   "execution_count": null,
   "metadata": {},
   "outputs": [],
   "source": []
  },
  {
   "cell_type": "code",
   "execution_count": null,
   "metadata": {},
   "outputs": [],
   "source": []
  },
  {
   "cell_type": "code",
   "execution_count": null,
   "metadata": {},
   "outputs": [],
   "source": []
  },
  {
   "cell_type": "code",
   "execution_count": null,
   "metadata": {},
   "outputs": [],
   "source": []
  },
  {
   "cell_type": "code",
   "execution_count": null,
   "metadata": {},
   "outputs": [],
   "source": []
  },
  {
   "cell_type": "code",
   "execution_count": null,
   "metadata": {},
   "outputs": [],
   "source": []
  },
  {
   "cell_type": "code",
   "execution_count": null,
   "metadata": {},
   "outputs": [],
   "source": []
  }
 ],
 "metadata": {
  "kernelspec": {
   "display_name": "Python 3",
   "language": "python",
   "name": "python3"
  },
  "language_info": {
   "codemirror_mode": {
    "name": "ipython",
    "version": 3
   },
   "file_extension": ".py",
   "mimetype": "text/x-python",
   "name": "python",
   "nbconvert_exporter": "python",
   "pygments_lexer": "ipython3",
   "version": "3.6.5"
  }
 },
 "nbformat": 4,
 "nbformat_minor": 2
}
