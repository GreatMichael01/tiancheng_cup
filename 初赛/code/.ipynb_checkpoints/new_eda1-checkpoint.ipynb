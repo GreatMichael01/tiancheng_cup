{
 "cells": [
  {
   "cell_type": "code",
   "execution_count": 1,
   "metadata": {},
   "outputs": [],
   "source": [
    "import pandas as pd\n",
    "import numpy as np\n",
    "from sklearn import preprocessing"
   ]
  },
  {
   "cell_type": "markdown",
   "metadata": {},
   "source": [
    "#### 读取operation_train_new,和operation_round1_new数据"
   ]
  },
  {
   "cell_type": "code",
   "execution_count": 2,
   "metadata": {},
   "outputs": [],
   "source": [
    "operation_train = pd.read_csv(\"../data/operation_train_new.csv\")\n",
    "operation_round1 = pd.read_csv(\"../data/operation_round1_new.csv\")\n",
    "operation = pd.concat([operation_train, operation_round1], axis=0)"
   ]
  },
  {
   "cell_type": "code",
   "execution_count": 3,
   "metadata": {},
   "outputs": [
    {
     "data": {
      "text/plain": [
       "(3229892, 20)"
      ]
     },
     "execution_count": 3,
     "metadata": {},
     "output_type": "execute_result"
    }
   ],
   "source": [
    "operation.shape"
   ]
  },
  {
   "cell_type": "markdown",
   "metadata": {},
   "source": [
    "#### 对operation_train时间进行处理"
   ]
  },
  {
   "cell_type": "code",
   "execution_count": 4,
   "metadata": {},
   "outputs": [],
   "source": [
    "operation[\"time\"] = operation[\"time\"].fillna(value=\"00:00:00\")\n",
    "operation[\"hour\"] = operation.time.apply(lambda x: x.split(\":\")[0]).astype(int)\n",
    "operation[\"minutes\"] = operation.time.apply(lambda x: x.split(\":\")[1]).astype(int)"
   ]
  },
  {
   "cell_type": "code",
   "execution_count": 5,
   "metadata": {},
   "outputs": [
    {
     "data": {
      "text/plain": [
       "(3229892, 22)"
      ]
     },
     "execution_count": 5,
     "metadata": {},
     "output_type": "execute_result"
    }
   ],
   "source": [
    "operation.shape"
   ]
  },
  {
   "cell_type": "markdown",
   "metadata": {},
   "source": [
    "#### 对数据One-Hot"
   ]
  },
  {
   "cell_type": "code",
   "execution_count": 6,
   "metadata": {},
   "outputs": [],
   "source": [
    "operation = operation.drop([\"time\"], axis=1)\n",
    "feature = operation.columns.drop([\"UID\"])\n",
    "for col in feature:\n",
    "    lbl = preprocessing.LabelEncoder()\n",
    "    operation[col] = lbl.fit_transform(list(operation[col].values))"
   ]
  },
  {
   "cell_type": "markdown",
   "metadata": {},
   "source": [
    "#### 对operation_new数据开发新特征"
   ]
  },
  {
   "cell_type": "code",
   "execution_count": 7,
   "metadata": {},
   "outputs": [
    {
     "name": "stderr",
     "output_type": "stream",
     "text": [
      "D:\\python3\\lib\\site-packages\\pandas\\core\\reshape\\merge.py:969: UserWarning: You are merging on int and float columns where the float values are not equal to their int representation\n",
      "  'representation', UserWarning)\n"
     ]
    }
   ],
   "source": [
    "opera = operation\n",
    "gby = opera.groupby([\"UID\"], as_index=False)\n",
    "opera_sum = gby.sum()\n",
    "opera_sum.columns = ['UID', 'day_sum', 'mode_sum', 'success_sum', 'os_sum', 'version_sum', 'device1_sum',\n",
    "                     'device2_sum', 'device_code1_sum', 'device_code2_sum', 'device_code3_sum', \n",
    "                     'mac1_sum', 'mac2_sum', 'ip1_sum', 'ip2_sum', 'wifi_sum', 'geo_code_sum', \n",
    "                     'ip1_sub_sum', 'ip2_sub_sum', 'hour_sum', 'minutes_sum']\n",
    "data1 = pd.merge(opera, opera_sum, how=\"left\", on=\"UID\")\n",
    "\n",
    "opera_count = gby.count()\n",
    "opera_count.columns = ['UID', 'day_count', 'mode_count', 'success_count', 'os_count', 'version_count',\n",
    "                       'device1_count','device2_count', 'device_code1_count', 'device_code2_count', \n",
    "                       'device_code3_count', 'mac1_count','mac2_count', 'ip1_count', 'ip2_count',\n",
    "                       'wifi_count', 'geo_code_count', 'ip1_sub_count', 'ip2_sub_count','hour_count',\n",
    "                       'minutes_count']\n",
    "data1 = pd.merge(data1, opera_count, how=\"left\", on=\"UID\")\n",
    "\n",
    "opera_max = gby.max()\n",
    "opera_max.columns = ['UID', 'day_max', 'mode_max', 'success_max', 'os_max', 'version_max', 'device1_max',\n",
    "                     'device2_max', 'device_code1_max', 'device_code2_max', 'device_code3_max', \n",
    "                     'mac1_max','mac2_max', 'ip1_max', 'ip2_max', 'wifi_max', 'geo_code_max', \n",
    "                     'ip1_sub_max', 'ip2_sub_max','hour_max', 'minutes_max']\n",
    "data1 = pd.merge(data1, opera_max, how=\"left\", on=\"UID\")\n",
    "\n",
    "opera_min = gby.min()\n",
    "opera_min.columns = ['UID', 'day_min', 'mode_min', 'success_min', 'os_min', 'version_min', 'device1_min',\n",
    "                         'device2_min', 'device_code1_min', 'device_code2_min', 'device_code3_min', 'mac1_min',\n",
    "                         'mac2_min', 'ip1_min', 'ip2_min', 'wifi_min', 'geo_code_min', 'ip1_sub_min', 'ip2_sub_min',\n",
    "                         'hour_min', 'minutes_min']\n",
    "data1 = pd.merge(data1, opera_min, how=\"left\", on=\"UID\")\n",
    "\n",
    "opera_mean = gby.mean()\n",
    "opera_mean.columns = ['UID', 'day_mean', 'mode_mean', 'success_mean', 'os_mean', 'version_mean', 'device1_mean',\n",
    "                         'device2_mean', 'device_code1_mean', 'device_code2_mean', 'device_code3_mean', 'mac1_mean',\n",
    "                         'mac2_mean', 'ip1_mean', 'ip2_mean', 'wifi_mean', 'geo_code_mean', 'ip1_sub_mean', 'ip2_sub_mean',\n",
    "                         'hour_mean', 'minutes_mean']\n",
    "data1 = pd.merge(data1, opera_mean, how=\"left\", on=\"UID\")\n",
    "\n",
    "opera_median = gby.median()\n",
    "opera_median.columns = ['UID', 'day_median', 'mode_median', 'success_median', 'os_median', 'version_median', 'device1_median',\n",
    "                         'device2_median', 'device_code1_median', 'device_code2_median', 'device_code3_median', 'mac1_median',\n",
    "                         'mac2_median', 'ip1_median', 'ip2_median', 'wifi_median', 'geo_code_median', 'ip1_sub_median', 'ip2_sub_median',\n",
    "                         'hour_median', 'minutes_median']\n",
    "data1 = pd.merge(data1, opera_median, how=\"left\", on=\"UID\")\n",
    "\n",
    "opera_std = gby.std()\n",
    "opera_std.columns = ['UID', 'day_std', 'mode_std', 'success_std', 'os_std', 'version_std', 'device1_std',\n",
    "                         'device2_std', 'device_code1_std', 'device_code2_std', 'device_code3_std', 'mac1_std',\n",
    "                         'mac2_std', 'ip1_std', 'ip2_std', 'wifi_std', 'geo_code_std', 'ip1_sub_std', 'ip2_sub_std',\n",
    "                         'hour_std', 'minutes_std']\n",
    "data1 = pd.merge(data1, opera_std, how=\"left\", on=\"UID\")\n",
    "\n",
    "opera_var = gby.var()\n",
    "opera_var.columns = ['UID', 'day_var', 'mode_var', 'success_var', 'os_var', 'version_var', 'device1_var',\n",
    "                         'device2_var', 'device_code1_var', 'device_code2_var', 'device_code3_var', 'mac1_var',\n",
    "                         'mac2_var', 'ip1_var', 'ip2_var', 'wifi_var', 'geo_code_var', 'ip1_sub_var', 'ip2_sub_var',\n",
    "                         'hour_var', 'minutes_var']\n",
    "data1 = pd.merge(data1, opera_var, how=\"left\", on=\"UID\")"
   ]
  },
  {
   "cell_type": "code",
   "execution_count": 8,
   "metadata": {},
   "outputs": [],
   "source": [
    "opera_data1 = data1.drop_duplicates(\"UID\", keep=\"last\")"
   ]
  },
  {
   "cell_type": "code",
   "execution_count": 9,
   "metadata": {},
   "outputs": [
    {
     "data": {
      "text/plain": [
       "(57615, 181)"
      ]
     },
     "execution_count": 9,
     "metadata": {},
     "output_type": "execute_result"
    }
   ],
   "source": [
    "opera_data1.shape"
   ]
  },
  {
   "cell_type": "markdown",
   "metadata": {},
   "source": [
    "#### 对operation补充新特征"
   ]
  },
  {
   "cell_type": "code",
   "execution_count": 10,
   "metadata": {},
   "outputs": [],
   "source": [
    "opera = operation\n",
    "day_gby = opera.groupby([\"day\"], as_index=False)\n",
    "opera_day_count = day_gby.count()\n",
    "opera_day_count.columns = ['UID', 'day_day_count', 'day_mode_count', 'day_success_count', 'day_os_count',\n",
    "                           'day_version_count','day_device1_count','day_device2_count', \n",
    "                           'day_device_code1_count', 'day_device_code2_count', 'day_device_code3_count',\n",
    "                           'day_mac1_count','day_mac2_count', 'day_ip1_count', 'day_ip2_count',\n",
    "                           'day_wifi_count', 'day_geo_code_count', 'day_ip1_sub_count', \n",
    "                           'day_ip2_sub_count','day_hour_count','day_minutes_count']\n",
    "data2 = pd.merge(opera_data1, opera_day_count, how=\"left\", on=\"UID\")\n",
    "\n",
    "mode_gby=opera.groupby([\"mode\"], as_index=False)\n",
    "opera_mode_count = mode_gby.count()\n",
    "opera_mode_count.columns = ['UID', 'mode_day_count', 'mode_mode_count', 'mode_success_count', \n",
    "                          'mode_os_count','mode_version_count','mode_device1_count',\n",
    "                          'mode_device2_count', 'mode_device_code1_count', 'mode_device_code2_count',\n",
    "                          'mode_device_code3_count','mode_mac1_count','mode_mac2_count', \n",
    "                          'mode_ip1_count', 'mode_ip2_count','mode_wifi_count', 'mode_geo_code_count',\n",
    "                          'mode_ip1_sub_count', 'mode_ip2_sub_count','mode_hour_count',\n",
    "                          'mode_minutes_count']\n",
    "data2 = pd.merge(data2, opera_mode_count, how=\"left\", on=\"UID\")\n",
    "\n",
    "success_gby=opera.groupby([\"success\"], as_index=False)\n",
    "opera_success_count = success_gby.count()\n",
    "opera_success_count.columns = ['UID', 'success_day_count', 'success_mode_count', 'success_success_count', \n",
    "                          'success_os_count','success_version_count','success_device1_count',\n",
    "                          'success_device2_count', 'success_device_code1_count', 'success_device_code2_count',\n",
    "                          'success_device_code3_count','success_mac1_count','success_mac2_count', \n",
    "                          'success_ip1_count', 'success_ip2_count','success_wifi_count', 'success_geo_code_count',\n",
    "                          'success_ip1_sub_count', 'success_ip2_sub_count','success_hour_count',\n",
    "                          'success_minutes_count']\n",
    "data2 = pd.merge(data2, opera_success_count, how=\"left\", on=\"UID\")\n",
    "\n",
    "os_gby=opera.groupby([\"os\"], as_index=False)\n",
    "opera_os_count = os_gby.count()\n",
    "opera_os_count.columns = ['UID', 'os_day_count', 'os_mode_count', 'os_success_count', \n",
    "                          'os_os_count','os_version_count','os_device1_count',\n",
    "                          'os_device2_count', 'os_device_code1_count', 'os_device_code2_count',\n",
    "                          'os_device_code3_count','os_mac1_count','os_mac2_count', \n",
    "                          'os_ip1_count', 'os_ip2_count','os_wifi_count', 'os_geo_code_count',\n",
    "                          'os_ip1_sub_count', 'os_ip2_sub_count','os_hour_count',\n",
    "                          'os_minutes_count']\n",
    "data2 = pd.merge(data2, opera_os_count, how=\"left\", on=\"UID\")\n",
    "\n",
    "version_gby=opera.groupby([\"version\"], as_index=False)\n",
    "opera_version_count = version_gby.count()\n",
    "opera_version_count.columns = ['UID', 'version_day_count', 'version_mode_count', 'version_success_count', \n",
    "                          'version_os_count','version_version_count','version_device1_count',\n",
    "                          'version_device2_count', 'version_device_code1_count', 'version_device_code2_count',\n",
    "                          'version_device_code3_count','version_mac1_count','version_mac2_count', \n",
    "                          'version_ip1_count', 'version_ip2_count','version_wifi_count', 'version_geo_code_count',\n",
    "                          'version_ip1_sub_count', 'version_ip2_sub_count','version_hour_count',\n",
    "                          'version_minutes_count']\n",
    "data2 = pd.merge(data2, opera_version_count, how=\"left\", on=\"UID\")\n",
    "\n",
    "device1_gby=opera.groupby([\"device1\"], as_index=False)\n",
    "opera_device1_count = device1_gby.count()\n",
    "opera_device1_count.columns = ['UID', 'device1_day_count', 'device1_mode_count', 'device1_success_count',\n",
    "                          'device1_os_count','device1_version_count','device1_device1_count',\n",
    "                          'device1_device2_count', 'device1_device_code1_count', 'device1_device_code2_count',\n",
    "                          'device1_device_code3_count','device1_mac1_count','device1_mac2_count',\n",
    "                          'device1_ip1_count', 'device1_ip2_count','device1_wifi_count', 'device1_geo_code_count',\n",
    "                          'device1_ip1_sub_count', 'device1_ip2_sub_count','device1_hour_count',\n",
    "                          'device1_minutes_count']\n",
    "data2 = pd.merge(data2, opera_device1_count, how=\"left\", on=\"UID\")\n",
    "\n",
    "device2_gby=opera.groupby([\"device2\"], as_index=False)\n",
    "opera_device2_count = device2_gby.count()\n",
    "opera_device2_count.columns = ['UID', 'device2_day_count', 'device2_mode_count', 'device2_success_count',\n",
    "                          'device2_os_count','device2_version_count','device2_device1_count',\n",
    "                          'device2_device2_count', 'device2_device_code1_count', 'device2_device_code2_count',\n",
    "                          'device2_device_code3_count','device2_mac1_count','device2_mac2_count',\n",
    "                          'device2_ip1_count', 'device2_ip2_count','device2_wifi_count', 'device2_geo_code_count',\n",
    "                          'device2_ip1_sub_count', 'device2_ip2_sub_count','device2_hour_count',\n",
    "                          'device2_minutes_count']\n",
    "data2 = pd.merge(data2, opera_device2_count, how=\"left\", on=\"UID\")\n",
    "\n",
    "device_code1_gby=opera.groupby([\"device_code1\"], as_index=False)\n",
    "opera_device_code1_count = device_code1_gby.count()\n",
    "opera_device_code1_count.columns = ['UID', 'device_code1_day_count', 'device_code1_mode_count', 'device_code1_success_count',\n",
    "                          'device_code1_os_count','device_code1_version_count','device_code1_device1_count',\n",
    "                          'device_code1_device2_count', 'device_code1_device_code1_count', 'device_code1_device_code2_count',\n",
    "                          'device_code1_device_code3_count','device_code1_mac1_count','device_code1_mac2_count',\n",
    "                          'device_code1_ip1_count', 'device_code1_ip2_count','device_code1_wifi_count', 'device_code1_geo_code_count',\n",
    "                          'device_code1_ip1_sub_count', 'device_code1_ip2_sub_count','device_code1_hour_count',\n",
    "                          'device_code1_minutes_count']\n",
    "data2 = pd.merge(data2, opera_device_code1_count, how=\"left\", on=\"UID\")\n",
    "\n",
    "device_code2_gby=opera.groupby([\"device_code2\"], as_index=False)\n",
    "opera_device_code2_count = device_code2_gby.count()\n",
    "opera_device_code2_count.columns = ['UID', 'device_code2_day_count', 'device_code2_mode_count', 'device_code2_success_count',\n",
    "                          'device_code2_os_count','device_code2_version_count','device_code2_device1_count',\n",
    "                          'device_code2_device2_count', 'device_code2_device_code1_count', 'device_code2_device_code2_count',\n",
    "                          'device_code2_device_code3_count','device_code2_mac1_count','device_code2_mac2_count',\n",
    "                          'device_code2_ip1_count', 'device_code2_ip2_count','device_code2_wifi_count', 'device_code2_geo_code_count',\n",
    "                          'device_code2_ip1_sub_count', 'device_code2_ip2_sub_count','device_code2_hour_count',\n",
    "                          'device_code2_minutes_count']\n",
    "data2 = pd.merge(data2, opera_device_code2_count, how=\"left\", on=\"UID\")\n",
    "\n",
    "device_code3_gby=opera.groupby([\"device_code3\"], as_index=False)\n",
    "opera_device_code3_count = device_code3_gby.count()\n",
    "opera_device_code3_count.columns = ['UID', 'device_code3_day_count', 'device_code3_mode_count', 'device_code3_success_count',\n",
    "                          'device_code3_os_count','device_code3_version_count','device_code3_device1_count',\n",
    "                          'device_code3_device2_count', 'device_code3_device_code1_count', 'device_code3_device_code2_count',\n",
    "                          'device_code3_device_code3_count','device_code3_mac1_count','device_code3_mac2_count',\n",
    "                          'device_code3_ip1_count', 'device_code3_ip2_count','device_code3_wifi_count', 'device_code3_geo_code_count',\n",
    "                          'device_code3_ip1_sub_count', 'device_code3_ip2_sub_count','device_code3_hour_count',\n",
    "                          'device_code3_minutes_count']\n",
    "data2 = pd.merge(data2, opera_device_code3_count, how=\"left\", on=\"UID\")\n",
    "\n",
    "mac1_gby=opera.groupby([\"mac1\"], as_index=False)\n",
    "opera_mac1_count = mac1_gby.count()\n",
    "opera_mac1_count.columns = ['UID', 'mac1_day_count', 'mac1_mode_count', 'mac1_success_count',\n",
    "                          'mac1_os_count','mac1_version_count','mac1_device1_count',\n",
    "                          'mac1_device2_count', 'mac1_device_code1_count', 'mac1_device_code2_count',\n",
    "                          'mac1_device_code3_count','mac1_mac1_count','mac1_mac2_count',\n",
    "                          'mac1_ip1_count', 'mac1_ip2_count','mac1_wifi_count', 'mac1_geo_code_count',\n",
    "                          'mac1_ip1_sub_count', 'mac1_ip2_sub_count','mac1_hour_count',\n",
    "                          'mac1_minutes_count']\n",
    "data2 = pd.merge(data2, opera_mac1_count, how=\"left\", on=\"UID\")\n",
    "\n",
    "mac2_gby=opera.groupby([\"mac2\"], as_index=False)\n",
    "opera_mac2_count = mac2_gby.count()\n",
    "opera_mac2_count.columns = ['UID', 'mac2_day_count', 'mac2_mode_count', 'mac2_success_count',\n",
    "                          'mac2_os_count','mac2_version_count','mac2_device1_count',\n",
    "                          'mac2_device2_count', 'mac2_device_code1_count', 'mac2_device_code2_count',\n",
    "                          'mac2_device_code3_count','mac2_mac1_count','mac2_mac2_count',\n",
    "                          'mac2_ip1_count', 'mac2_ip2_count','mac2_wifi_count', 'mac2_geo_code_count',\n",
    "                          'mac2_ip1_sub_count', 'mac2_ip2_sub_count','mac2_hour_count',\n",
    "                          'mac2_minutes_count']\n",
    "data2 = pd.merge(data2, opera_mac2_count, how=\"left\", on=\"UID\")\n",
    "\n",
    "ip1_gby=opera.groupby([\"ip1\"], as_index=False)\n",
    "opera_ip1_count = ip1_gby.count()\n",
    "opera_ip1_count.columns = ['UID', 'ip1_day_count', 'ip1_mode_count', 'ip1_success_count',\n",
    "                          'ip1_os_count','ip1_version_count','ip1_device1_count',\n",
    "                          'ip1_device2_count', 'ip1_device_code1_count', 'ip1_device_code2_count',\n",
    "                          'ip1_device_code3_count','ip1_mac1_count','ip1_mac2_count',\n",
    "                          'ip1_ip1_count', 'ip1_ip2_count','ip1_wifi_count', 'ip1_geo_code_count',\n",
    "                          'ip1_ip1_sub_count', 'ip1_ip2_sub_count','ip1_hour_count',\n",
    "                          'ip1_minutes_count']\n",
    "data2 = pd.merge(data2, opera_ip1_count, how=\"left\", on=\"UID\")\n",
    "\n",
    "ip2_gby=opera.groupby([\"ip2\"], as_index=False)\n",
    "opera_ip2_count = ip2_gby.count()\n",
    "opera_ip2_count.columns = ['UID', 'ip2_day_count', 'ip2_mode_count', 'ip2_success_count',\n",
    "                          'ip2_os_count','ip2_version_count','ip2_device1_count',\n",
    "                          'ip2_device2_count', 'ip2_device_code1_count', 'ip2_device_code2_count',\n",
    "                          'ip2_device_code3_count','ip2_mac1_count','ip2_mac2_count',\n",
    "                          'ip2_ip1_count', 'ip2_ip2_count','ip2_wifi_count', 'ip2_geo_code_count',\n",
    "                          'ip2_ip1_sub_count', 'ip2_ip2_sub_count','ip2_hour_count',\n",
    "                          'ip2_minutes_count']\n",
    "data2 = pd.merge(data2, opera_ip2_count, how=\"left\", on=\"UID\")\n",
    "\n",
    "wifi_gby=opera.groupby([\"wifi\"], as_index=False)\n",
    "opera_wifi_count = wifi_gby.count()\n",
    "opera_wifi_count.columns = ['UID', 'wifi_day_count', 'wifi_mode_count', 'wifi_success_count',\n",
    "                          'wifi_os_count','wifi_version_count','wifi_device1_count',\n",
    "                          'wifi_device2_count', 'wifi_device_code1_count', 'wifi_device_code2_count',\n",
    "                          'wifi_device_code3_count','wifi_mac1_count','wifi_mac2_count',\n",
    "                          'wifi_ip1_count', 'wifi_ip2_count','wifi_wifi_count', 'wifi_geo_code_count',\n",
    "                          'wifi_ip1_sub_count', 'wifi_ip2_sub_count','wifi_hour_count',\n",
    "                          'wifi_minutes_count']\n",
    "data2 = pd.merge(data2, opera_wifi_count, how=\"left\", on=\"UID\")\n",
    "\n",
    "geo_code_gby=opera.groupby([\"geo_code\"], as_index=False)\n",
    "opera_geo_code_count = geo_code_gby.count()\n",
    "opera_geo_code_count.columns = ['UID', 'geo_code_day_count', 'geo_code_mode_count', 'geo_code_success_count',\n",
    "                          'geo_code_os_count','geo_code_version_count','geo_code_device1_count',\n",
    "                          'geo_code_device2_count', 'geo_code_device_code1_count', 'geo_code_device_code2_count',\n",
    "                          'geo_code_device_code3_count','geo_code_mac1_count','geo_code_mac2_count',\n",
    "                          'geo_code_ip1_count', 'geo_code_ip2_count','geo_code_wifi_count', 'geo_code_geo_code_count',\n",
    "                          'geo_code_ip1_sub_count', 'geo_code_ip2_sub_count','geo_code_hour_count',\n",
    "                          'geo_code_minutes_count']\n",
    "data2 = pd.merge(data2, opera_geo_code_count, how=\"left\", on=\"UID\")\n",
    "\n",
    "ip1_sub_gby=opera.groupby([\"ip1_sub\"], as_index=False)\n",
    "opera_ip1_sub_count = ip1_sub_gby.count()\n",
    "opera_ip1_sub_count.columns = ['UID', 'ip1_sub_day_count', 'ip1_sub_mode_count', 'ip1_sub_success_count',\n",
    "                          'ip1_sub_os_count','ip1_sub_version_count','ip1_sub_device1_count',\n",
    "                          'ip1_sub_device2_count', 'ip1_sub_device_code1_count', 'ip1_sub_device_code2_count',\n",
    "                          'ip1_sub_device_code3_count','ip1_sub_mac1_count','ip1_sub_mac2_count',\n",
    "                          'ip1_sub_ip1_count', 'ip1_sub_ip2_count','ip1_sub_wifi_count', 'ip1_sub_geo_code_count',\n",
    "                          'ip1_sub_ip1_sub_count', 'ip1_sub_ip2_sub_count','ip1_sub_hour_count',\n",
    "                          'ip1_sub_minutes_count']\n",
    "data2 = pd.merge(data2, opera_ip1_sub_count, how=\"left\", on=\"UID\")\n",
    "\n",
    "ip2_sub_gby=opera.groupby([\"ip2_sub\"], as_index=False)\n",
    "opera_ip2_sub_count = ip2_sub_gby.count()\n",
    "opera_ip2_sub_count.columns = ['UID', 'ip2_sub_day_count', 'ip2_sub_mode_count', 'ip2_sub_success_count',\n",
    "                          'ip2_sub_os_count','ip2_sub_version_count','ip2_sub_device1_count',\n",
    "                          'ip2_sub_device2_count', 'ip2_sub_device_code1_count', 'ip2_sub_device_code2_count',\n",
    "                          'ip2_sub_device_code3_count','ip2_sub_mac1_count','ip2_sub_mac2_count',\n",
    "                          'ip2_sub_ip1_count', 'ip2_sub_ip2_count','ip2_sub_wifi_count', 'ip2_sub_geo_code_count',\n",
    "                          'ip2_sub_ip1_sub_count', 'ip2_sub_ip2_sub_count','ip2_sub_hour_count',\n",
    "                          'ip2_sub_minutes_count']\n",
    "data2 = pd.merge(data2, opera_ip2_sub_count, how=\"left\", on=\"UID\")\n",
    "\n",
    "hour_gby=opera.groupby([\"hour\"], as_index=False)\n",
    "opera_hour_count = hour_gby.count()\n",
    "opera_hour_count.columns = ['UID', 'hour_day_count', 'hour_mode_count', 'hour_success_count',\n",
    "                          'hour_os_count','hour_version_count','hour_device1_count',\n",
    "                          'hour_device2_count', 'hour_device_code1_count', 'hour_device_code2_count',\n",
    "                          'hour_device_code3_count','hour_mac1_count','hour_mac2_count',\n",
    "                          'hour_ip1_count', 'hour_ip2_count','hour_wifi_count', 'hour_geo_code_count',\n",
    "                          'hour_ip1_sub_count', 'hour_ip2_sub_count','hour_hour_count',\n",
    "                          'hour_minutes_count']\n",
    "data2 = pd.merge(data2, opera_hour_count, how=\"left\", on=\"UID\")\n",
    "\n",
    "minutes_gby=opera.groupby([\"minutes\"], as_index=False)\n",
    "opera_minutes_count = minutes_gby.count()\n",
    "opera_minutes_count.columns = ['UID', 'minutes_day_count', 'minutes_mode_count', 'minutes_success_count',\n",
    "                          'minutes_os_count','minutes_version_count','minutes_device1_count',\n",
    "                          'minutes_device2_count', 'minutes_device_code1_count', 'minutes_device_code2_count',\n",
    "                          'minutes_device_code3_count','minutes_mac1_count','minutes_mac2_count',\n",
    "                          'minutes_ip1_count', 'minutes_ip2_count','minutes_wifi_count', 'minutes_geo_code_count',\n",
    "                          'minutes_ip1_sub_count', 'minutes_ip2_sub_count','minutes_hour_count',\n",
    "                          'minutes_minutes_count']\n",
    "data2 = pd.merge(data2, opera_minutes_count, how=\"left\", on=\"UID\")"
   ]
  },
  {
   "cell_type": "code",
   "execution_count": 11,
   "metadata": {},
   "outputs": [
    {
     "data": {
      "text/plain": [
       "(57615, 581)"
      ]
     },
     "execution_count": 11,
     "metadata": {},
     "output_type": "execute_result"
    }
   ],
   "source": [
    "data2.shape"
   ]
  },
  {
   "cell_type": "markdown",
   "metadata": {},
   "source": [
    "#### 读取transaction_train_new,和transaction_round1_new数据"
   ]
  },
  {
   "cell_type": "code",
   "execution_count": 12,
   "metadata": {},
   "outputs": [
    {
     "name": "stderr",
     "output_type": "stream",
     "text": [
      "D:\\python3\\lib\\site-packages\\IPython\\core\\interactiveshell.py:2785: DtypeWarning: Columns (8) have mixed types. Specify dtype option on import or set low_memory=False.\n",
      "  interactivity=interactivity, compiler=compiler, result=result)\n"
     ]
    }
   ],
   "source": [
    "transaction_train = pd.read_csv(\"../data/transaction_train_new.csv\")\n",
    "transaction_round1 = pd.read_csv(\"../data/transaction_round1_new.csv\")\n",
    "transaction = pd.concat([transaction_train, transaction_round1], axis=0)"
   ]
  },
  {
   "cell_type": "code",
   "execution_count": 13,
   "metadata": {},
   "outputs": [
    {
     "data": {
      "text/plain": [
       "(433635, 27)"
      ]
     },
     "execution_count": 13,
     "metadata": {},
     "output_type": "execute_result"
    }
   ],
   "source": [
    "transaction.shape"
   ]
  },
  {
   "cell_type": "markdown",
   "metadata": {},
   "source": [
    "#### 对transaction数据进行时间处理"
   ]
  },
  {
   "cell_type": "code",
   "execution_count": 14,
   "metadata": {},
   "outputs": [],
   "source": [
    "transaction[\"time\"] = transaction[\"time\"].fillna(value=\"00:00:00\")\n",
    "transaction[\"hour\"] = transaction.time.apply(lambda x: x.split(\":\")[0]).astype(int)\n",
    "transaction[\"minutes\"] = transaction.time.apply(lambda x: x.split(\":\")[0]).astype(int)"
   ]
  },
  {
   "cell_type": "code",
   "execution_count": 15,
   "metadata": {},
   "outputs": [
    {
     "data": {
      "text/plain": [
       "(433635, 29)"
      ]
     },
     "execution_count": 15,
     "metadata": {},
     "output_type": "execute_result"
    }
   ],
   "source": [
    "transaction.shape"
   ]
  },
  {
   "cell_type": "markdown",
   "metadata": {},
   "source": [
    "#### 对数据One-Hot"
   ]
  },
  {
   "cell_type": "code",
   "execution_count": 16,
   "metadata": {},
   "outputs": [],
   "source": [
    "transaction = transaction.drop([\"time\"], axis=1)\n",
    "feature = transaction.columns.drop([\"UID\"])\n",
    "con_feature = [\"bal\", \"trans_amt\"]\n",
    "dis_feature = feature.drop(con_feature)\n",
    "\n",
    "for col in dis_feature:\n",
    "    lbl = preprocessing.LabelEncoder()\n",
    "    transaction[col] = lbl.fit_transform(list(transaction[col].values))"
   ]
  },
  {
   "cell_type": "code",
   "execution_count": 28,
   "metadata": {},
   "outputs": [],
   "source": [
    "trans = transaction\n",
    "con_gby = trans.groupby([\"UID\"], as_index=False)\n",
    "bal_gby = con_gby[\"bal\"].agg({\"bal_sum\": \"sum\", \"bal_count\": \"count\", \"bal_min\": \"min\", \"bal_max\": \"max\",\n",
    "                        \"bal_mean\": \"mean\", \"bal_median\": \"median\", \"bal_std\": \"std\", \"bal_var\": \"var\"})\n",
    "data3 = pd.merge(trans, bal_gby, how=\"left\", on=\"UID\")\n",
    "amt_gby = con_gby[\"trans_amt\"].agg({\"amt_sum\": \"sum\", \"amt_count\": \"count\", \"amt_min\": \"min\",\n",
    "                                \"amt_max\": \"max\", \"amt_mean\": \"mean\", \"amt_median\": \"median\",\n",
    "                                \"amt_std\": \"std\", \"amt_var\": \"var\"})\n",
    "data3 = pd.merge(data3, amt_gby, how=\"left\", on=\"UID\")\n",
    "\n",
    "dis_gby = trans[[\"UID\", \"channel\", \"day\",\"amt_src1\", \"merchant\",\"code1\", \"code2\", \"trans_type1\",\n",
    "                 \"acc_id1\", \"device_code1\",\"device_code2\", \"device_code3\", \"device1\", \"device2\", \"mac1\",\n",
    "                 \"ip1\", \"amt_src2\", \"acc_id2\", \"acc_id3\", \"geo_code\", \"trans_type2\", \"market_code\", \n",
    "                 \"market_type\", \"ip1_sub\", \"hour\", \"minutes\"]].groupby([\"UID\"], as_index=False)\n",
    "dis_count = dis_gby.count()\n",
    "dis_count.columns = [\"UID\", \"channel_count\", \"day_count\", \"amt_src1_count\", \"merchant_count\", \n",
    "                     \"code1_count\", \"code2_count\", \"trans_type1_count\", \"acc_id1_count\", \n",
    "                     \"device_code1_count\",  \"device_code2_count\", \"device_code3_count\", \n",
    "                     \"device1_count\", \"device2_count\", \"mac1_count\", \"ip1_count\", \n",
    "                     \"amt_src2_count\", \"acc_id2_count\", \"acc_id3_count\", \"geo_code_count\", \n",
    "                     \"trans_type2_count\", \"market_code_count\", \"market_type_count\",\n",
    "                     \"ip1_sub_count\", \"hour_count\", \"minutes_count\"]\n",
    "data3 = pd.merge(data3, dis_count, how=\"left\", on=\"UID\")"
   ]
  },
  {
   "cell_type": "code",
   "execution_count": 29,
   "metadata": {},
   "outputs": [
    {
     "data": {
      "text/plain": [
       "(433635, 69)"
      ]
     },
     "execution_count": 29,
     "metadata": {},
     "output_type": "execute_result"
    }
   ],
   "source": [
    "data3.shape"
   ]
  },
  {
   "cell_type": "code",
   "execution_count": 26,
   "metadata": {},
   "outputs": [
    {
     "data": {
      "text/plain": [
       "array(['UID', 'channel', 'day', 'trans_amt', 'amt_src1', 'merchant',\n",
       "       'code1', 'code2', 'trans_type1', 'acc_id1', 'device_code1',\n",
       "       'device_code2', 'device_code3', 'device1', 'device2', 'mac1',\n",
       "       'ip1', 'bal', 'amt_src2', 'acc_id2', 'acc_id3', 'geo_code',\n",
       "       'trans_type2', 'market_code', 'market_type', 'ip1_sub', 'hour',\n",
       "       'minutes', 'bal_sum', 'bal_count', 'bal_min', 'bal_max',\n",
       "       'bal_mean', 'bal_median', 'bal_std', 'bal_var', 'amt_sum',\n",
       "       'amt_count', 'amt_min', 'amt_max', 'amt_mean', 'amt_median',\n",
       "       'amt_std', 'amt_var'], dtype=object)"
      ]
     },
     "execution_count": 26,
     "metadata": {},
     "output_type": "execute_result"
    }
   ],
   "source": [
    "data3.columns.values"
   ]
  },
  {
   "cell_type": "markdown",
   "metadata": {},
   "source": [
    "#### 对transaction补充新特征"
   ]
  },
  {
   "cell_type": "code",
   "execution_count": 37,
   "metadata": {},
   "outputs": [],
   "source": [
    "trans = transaction\n",
    "channel_gby = trans.groupby([\"channel\"], as_index=False)\n",
    "channel_count = channel_gby.count()\n",
    "channel_count.columns=[\"UID\", \"channel_channel_count\", \"channel_day_count\", \n",
    "                       \"channel_trans_amt_count\", \"channel_amt_src1_count\", \n",
    "                       \"channel_merchant_count\", \"channel_code1_count\", \n",
    "                       \"channel_code2_count\", \"channel_trans_type1_count\", \n",
    "                       \"channel_acc_id1_count\", \"channel_device_code1_count\",\n",
    "                       \"channel_device_code2_count\", \"channel_device_code3_count\", \n",
    "                       \"channel_device1_count\", \"channel_device2_count\", \n",
    "                       \"channel_mac1_count\", \"channel_ip1_count\", \n",
    "                       \"channel_bal_count\", \"channel_amt_src2_count\", \n",
    "                       \"channel_acc_id2_count\", \"channel_acc_id3_count\", \n",
    "                       \"channel_geo_code_count\", \"channel_trans_type2_count\", \n",
    "                       \"channel_market_code_count\", \"channel_market_type_count\", \n",
    "                       \"channel_ip1_sub_count\", \"channel_hour_count\",\n",
    "                       \"channel_minutes_count\"]\n",
    "data4 = pd.merge(data3, channel_count, how=\"left\", on=\"UID\")\n",
    "\n",
    "day_gby = trans.groupby([\"day\"], as_index=False)\n",
    "day_count = day_gby.count()\n",
    "day_count.columns=[\"UID\", \"day_channel_count\", \"day_day_count\", \n",
    "                       \"day_trans_amt_count\", \"day_amt_src1_count\", \n",
    "                       \"day_merchant_count\", \"day_code1_count\", \n",
    "                       \"day_code2_count\", \"day_trans_type1_count\", \n",
    "                       \"day_acc_id1_count\", \"day_device_code1_count\",\n",
    "                       \"day_device_code2_count\", \"day_device_code3_count\", \n",
    "                       \"day_device1_count\", \"day_device2_count\", \n",
    "                       \"day_mac1_count\", \"day_ip1_count\", \n",
    "                       \"day_bal_count\", \"day_amt_src2_count\", \n",
    "                       \"day_acc_id2_count\", \"day_acc_id3_count\", \n",
    "                       \"day_geo_code_count\", \"day_trans_type2_count\", \n",
    "                       \"day_market_code_count\", \"day_market_type_count\", \n",
    "                       \"day_ip1_sub_count\", \"day_hour_count\",\n",
    "                       \"day_minutes_count\"]\n",
    "data4 = pd.merge(data4, day_count, how=\"left\", on=\"UID\")\n",
    "\n",
    "amt_gby = trans.groupby([\"trans_amt\"], as_index=False)\n",
    "amt_count = amt_gby.count()\n",
    "amt_count.columns=[\"UID\", \"amt_channel_count\", \"amt_day_count\",\n",
    "                       \"amt_trans_amt_count\", \"amt_amt_src1_count\", \n",
    "                       \"amt_merchant_count\", \"amt_code1_count\", \n",
    "                       \"amt_code2_count\", \"amt_trans_type1_count\", \n",
    "                       \"amt_acc_id1_count\", \"amt_device_code1_count\",\n",
    "                       \"amt_device_code2_count\", \"amt_device_code3_count\", \n",
    "                       \"amt_device1_count\", \"amt_device2_count\", \n",
    "                       \"amt_mac1_count\", \"amt_ip1_count\", \n",
    "                       \"amt_bal_count\", \"amt_amt_src2_count\", \n",
    "                       \"amt_acc_id2_count\", \"amt_acc_id3_count\", \n",
    "                       \"amt_geo_code_count\", \"amt_trans_type2_count\", \n",
    "                       \"amt_market_code_count\", \"amt_market_type_count\", \n",
    "                       \"amt_ip1_sub_count\", \"amt_hour_count\",\n",
    "                       \"amt_minutes_count\"]\n",
    "data4 = pd.merge(data4, amt_count, how=\"left\", on=\"UID\")\n",
    "\n",
    "src1_gby = trans.groupby([\"amt_src1\"], as_index=False)\n",
    "src1_count = src1_gby.count()\n",
    "src1_count.columns=[\"UID\", \"src1_channel_count\", \"src1_day_count\",\n",
    "                       \"src1_trans_amt_count\", \"src1_amt_src1_count\", \n",
    "                       \"src1_merchant_count\", \"src1_code1_count\", \n",
    "                       \"src1_code2_count\", \"src1_trans_type1_count\", \n",
    "                       \"src1_acc_id1_count\", \"src1_device_code1_count\",\n",
    "                       \"src1_device_code2_count\", \"src1_device_code3_count\", \n",
    "                       \"src1_device1_count\", \"src1_device2_count\", \n",
    "                       \"src1_mac1_count\", \"src1_ip1_count\", \n",
    "                       \"src1_bal_count\", \"src1_amt_src2_count\", \n",
    "                       \"src1_acc_id2_count\", \"src1_acc_id3_count\", \n",
    "                       \"src1_geo_code_count\", \"src1_trans_type2_count\", \n",
    "                       \"src1_market_code_count\", \"src1_market_type_count\", \n",
    "                       \"src1_ip1_sub_count\", \"src1_hour_count\",\n",
    "                       \"src1_minutes_count\"]\n",
    "data4 = pd.merge(data4, src1_count, how=\"left\", on=\"UID\")\n",
    "\n",
    "merchant_gby = trans.groupby([\"merchant\"], as_index=False)\n",
    "merchant_count = merchant_gby.count()\n",
    "merchant_count.columns=[\"UID\", \"merchant_channel_count\", \"merchant_day_count\",\n",
    "                       \"merchant_trans_amt_count\", \"merchant_amt_src1_count\",\n",
    "                       \"merchant_merchant_count\", \"merchant_code1_count\", \n",
    "                       \"merchant_code2_count\", \"merchant_trans_type1_count\", \n",
    "                       \"merchant_acc_id1_count\", \"merchant_device_code1_count\",\n",
    "                       \"merchant_device_code2_count\", \"merchant_device_code3_count\", \n",
    "                       \"merchant_device1_count\", \"merchant_device2_count\", \n",
    "                       \"merchant_mac1_count\", \"merchant_ip1_count\", \n",
    "                       \"merchant_bal_count\", \"merchant_amt_src2_count\", \n",
    "                       \"merchant_acc_id2_count\", \"merchant_acc_id3_count\", \n",
    "                       \"merchant_geo_code_count\", \"merchant_trans_type2_count\", \n",
    "                       \"merchant_market_code_count\", \"merchant_market_type_count\", \n",
    "                       \"merchant_ip1_sub_count\", \"merchant_hour_count\",\n",
    "                       \"merchant_minutes_count\"]\n",
    "data4 = pd.merge(data4, merchant_count, how=\"left\", on=\"UID\")\n",
    "\n",
    "code1_gby = trans.groupby([\"code1\"], as_index=False)\n",
    "code1_count = code1_gby.count()\n",
    "code1_count.columns=[\"UID\", \"code1_channel_count\", \"code1_day_count\",\n",
    "                       \"code1_trans_amt_count\", \"code1_amt_src1_count\",\n",
    "                       \"code1_merchant_count\", \"code1_code1_count\", \n",
    "                       \"code1_code2_count\", \"code1_trans_type1_count\", \n",
    "                       \"code1_acc_id1_count\", \"code1_device_code1_count\",\n",
    "                       \"code1_device_code2_count\", \"code1_device_code3_count\", \n",
    "                       \"code1_device1_count\", \"code1_device2_count\", \n",
    "                       \"code1_mac1_count\", \"code1_ip1_count\", \n",
    "                       \"code1_bal_count\", \"code1_amt_src2_count\", \n",
    "                       \"code1_acc_id2_count\", \"code1_acc_id3_count\", \n",
    "                       \"code1_geo_code_count\", \"code1_trans_type2_count\", \n",
    "                       \"code1_market_code_count\", \"code1_market_type_count\", \n",
    "                       \"code1_ip1_sub_count\", \"code1_hour_count\",\n",
    "                       \"code1_minutes_count\"]\n",
    "data4 = pd.merge(data4, code1_count, how=\"left\", on=\"UID\")\n",
    "\n",
    "code2_gby = trans.groupby([\"code2\"], as_index=False)\n",
    "code2_count = code2_gby.count()\n",
    "code2_count.columns=[\"UID\", \"code2_channel_count\", \"code2_day_count\",\n",
    "                       \"code2_trans_amt_count\", \"code2_amt_src1_count\",\n",
    "                       \"code2_merchant_count\", \"code2_code1_count\",\n",
    "                       \"code2_code2_count\", \"code2_trans_type1_count\",\n",
    "                       \"code2_acc_id1_count\", \"code2_device_code1_count\",\n",
    "                       \"code2_device_code2_count\", \"code2_device_code3_count\",\n",
    "                       \"code2_device1_count\", \"code2_device2_count\",\n",
    "                       \"code2_mac1_count\", \"code2_ip1_count\",\n",
    "                       \"code2_bal_count\", \"code2_amt_src2_count\",\n",
    "                       \"code2_acc_id2_count\", \"code2_acc_id3_count\",\n",
    "                       \"code2_geo_code_count\", \"code2_trans_type2_count\",\n",
    "                       \"code2_market_code_count\", \"code2_market_type_count\",\n",
    "                       \"code2_ip1_sub_count\", \"code2_hour_count\",\n",
    "                       \"code2_minutes_count\"]\n",
    "data4 = pd.merge(data4, code2_count, how=\"left\", on=\"UID\")\n",
    "\n",
    "type1_gby = trans.groupby([\"trans_type1\"], as_index=False)\n",
    "type1_count = type1_gby.count()\n",
    "type1_count.columns=[\"UID\", \"type1_channel_count\", \"type1_day_count\",\n",
    "                       \"type1_trans_amt_count\", \"type1_amt_src1_count\",\n",
    "                       \"type1_merchant_count\", \"type1_code1_count\",\n",
    "                       \"type1_code2_count\", \"type1_trans_type1_count\",\n",
    "                       \"type1_acc_id1_count\", \"type1_device_code1_count\",\n",
    "                       \"type1_device_code2_count\", \"type1_device_code3_count\",\n",
    "                       \"type1_device1_count\", \"type1_device2_count\",\n",
    "                       \"type1_mac1_count\", \"type1_ip1_count\",\n",
    "                       \"type1_bal_count\", \"type1_amt_src2_count\",\n",
    "                       \"type1_acc_id2_count\", \"type1_acc_id3_count\",\n",
    "                       \"type1_geo_code_count\", \"type1_trans_type2_count\",\n",
    "                       \"type1_market_code_count\", \"type1_market_type_count\",\n",
    "                       \"type1_ip1_sub_count\", \"type1_hour_count\",\n",
    "                       \"type1_minutes_count\"]\n",
    "data4 = pd.merge(data4, type1_count, how=\"left\", on=\"UID\")\n",
    "\n",
    "acc_id1_gby = trans.groupby([\"acc_id1\"], as_index=False)\n",
    "acc_id1_count = acc_id1_gby.count()\n",
    "acc_id1_count.columns=[\"UID\", \"acc_id1_channel_count\", \"acc_id1_day_count\",\n",
    "                       \"acc_id1_trans_amt_count\", \"acc_id1_amt_src1_count\",\n",
    "                       \"acc_id1_merchant_count\", \"acc_id1_code1_count\",\n",
    "                       \"acc_id1_code2_count\", \"acc_id1_trans_type1_count\",\n",
    "                       \"acc_id1_acc_id1_count\", \"acc_id1_device_code1_count\",\n",
    "                       \"acc_id1_device_code2_count\", \"acc_id1_device_code3_count\",\n",
    "                       \"acc_id1_device1_count\", \"acc_id1_device2_count\",\n",
    "                       \"acc_id1_mac1_count\", \"acc_id1_ip1_count\",\n",
    "                       \"acc_id1_bal_count\", \"acc_id1_amt_src2_count\",\n",
    "                       \"acc_id1_acc_id2_count\", \"acc_id1_acc_id3_count\",\n",
    "                       \"acc_id1_geo_code_count\", \"acc_id1_trans_type2_count\",\n",
    "                       \"acc_id1_market_code_count\", \"acc_id1_market_type_count\",\n",
    "                       \"acc_id1_ip1_sub_count\", \"acc_id1_hour_count\",\n",
    "                       \"acc_id1_minutes_count\"]\n",
    "data4 = pd.merge(data4, acc_id1_count, how=\"left\", on=\"UID\")\n",
    "\n",
    "device_code1_gby = trans.groupby([\"device_code1\"], as_index=False)\n",
    "device_code1_count = device_code1_gby.count()\n",
    "device_code1_count.columns=[\"UID\", \"device_code1_channel_count\", \"device_code1_day_count\",\n",
    "                       \"device_code1_trans_amt_count\", \"device_code1_amt_src1_count\",\n",
    "                       \"device_code1_merchant_count\", \"device_code1_code1_count\",\n",
    "                       \"device_code1_code2_count\", \"device_code1_trans_type1_count\",\n",
    "                       \"device_code1_acc_id1_count\", \"device_code1_device_code1_count\",\n",
    "                       \"device_code1_device_code2_count\", \"device_code1_device_code3_count\",\n",
    "                       \"device_code1_device1_count\", \"device_code1_device2_count\",\n",
    "                       \"device_code1_mac1_count\", \"device_code1_ip1_count\",\n",
    "                       \"device_code1_bal_count\", \"device_code1_amt_src2_count\",\n",
    "                       \"device_code1_acc_id2_count\", \"device_code1_acc_id3_count\",\n",
    "                       \"device_code1_geo_code_count\", \"device_code1_trans_type2_count\",\n",
    "                       \"device_code1_market_code_count\", \"device_code1_market_type_count\",\n",
    "                       \"device_code1_ip1_sub_count\", \"device_code1_hour_count\",\n",
    "                       \"device_code1_minutes_count\"]\n",
    "data4 = pd.merge(data4, device_code1_count, how=\"left\", on=\"UID\")\n",
    "\n",
    "device_code2_gby = trans.groupby([\"device_code2\"], as_index=False)\n",
    "device_code2_count = device_code2_gby.count()\n",
    "device_code2_count.columns=[\"UID\", \"device_code2_channel_count\", \"device_code2_day_count\",\n",
    "                       \"device_code2_trans_amt_count\", \"device_code2_amt_src1_count\",\n",
    "                       \"device_code2_merchant_count\", \"device_code2_code1_count\",\n",
    "                       \"device_code2_code2_count\", \"device_code2_trans_type1_count\",\n",
    "                       \"device_code2_acc_id1_count\", \"device_code2_device_code1_count\",\n",
    "                       \"device_code2_device_code2_count\", \"device_code2_device_code3_count\",\n",
    "                       \"device_code2_device1_count\", \"device_code2_device2_count\",\n",
    "                       \"device_code2_mac1_count\", \"device_code2_ip1_count\",\n",
    "                       \"device_code2_bal_count\", \"device_code2_amt_src2_count\",\n",
    "                       \"device_code2_acc_id2_count\", \"device_code2_acc_id3_count\",\n",
    "                       \"device_code2_geo_code_count\", \"device_code2_trans_type2_count\",\n",
    "                       \"device_code2_market_code_count\", \"device_code2_market_type_count\",\n",
    "                       \"device_code2_ip1_sub_count\", \"device_code2_hour_count\",\n",
    "                       \"device_code2_minutes_count\"]\n",
    "data4 = pd.merge(data4, device_code2_count, how=\"left\", on=\"UID\")\n",
    "\n",
    "device_code3_gby = trans.groupby([\"device_code3\"], as_index=False)\n",
    "device_code3_count = device_code3_gby.count()\n",
    "device_code3_count.columns=[\"UID\", \"device_code3_channel_count\", \"device_code3_day_count\",\n",
    "                       \"device_code3_trans_amt_count\", \"device_code3_amt_src1_count\",\n",
    "                       \"device_code3_merchant_count\", \"device_code3_code1_count\",\n",
    "                       \"device_code3_code2_count\", \"device_code3_trans_type1_count\",\n",
    "                       \"device_code3_acc_id1_count\", \"device_code3_device_code1_count\",\n",
    "                       \"device_code3_device_code2_count\", \"device_code3_device_code3_count\",\n",
    "                       \"device_code3_device1_count\", \"device_code3_device2_count\",\n",
    "                       \"device_code3_mac1_count\", \"device_code3_ip1_count\",\n",
    "                       \"device_code3_bal_count\", \"device_code3_amt_src2_count\",\n",
    "                       \"device_code3_acc_id2_count\", \"device_code3_acc_id3_count\",\n",
    "                       \"device_code3_geo_code_count\", \"device_code3_trans_type2_count\",\n",
    "                       \"device_code3_market_code_count\", \"device_code3_market_type_count\",\n",
    "                       \"device_code3_ip1_sub_count\", \"device_code3_hour_count\",\n",
    "                       \"device_code3_minutes_count\"]\n",
    "data4 = pd.merge(data4, device_code3_count, how=\"left\", on=\"UID\")\n",
    "\n",
    "device1_gby = trans.groupby([\"device1\"], as_index=False)\n",
    "device1_count = device1_gby.count()\n",
    "device1_count.columns=[\"UID\", \"device1_channel_count\", \"device1_day_count\",\n",
    "                       \"device1_trans_amt_count\", \"device1_amt_src1_count\",\n",
    "                       \"device1_merchant_count\", \"device1_code1_count\",\n",
    "                       \"device1_code2_count\", \"device1_trans_type1_count\",\n",
    "                       \"device1_acc_id1_count\", \"device1_device_code1_count\",\n",
    "                       \"device1_device_code2_count\", \"device1_device_code3_count\",\n",
    "                       \"device1_device1_count\", \"device1_device2_count\",\n",
    "                       \"device1_mac1_count\", \"device1_ip1_count\",\n",
    "                       \"device1_bal_count\", \"device1_amt_src2_count\",\n",
    "                       \"device1_acc_id2_count\", \"device1_acc_id3_count\",\n",
    "                       \"device1_geo_code_count\", \"device1_trans_type2_count\",\n",
    "                       \"device1_market_code_count\", \"device1_market_type_count\",\n",
    "                       \"device1_ip1_sub_count\", \"device1_hour_count\",\n",
    "                       \"device1_minutes_count\"]\n",
    "data4 = pd.merge(data4, device1_count, how=\"left\", on=\"UID\")\n",
    "\n",
    "device2_gby = trans.groupby([\"device2\"], as_index=False)\n",
    "device2_count = device2_gby.count()\n",
    "device2_count.columns=[\"UID\", \"device2_channel_count\", \"device2_day_count\",\n",
    "                       \"device2_trans_amt_count\", \"device2_amt_src1_count\",\n",
    "                       \"device2_merchant_count\", \"device2_code1_count\",\n",
    "                       \"device2_code2_count\", \"device2_trans_type1_count\",\n",
    "                       \"device2_acc_id1_count\", \"device2_device_code1_count\",\n",
    "                       \"device2_device_code2_count\", \"device2_device_code3_count\",\n",
    "                       \"device2_device1_count\", \"device2_device2_count\",\n",
    "                       \"device2_mac1_count\", \"device2_ip1_count\",\n",
    "                       \"device2_bal_count\", \"device2_amt_src2_count\",\n",
    "                       \"device2_acc_id2_count\", \"device2_acc_id3_count\",\n",
    "                       \"device2_geo_code_count\", \"device2_trans_type2_count\",\n",
    "                       \"device2_market_code_count\", \"device2_market_type_count\",\n",
    "                       \"device2_ip1_sub_count\", \"device2_hour_count\",\n",
    "                       \"device2_minutes_count\"]\n",
    "data4 = pd.merge(data4, device2_count, how=\"left\", on=\"UID\")\n",
    "\n",
    "mac1_gby = trans.groupby([\"mac1\"], as_index=False)\n",
    "mac1_count = mac1_gby.count()\n",
    "mac1_count.columns=[\"UID\", \"mac1_channel_count\", \"mac1_day_count\",\n",
    "                       \"mac1_trans_amt_count\", \"mac1_amt_src1_count\",\n",
    "                       \"mac1_merchant_count\", \"mac1_code1_count\",\n",
    "                       \"mac1_code2_count\", \"mac1_trans_type1_count\",\n",
    "                       \"mac1_acc_id1_count\", \"mac1_device_code1_count\",\n",
    "                       \"mac1_device_code2_count\", \"mac1_device_code3_count\",\n",
    "                       \"mac1_device1_count\", \"mac1_device2_count\",\n",
    "                       \"mac1_mac1_count\", \"mac1_ip1_count\",\n",
    "                       \"mac1_bal_count\", \"mac1_amt_src2_count\",\n",
    "                       \"mac1_acc_id2_count\", \"mac1_acc_id3_count\",\n",
    "                       \"mac1_geo_code_count\", \"mac1_trans_type2_count\",\n",
    "                       \"mac1_market_code_count\", \"mac1_market_type_count\",\n",
    "                       \"mac1_ip1_sub_count\", \"mac1_hour_count\",\n",
    "                       \"mac1_minutes_count\"]\n",
    "data4 = pd.merge(data4, mac1_count, how=\"left\", on=\"UID\")\n",
    "\n",
    "ip1_gby = trans.groupby([\"ip1\"], as_index=False)\n",
    "ip1_count = ip1_gby.count()\n",
    "ip1_count.columns=[\"UID\", \"ip1_channel_count\", \"ip1_day_count\",\n",
    "                       \"ip1_trans_amt_count\", \"ip1_amt_src1_count\",\n",
    "                       \"ip1_merchant_count\", \"ip1_code1_count\",\n",
    "                       \"ip1_code2_count\", \"ip1_trans_type1_count\",\n",
    "                       \"ip1_acc_id1_count\", \"ip1_device_code1_count\",\n",
    "                       \"ip1_device_code2_count\", \"ip1_device_code3_count\",\n",
    "                       \"ip1_device1_count\", \"ip1_device2_count\",\n",
    "                       \"ip1_mac1_count\", \"ip1_ip1_count\",\n",
    "                       \"ip1_bal_count\", \"ip1_amt_src2_count\",\n",
    "                       \"ip1_acc_id2_count\", \"ip1_acc_id3_count\",\n",
    "                       \"ip1_geo_code_count\", \"ip1_trans_type2_count\",\n",
    "                       \"ip1_market_code_count\", \"ip1_market_type_count\",\n",
    "                       \"ip1_ip1_sub_count\", \"ip1_hour_count\",\n",
    "                       \"ip1_minutes_count\"]\n",
    "data4 = pd.merge(data4, ip1_count, how=\"left\", on=\"UID\")\n",
    "\n",
    "bal_gby = trans.groupby([\"bal\"], as_index=False)\n",
    "bal_count = bal_gby.count()\n",
    "bal_count.columns=[\"UID\", \"bal_channel_count\", \"bal_day_count\",\n",
    "                       \"bal_trans_amt_count\", \"bal_amt_src1_count\",\n",
    "                       \"bal_merchant_count\", \"bal_code1_count\",\n",
    "                       \"bal_code2_count\", \"bal_trans_type1_count\",\n",
    "                       \"bal_acc_id1_count\", \"bal_device_code1_count\",\n",
    "                       \"bal_device_code2_count\", \"bal_device_code3_count\",\n",
    "                       \"bal_device1_count\", \"bal_device2_count\",\n",
    "                       \"bal_mac1_count\", \"bal_ip1_count\",\n",
    "                       \"bal_bal_count\", \"bal_amt_src2_count\",\n",
    "                       \"bal_acc_id2_count\", \"bal_acc_id3_count\",\n",
    "                       \"bal_geo_code_count\", \"bal_trans_type2_count\",\n",
    "                       \"bal_market_code_count\", \"bal_market_type_count\",\n",
    "                       \"bal_ip1_sub_count\", \"bal_hour_count\",\n",
    "                       \"bal_minutes_count\"]\n",
    "data4 = pd.merge(data4, bal_count, how=\"left\", on=\"UID\")\n",
    "\n",
    "src2_gby = trans.groupby([\"amt_src2\"], as_index=False)\n",
    "src2_count = src2_gby.count()\n",
    "src2_count.columns=[\"UID\", \"src2_channel_count\", \"src2_day_count\",\n",
    "                       \"src2_trans_amt_count\", \"src2_amt_src1_count\",\n",
    "                       \"src2_merchant_count\", \"src2_code1_count\",\n",
    "                       \"src2_code2_count\", \"src2_trans_type1_count\",\n",
    "                       \"src2_acc_id1_count\", \"src2_device_code1_count\",\n",
    "                       \"src2_device_code2_count\", \"src2_device_code3_count\",\n",
    "                       \"src2_device1_count\", \"src2_device2_count\",\n",
    "                       \"src2_mac1_count\", \"src2_ip1_count\",\n",
    "                       \"src2_bal_count\", \"src2_amt_src2_count\",\n",
    "                       \"src2_acc_id2_count\", \"src2_acc_id3_count\",\n",
    "                       \"src2_geo_code_count\", \"src2_trans_type2_count\",\n",
    "                       \"src2_market_code_count\", \"src2_market_type_count\",\n",
    "                       \"src2_ip1_sub_count\", \"src2_hour_count\",\n",
    "                       \"src2_minutes_count\"]\n",
    "data4 = pd.merge(data4, src2_count, how=\"left\", on=\"UID\")\n",
    "\n",
    "acc_id2_gby = trans.groupby([\"acc_id2\"], as_index=False)\n",
    "acc_id2_count = acc_id2_gby.count()\n",
    "acc_id2_count.columns=[\"UID\", \"acc_id2_channel_count\", \"acc_id2_day_count\",\n",
    "                       \"acc_id2_trans_amt_count\", \"acc_id2_amt_src1_count\",\n",
    "                       \"acc_id2_merchant_count\", \"acc_id2_code1_count\",\n",
    "                       \"acc_id2_code2_count\", \"acc_id2_trans_type1_count\",\n",
    "                       \"acc_id2_acc_id1_count\", \"acc_id2_device_code1_count\",\n",
    "                       \"acc_id2_device_code2_count\", \"acc_id2_device_code3_count\",\n",
    "                       \"acc_id2_device1_count\", \"acc_id2_device2_count\",\n",
    "                       \"acc_id2_mac1_count\", \"acc_id2_ip1_count\",\n",
    "                       \"acc_id2_bal_count\", \"acc_id2_amt_src2_count\",\n",
    "                       \"acc_id2_acc_id2_count\", \"acc_id2_acc_id3_count\",\n",
    "                       \"acc_id2_geo_code_count\", \"acc_id2_trans_type2_count\",\n",
    "                       \"acc_id2_market_code_count\", \"acc_id2_market_type_count\",\n",
    "                       \"acc_id2_ip1_sub_count\", \"acc_id2_hour_count\",\n",
    "                       \"acc_id2_minutes_count\"]\n",
    "data4 = pd.merge(data4, acc_id2_count, how=\"left\", on=\"UID\")\n",
    "\n",
    "acc_id3_gby = trans.groupby([\"acc_id3\"], as_index=False)\n",
    "acc_id3_count = acc_id3_gby.count()\n",
    "acc_id3_count.columns=[\"UID\", \"acc_id3_channel_count\", \"acc_id3_day_count\",\n",
    "                       \"acc_id3_trans_amt_count\", \"acc_id3_amt_src1_count\",\n",
    "                       \"acc_id3_merchant_count\", \"acc_id3_code1_count\",\n",
    "                       \"acc_id3_code2_count\", \"acc_id3_trans_type1_count\",\n",
    "                       \"acc_id3_acc_id1_count\", \"acc_id3_device_code1_count\",\n",
    "                       \"acc_id3_device_code2_count\", \"acc_id3_device_code3_count\",\n",
    "                       \"acc_id3_device1_count\", \"acc_id3_device2_count\",\n",
    "                       \"acc_id3_mac1_count\", \"acc_id3_ip1_count\",\n",
    "                       \"acc_id3_bal_count\", \"acc_id3_amt_src2_count\",\n",
    "                       \"acc_id3_acc_id2_count\", \"acc_id3_acc_id3_count\",\n",
    "                       \"acc_id3_geo_code_count\", \"acc_id3_trans_type2_count\",\n",
    "                       \"acc_id3_market_code_count\", \"acc_id3_market_type_count\",\n",
    "                       \"acc_id3_ip1_sub_count\", \"acc_id3_hour_count\",\n",
    "                       \"acc_id3_minutes_count\"]\n",
    "data4 = pd.merge(data4, acc_id3_count, how=\"left\", on=\"UID\")\n",
    "\n",
    "geo_code_gby = trans.groupby([\"geo_code\"], as_index=False)\n",
    "geo_code_count = geo_code_gby.count()\n",
    "geo_code_count.columns=[\"UID\", \"geo_code_channel_count\", \"geo_code_day_count\",\n",
    "                       \"geo_code_trans_amt_count\", \"geo_code_amt_src1_count\",\n",
    "                       \"geo_code_merchant_count\", \"geo_code_code1_count\",\n",
    "                       \"geo_code_code2_count\", \"geo_code_trans_type1_count\",\n",
    "                       \"geo_code_acc_id1_count\", \"geo_code_device_code1_count\",\n",
    "                       \"geo_code_device_code2_count\", \"geo_code_device_code3_count\",\n",
    "                       \"geo_code_device1_count\", \"geo_code_device2_count\",\n",
    "                       \"geo_code_mac1_count\", \"geo_code_ip1_count\",\n",
    "                       \"geo_code_bal_count\", \"geo_code_amt_src2_count\",\n",
    "                       \"geo_code_acc_id2_count\", \"geo_code_acc_id3_count\",\n",
    "                       \"geo_code_geo_code_count\", \"geo_code_trans_type2_count\",\n",
    "                       \"geo_code_market_code_count\", \"geo_code_market_type_count\",\n",
    "                       \"geo_code_ip1_sub_count\", \"geo_code_hour_count\",\n",
    "                       \"geo_code_minutes_count\"]\n",
    "data4 = pd.merge(data4, geo_code_count, how=\"left\", on=\"UID\")\n",
    "\n",
    "type2_gby = trans.groupby([\"trans_type2\"], as_index=False)\n",
    "type2_count = type2_gby.count()\n",
    "type2_count.columns=[\"UID\", \"type2_channel_count\", \"type2_day_count\",\n",
    "                       \"type2_trans_amt_count\", \"type2_amt_src1_count\",\n",
    "                       \"type2_merchant_count\", \"type2_code1_count\",\n",
    "                       \"type2_code2_count\", \"type2_trans_type1_count\",\n",
    "                       \"type2_acc_id1_count\", \"type2_device_code1_count\",\n",
    "                       \"type2_device_code2_count\", \"type2_device_code3_count\",\n",
    "                       \"type2_device1_count\", \"type2_device2_count\",\n",
    "                       \"type2_mac1_count\", \"type2_ip1_count\",\n",
    "                       \"type2_bal_count\", \"type2_amt_src2_count\",\n",
    "                       \"type2_acc_id2_count\", \"type2_acc_id3_count\",\n",
    "                       \"type2_geo_code_count\", \"type2_trans_type2_count\",\n",
    "                       \"type2_market_code_count\", \"type2_market_type_count\",\n",
    "                       \"type2_ip1_sub_count\", \"type2_hour_count\",\n",
    "                       \"type2_minutes_count\"]\n",
    "data4 = pd.merge(data4, type2_count, how=\"left\", on=\"UID\")\n",
    "\n",
    "market_code_gby = trans.groupby([\"market_code\"], as_index=False)\n",
    "market_code_count = market_code_gby.count()\n",
    "market_code_count.columns=[\"UID\", \"market_code_channel_count\", \"market_code_day_count\",\n",
    "                       \"market_code_trans_amt_count\", \"market_code_amt_src1_count\",\n",
    "                       \"market_code_merchant_count\", \"market_code_code1_count\",\n",
    "                       \"market_code_code2_count\", \"market_code_trans_type1_count\",\n",
    "                       \"market_code_acc_id1_count\", \"market_code_device_code1_count\",\n",
    "                       \"market_code_device_code2_count\", \"market_code_device_code3_count\",\n",
    "                       \"market_code_device1_count\", \"market_code_device2_count\",\n",
    "                       \"market_code_mac1_count\", \"market_code_ip1_count\",\n",
    "                       \"market_code_bal_count\", \"market_code_amt_src2_count\",\n",
    "                       \"market_code_acc_id2_count\", \"market_code_acc_id3_count\",\n",
    "                       \"market_code_geo_code_count\", \"market_code_trans_type2_count\",\n",
    "                       \"market_code_market_code_count\", \"market_code_market_type_count\",\n",
    "                       \"market_code_ip1_sub_count\", \"market_code_hour_count\",\n",
    "                       \"market_code_minutes_count\"]\n",
    "data4 = pd.merge(data4, market_code_count, how=\"left\", on=\"UID\")\n",
    "\n",
    "market_type_gby = trans.groupby([\"market_type\"], as_index=False)\n",
    "market_type_count = market_type_gby.count()\n",
    "market_type_count.columns=[\"UID\", \"market_type_channel_count\", \"market_type_day_count\",\n",
    "                       \"market_type_trans_amt_count\", \"market_type_amt_src1_count\",\n",
    "                       \"market_type_merchant_count\", \"market_type_code1_count\",\n",
    "                       \"market_type_code2_count\", \"market_type_trans_type1_count\",\n",
    "                       \"market_type_acc_id1_count\", \"market_type_device_code1_count\",\n",
    "                       \"market_type_device_code2_count\", \"market_type_device_code3_count\",\n",
    "                       \"market_type_device1_count\", \"market_type_device2_count\",\n",
    "                       \"market_type_mac1_count\", \"market_type_ip1_count\",\n",
    "                       \"market_type_bal_count\", \"market_type_amt_src2_count\",\n",
    "                       \"market_type_acc_id2_count\", \"market_type_acc_id3_count\",\n",
    "                       \"market_type_geo_code_count\", \"market_type_trans_type2_count\",\n",
    "                       \"market_type_market_code_count\", \"market_type_market_type_count\",\n",
    "                       \"market_type_ip1_sub_count\", \"market_type_hour_count\",\n",
    "                       \"market_type_minutes_count\"]\n",
    "data4 = pd.merge(data4, market_type_count, how=\"left\", on=\"UID\")\n",
    "\n",
    "ip1_sub_gby = trans.groupby([\"ip1_sub\"], as_index=False)\n",
    "ip1_sub_count = ip1_sub_gby.count()\n",
    "ip1_sub_count.columns=[\"UID\", \"ip1_sub_channel_count\", \"ip1_sub_day_count\",\n",
    "                       \"ip1_sub_trans_amt_count\", \"ip1_sub_amt_src1_count\",\n",
    "                       \"ip1_sub_merchant_count\", \"ip1_sub_code1_count\",\n",
    "                       \"ip1_sub_code2_count\", \"ip1_sub_trans_type1_count\",\n",
    "                       \"ip1_sub_acc_id1_count\", \"ip1_sub_device_code1_count\",\n",
    "                       \"ip1_sub_device_code2_count\", \"ip1_sub_device_code3_count\",\n",
    "                       \"ip1_sub_device1_count\", \"ip1_sub_device2_count\",\n",
    "                       \"ip1_sub_mac1_count\", \"ip1_sub_ip1_count\",\n",
    "                       \"ip1_sub_bal_count\", \"ip1_sub_amt_src2_count\",\n",
    "                       \"ip1_sub_acc_id2_count\", \"ip1_sub_acc_id3_count\",\n",
    "                       \"ip1_sub_geo_code_count\", \"ip1_sub_trans_type2_count\",\n",
    "                       \"ip1_sub_market_code_count\", \"ip1_sub_market_type_count\",\n",
    "                       \"ip1_sub_ip1_sub_count\", \"ip1_sub_hour_count\",\n",
    "                       \"ip1_sub_minutes_count\"]\n",
    "data4 = pd.merge(data4, ip1_sub_count, how=\"left\", on=\"UID\")\n",
    "\n",
    "hour_gby = trans.groupby([\"hour\"], as_index=False)\n",
    "hour_count = hour_gby.count()\n",
    "hour_count.columns=[\"UID\", \"hour_channel_count\", \"hour_day_count\",\n",
    "                       \"hour_trans_amt_count\", \"hour_amt_src1_count\",\n",
    "                       \"hour_merchant_count\", \"hour_code1_count\",\n",
    "                       \"hour_code2_count\", \"hour_trans_type1_count\",\n",
    "                       \"hour_acc_id1_count\", \"hour_device_code1_count\",\n",
    "                       \"hour_device_code2_count\", \"hour_device_code3_count\",\n",
    "                       \"hour_device1_count\", \"hour_device2_count\",\n",
    "                       \"hour_mac1_count\", \"hour_ip1_count\",\n",
    "                       \"hour_bal_count\", \"hour_amt_src2_count\",\n",
    "                       \"hour_acc_id2_count\", \"hour_acc_id3_count\",\n",
    "                       \"hour_geo_code_count\", \"hour_trans_type2_count\",\n",
    "                       \"hour_market_code_count\", \"hour_market_type_count\",\n",
    "                       \"hour_ip1_sub_count\", \"hour_hour_count\",\n",
    "                       \"hour_minutes_count\"]\n",
    "data4 = pd.merge(data4, hour_count, how=\"left\", on=\"UID\")\n",
    "\n",
    "minutes_gby = trans.groupby([\"minutes\"], as_index=False)\n",
    "minutes_count = minutes_gby.count()\n",
    "minutes_count.columns=[\"UID\", \"minutes_channel_count\", \"minutes_day_count\",\n",
    "                       \"minutes_trans_amt_count\", \"minutes_amt_src1_count\",\n",
    "                       \"minutes_merchant_count\", \"minutes_code1_count\",\n",
    "                       \"minutes_code2_count\", \"minutes_trans_type1_count\",\n",
    "                       \"minutes_acc_id1_count\", \"minutes_device_code1_count\",\n",
    "                       \"minutes_device_code2_count\", \"minutes_device_code3_count\",\n",
    "                       \"minutes_device1_count\", \"minutes_device2_count\",\n",
    "                       \"minutes_mac1_count\", \"minutes_ip1_count\",\n",
    "                       \"minutes_bal_count\", \"minutes_amt_src2_count\",\n",
    "                       \"minutes_acc_id2_count\", \"minutes_acc_id3_count\",\n",
    "                       \"minutes_geo_code_count\", \"minutes_trans_type2_count\",\n",
    "                       \"minutes_market_code_count\", \"minutes_market_type_count\",\n",
    "                       \"minutes_ip1_sub_count\", \"minutes_hour_count\",\n",
    "                       \"minutes_minutes_count\"]\n",
    "data4 = pd.merge(data4, minutes_count, how=\"left\", on=\"UID\")\n"
   ]
  },
  {
   "cell_type": "code",
   "execution_count": 38,
   "metadata": {},
   "outputs": [
    {
     "data": {
      "text/plain": [
       "(433635, 798)"
      ]
     },
     "execution_count": 38,
     "metadata": {},
     "output_type": "execute_result"
    }
   ],
   "source": [
    "data4.shape"
   ]
  },
  {
   "cell_type": "markdown",
   "metadata": {},
   "source": [
    "#### 给test添加标签，用以区分train数据"
   ]
  },
  {
   "cell_type": "code",
   "execution_count": 39,
   "metadata": {},
   "outputs": [],
   "source": [
    "tag_train = pd.read_csv(\"../data/tag_train_new.csv\")\n",
    "operation_round1 = operation_round1.drop_duplicates([\"UID\"], keep=\"last\")\n",
    "transaction_round1 = transaction_round1.drop_duplicates([\"UID\"], keep=\"last\")\n",
    "test_C = pd.merge(operation_round1, transaction_round1, on=\"UID\", how=\"outer\")\n",
    "prob_sample = pd.DataFrame({\"UID\": test_C.UID, \"Tag\": -1})"
   ]
  },
  {
   "cell_type": "code",
   "execution_count": 40,
   "metadata": {},
   "outputs": [
    {
     "ename": "MemoryError",
     "evalue": "",
     "output_type": "error",
     "traceback": [
      "\u001b[1;31m---------------------------------------------------------------------------\u001b[0m",
      "\u001b[1;31mMemoryError\u001b[0m                               Traceback (most recent call last)",
      "\u001b[1;32m<ipython-input-40-301be578e5d5>\u001b[0m in \u001b[0;36m<module>\u001b[1;34m()\u001b[0m\n\u001b[1;32m----> 1\u001b[1;33m \u001b[0mdata\u001b[0m \u001b[1;33m=\u001b[0m \u001b[0mpd\u001b[0m\u001b[1;33m.\u001b[0m\u001b[0mmerge\u001b[0m\u001b[1;33m(\u001b[0m\u001b[0mdata2\u001b[0m\u001b[1;33m,\u001b[0m \u001b[0mdata4\u001b[0m\u001b[1;33m,\u001b[0m \u001b[0mhow\u001b[0m\u001b[1;33m=\u001b[0m\u001b[1;34m\"outer\"\u001b[0m\u001b[1;33m,\u001b[0m \u001b[0mon\u001b[0m\u001b[1;33m=\u001b[0m\u001b[1;34m\"UID\"\u001b[0m\u001b[1;33m)\u001b[0m\u001b[1;33m.\u001b[0m\u001b[0mdrop_duplicates\u001b[0m\u001b[1;33m(\u001b[0m\u001b[1;34m\"UID\"\u001b[0m\u001b[1;33m)\u001b[0m\u001b[1;33m\u001b[0m\u001b[0m\n\u001b[0m",
      "\u001b[1;32mD:\\python3\\lib\\site-packages\\pandas\\core\\frame.py\u001b[0m in \u001b[0;36mdrop_duplicates\u001b[1;34m(self, subset, keep, inplace)\u001b[0m\n\u001b[0;32m   4333\u001b[0m             \u001b[0mself\u001b[0m\u001b[1;33m.\u001b[0m\u001b[0m_update_inplace\u001b[0m\u001b[1;33m(\u001b[0m\u001b[0mnew_data\u001b[0m\u001b[1;33m)\u001b[0m\u001b[1;33m\u001b[0m\u001b[0m\n\u001b[0;32m   4334\u001b[0m         \u001b[1;32melse\u001b[0m\u001b[1;33m:\u001b[0m\u001b[1;33m\u001b[0m\u001b[0m\n\u001b[1;32m-> 4335\u001b[1;33m             \u001b[1;32mreturn\u001b[0m \u001b[0mself\u001b[0m\u001b[1;33m[\u001b[0m\u001b[1;33m-\u001b[0m\u001b[0mduplicated\u001b[0m\u001b[1;33m]\u001b[0m\u001b[1;33m\u001b[0m\u001b[0m\n\u001b[0m\u001b[0;32m   4336\u001b[0m \u001b[1;33m\u001b[0m\u001b[0m\n\u001b[0;32m   4337\u001b[0m     \u001b[1;32mdef\u001b[0m \u001b[0mduplicated\u001b[0m\u001b[1;33m(\u001b[0m\u001b[0mself\u001b[0m\u001b[1;33m,\u001b[0m \u001b[0msubset\u001b[0m\u001b[1;33m=\u001b[0m\u001b[1;32mNone\u001b[0m\u001b[1;33m,\u001b[0m \u001b[0mkeep\u001b[0m\u001b[1;33m=\u001b[0m\u001b[1;34m'first'\u001b[0m\u001b[1;33m)\u001b[0m\u001b[1;33m:\u001b[0m\u001b[1;33m\u001b[0m\u001b[0m\n",
      "\u001b[1;32mD:\\python3\\lib\\site-packages\\pandas\\core\\frame.py\u001b[0m in \u001b[0;36m__getitem__\u001b[1;34m(self, key)\u001b[0m\n\u001b[0;32m   2677\u001b[0m         \u001b[1;32mif\u001b[0m \u001b[0misinstance\u001b[0m\u001b[1;33m(\u001b[0m\u001b[0mkey\u001b[0m\u001b[1;33m,\u001b[0m \u001b[1;33m(\u001b[0m\u001b[0mSeries\u001b[0m\u001b[1;33m,\u001b[0m \u001b[0mnp\u001b[0m\u001b[1;33m.\u001b[0m\u001b[0mndarray\u001b[0m\u001b[1;33m,\u001b[0m \u001b[0mIndex\u001b[0m\u001b[1;33m,\u001b[0m \u001b[0mlist\u001b[0m\u001b[1;33m)\u001b[0m\u001b[1;33m)\u001b[0m\u001b[1;33m:\u001b[0m\u001b[1;33m\u001b[0m\u001b[0m\n\u001b[0;32m   2678\u001b[0m             \u001b[1;31m# either boolean or fancy integer index\u001b[0m\u001b[1;33m\u001b[0m\u001b[1;33m\u001b[0m\u001b[0m\n\u001b[1;32m-> 2679\u001b[1;33m             \u001b[1;32mreturn\u001b[0m \u001b[0mself\u001b[0m\u001b[1;33m.\u001b[0m\u001b[0m_getitem_array\u001b[0m\u001b[1;33m(\u001b[0m\u001b[0mkey\u001b[0m\u001b[1;33m)\u001b[0m\u001b[1;33m\u001b[0m\u001b[0m\n\u001b[0m\u001b[0;32m   2680\u001b[0m         \u001b[1;32melif\u001b[0m \u001b[0misinstance\u001b[0m\u001b[1;33m(\u001b[0m\u001b[0mkey\u001b[0m\u001b[1;33m,\u001b[0m \u001b[0mDataFrame\u001b[0m\u001b[1;33m)\u001b[0m\u001b[1;33m:\u001b[0m\u001b[1;33m\u001b[0m\u001b[0m\n\u001b[0;32m   2681\u001b[0m             \u001b[1;32mreturn\u001b[0m \u001b[0mself\u001b[0m\u001b[1;33m.\u001b[0m\u001b[0m_getitem_frame\u001b[0m\u001b[1;33m(\u001b[0m\u001b[0mkey\u001b[0m\u001b[1;33m)\u001b[0m\u001b[1;33m\u001b[0m\u001b[0m\n",
      "\u001b[1;32mD:\\python3\\lib\\site-packages\\pandas\\core\\frame.py\u001b[0m in \u001b[0;36m_getitem_array\u001b[1;34m(self, key)\u001b[0m\n\u001b[0;32m   2719\u001b[0m             \u001b[0mkey\u001b[0m \u001b[1;33m=\u001b[0m \u001b[0mcheck_bool_indexer\u001b[0m\u001b[1;33m(\u001b[0m\u001b[0mself\u001b[0m\u001b[1;33m.\u001b[0m\u001b[0mindex\u001b[0m\u001b[1;33m,\u001b[0m \u001b[0mkey\u001b[0m\u001b[1;33m)\u001b[0m\u001b[1;33m\u001b[0m\u001b[0m\n\u001b[0;32m   2720\u001b[0m             \u001b[0mindexer\u001b[0m \u001b[1;33m=\u001b[0m \u001b[0mkey\u001b[0m\u001b[1;33m.\u001b[0m\u001b[0mnonzero\u001b[0m\u001b[1;33m(\u001b[0m\u001b[1;33m)\u001b[0m\u001b[1;33m[\u001b[0m\u001b[1;36m0\u001b[0m\u001b[1;33m]\u001b[0m\u001b[1;33m\u001b[0m\u001b[0m\n\u001b[1;32m-> 2721\u001b[1;33m             \u001b[1;32mreturn\u001b[0m \u001b[0mself\u001b[0m\u001b[1;33m.\u001b[0m\u001b[0m_take\u001b[0m\u001b[1;33m(\u001b[0m\u001b[0mindexer\u001b[0m\u001b[1;33m,\u001b[0m \u001b[0maxis\u001b[0m\u001b[1;33m=\u001b[0m\u001b[1;36m0\u001b[0m\u001b[1;33m)\u001b[0m\u001b[1;33m\u001b[0m\u001b[0m\n\u001b[0m\u001b[0;32m   2722\u001b[0m         \u001b[1;32melse\u001b[0m\u001b[1;33m:\u001b[0m\u001b[1;33m\u001b[0m\u001b[0m\n\u001b[0;32m   2723\u001b[0m             \u001b[0mindexer\u001b[0m \u001b[1;33m=\u001b[0m \u001b[0mself\u001b[0m\u001b[1;33m.\u001b[0m\u001b[0mloc\u001b[0m\u001b[1;33m.\u001b[0m\u001b[0m_convert_to_indexer\u001b[0m\u001b[1;33m(\u001b[0m\u001b[0mkey\u001b[0m\u001b[1;33m,\u001b[0m \u001b[0maxis\u001b[0m\u001b[1;33m=\u001b[0m\u001b[1;36m1\u001b[0m\u001b[1;33m)\u001b[0m\u001b[1;33m\u001b[0m\u001b[0m\n",
      "\u001b[1;32mD:\\python3\\lib\\site-packages\\pandas\\core\\generic.py\u001b[0m in \u001b[0;36m_take\u001b[1;34m(self, indices, axis, is_copy)\u001b[0m\n\u001b[0;32m   2780\u001b[0m     \u001b[1;33m@\u001b[0m\u001b[0mAppender\u001b[0m\u001b[1;33m(\u001b[0m\u001b[0m_shared_docs\u001b[0m\u001b[1;33m[\u001b[0m\u001b[1;34m'_take'\u001b[0m\u001b[1;33m]\u001b[0m\u001b[1;33m)\u001b[0m\u001b[1;33m\u001b[0m\u001b[0m\n\u001b[0;32m   2781\u001b[0m     \u001b[1;32mdef\u001b[0m \u001b[0m_take\u001b[0m\u001b[1;33m(\u001b[0m\u001b[0mself\u001b[0m\u001b[1;33m,\u001b[0m \u001b[0mindices\u001b[0m\u001b[1;33m,\u001b[0m \u001b[0maxis\u001b[0m\u001b[1;33m=\u001b[0m\u001b[1;36m0\u001b[0m\u001b[1;33m,\u001b[0m \u001b[0mis_copy\u001b[0m\u001b[1;33m=\u001b[0m\u001b[1;32mTrue\u001b[0m\u001b[1;33m)\u001b[0m\u001b[1;33m:\u001b[0m\u001b[1;33m\u001b[0m\u001b[0m\n\u001b[1;32m-> 2782\u001b[1;33m         \u001b[0mself\u001b[0m\u001b[1;33m.\u001b[0m\u001b[0m_consolidate_inplace\u001b[0m\u001b[1;33m(\u001b[0m\u001b[1;33m)\u001b[0m\u001b[1;33m\u001b[0m\u001b[0m\n\u001b[0m\u001b[0;32m   2783\u001b[0m \u001b[1;33m\u001b[0m\u001b[0m\n\u001b[0;32m   2784\u001b[0m         new_data = self._data.take(indices,\n",
      "\u001b[1;32mD:\\python3\\lib\\site-packages\\pandas\\core\\generic.py\u001b[0m in \u001b[0;36m_consolidate_inplace\u001b[1;34m(self)\u001b[0m\n\u001b[0;32m   4433\u001b[0m             \u001b[0mself\u001b[0m\u001b[1;33m.\u001b[0m\u001b[0m_data\u001b[0m \u001b[1;33m=\u001b[0m \u001b[0mself\u001b[0m\u001b[1;33m.\u001b[0m\u001b[0m_data\u001b[0m\u001b[1;33m.\u001b[0m\u001b[0mconsolidate\u001b[0m\u001b[1;33m(\u001b[0m\u001b[1;33m)\u001b[0m\u001b[1;33m\u001b[0m\u001b[0m\n\u001b[0;32m   4434\u001b[0m \u001b[1;33m\u001b[0m\u001b[0m\n\u001b[1;32m-> 4435\u001b[1;33m         \u001b[0mself\u001b[0m\u001b[1;33m.\u001b[0m\u001b[0m_protect_consolidate\u001b[0m\u001b[1;33m(\u001b[0m\u001b[0mf\u001b[0m\u001b[1;33m)\u001b[0m\u001b[1;33m\u001b[0m\u001b[0m\n\u001b[0m\u001b[0;32m   4436\u001b[0m \u001b[1;33m\u001b[0m\u001b[0m\n\u001b[0;32m   4437\u001b[0m     \u001b[1;32mdef\u001b[0m \u001b[0m_consolidate\u001b[0m\u001b[1;33m(\u001b[0m\u001b[0mself\u001b[0m\u001b[1;33m,\u001b[0m \u001b[0minplace\u001b[0m\u001b[1;33m=\u001b[0m\u001b[1;32mFalse\u001b[0m\u001b[1;33m)\u001b[0m\u001b[1;33m:\u001b[0m\u001b[1;33m\u001b[0m\u001b[0m\n",
      "\u001b[1;32mD:\\python3\\lib\\site-packages\\pandas\\core\\generic.py\u001b[0m in \u001b[0;36m_protect_consolidate\u001b[1;34m(self, f)\u001b[0m\n\u001b[0;32m   4422\u001b[0m         \"\"\"\n\u001b[0;32m   4423\u001b[0m         \u001b[0mblocks_before\u001b[0m \u001b[1;33m=\u001b[0m \u001b[0mlen\u001b[0m\u001b[1;33m(\u001b[0m\u001b[0mself\u001b[0m\u001b[1;33m.\u001b[0m\u001b[0m_data\u001b[0m\u001b[1;33m.\u001b[0m\u001b[0mblocks\u001b[0m\u001b[1;33m)\u001b[0m\u001b[1;33m\u001b[0m\u001b[0m\n\u001b[1;32m-> 4424\u001b[1;33m         \u001b[0mresult\u001b[0m \u001b[1;33m=\u001b[0m \u001b[0mf\u001b[0m\u001b[1;33m(\u001b[0m\u001b[1;33m)\u001b[0m\u001b[1;33m\u001b[0m\u001b[0m\n\u001b[0m\u001b[0;32m   4425\u001b[0m         \u001b[1;32mif\u001b[0m \u001b[0mlen\u001b[0m\u001b[1;33m(\u001b[0m\u001b[0mself\u001b[0m\u001b[1;33m.\u001b[0m\u001b[0m_data\u001b[0m\u001b[1;33m.\u001b[0m\u001b[0mblocks\u001b[0m\u001b[1;33m)\u001b[0m \u001b[1;33m!=\u001b[0m \u001b[0mblocks_before\u001b[0m\u001b[1;33m:\u001b[0m\u001b[1;33m\u001b[0m\u001b[0m\n\u001b[0;32m   4426\u001b[0m             \u001b[0mself\u001b[0m\u001b[1;33m.\u001b[0m\u001b[0m_clear_item_cache\u001b[0m\u001b[1;33m(\u001b[0m\u001b[1;33m)\u001b[0m\u001b[1;33m\u001b[0m\u001b[0m\n",
      "\u001b[1;32mD:\\python3\\lib\\site-packages\\pandas\\core\\generic.py\u001b[0m in \u001b[0;36mf\u001b[1;34m()\u001b[0m\n\u001b[0;32m   4431\u001b[0m \u001b[1;33m\u001b[0m\u001b[0m\n\u001b[0;32m   4432\u001b[0m         \u001b[1;32mdef\u001b[0m \u001b[0mf\u001b[0m\u001b[1;33m(\u001b[0m\u001b[1;33m)\u001b[0m\u001b[1;33m:\u001b[0m\u001b[1;33m\u001b[0m\u001b[0m\n\u001b[1;32m-> 4433\u001b[1;33m             \u001b[0mself\u001b[0m\u001b[1;33m.\u001b[0m\u001b[0m_data\u001b[0m \u001b[1;33m=\u001b[0m \u001b[0mself\u001b[0m\u001b[1;33m.\u001b[0m\u001b[0m_data\u001b[0m\u001b[1;33m.\u001b[0m\u001b[0mconsolidate\u001b[0m\u001b[1;33m(\u001b[0m\u001b[1;33m)\u001b[0m\u001b[1;33m\u001b[0m\u001b[0m\n\u001b[0m\u001b[0;32m   4434\u001b[0m \u001b[1;33m\u001b[0m\u001b[0m\n\u001b[0;32m   4435\u001b[0m         \u001b[0mself\u001b[0m\u001b[1;33m.\u001b[0m\u001b[0m_protect_consolidate\u001b[0m\u001b[1;33m(\u001b[0m\u001b[0mf\u001b[0m\u001b[1;33m)\u001b[0m\u001b[1;33m\u001b[0m\u001b[0m\n",
      "\u001b[1;32mD:\\python3\\lib\\site-packages\\pandas\\core\\internals.py\u001b[0m in \u001b[0;36mconsolidate\u001b[1;34m(self)\u001b[0m\n\u001b[0;32m   4096\u001b[0m         \u001b[0mbm\u001b[0m \u001b[1;33m=\u001b[0m \u001b[0mself\u001b[0m\u001b[1;33m.\u001b[0m\u001b[0m__class__\u001b[0m\u001b[1;33m(\u001b[0m\u001b[0mself\u001b[0m\u001b[1;33m.\u001b[0m\u001b[0mblocks\u001b[0m\u001b[1;33m,\u001b[0m \u001b[0mself\u001b[0m\u001b[1;33m.\u001b[0m\u001b[0maxes\u001b[0m\u001b[1;33m)\u001b[0m\u001b[1;33m\u001b[0m\u001b[0m\n\u001b[0;32m   4097\u001b[0m         \u001b[0mbm\u001b[0m\u001b[1;33m.\u001b[0m\u001b[0m_is_consolidated\u001b[0m \u001b[1;33m=\u001b[0m \u001b[1;32mFalse\u001b[0m\u001b[1;33m\u001b[0m\u001b[0m\n\u001b[1;32m-> 4098\u001b[1;33m         \u001b[0mbm\u001b[0m\u001b[1;33m.\u001b[0m\u001b[0m_consolidate_inplace\u001b[0m\u001b[1;33m(\u001b[0m\u001b[1;33m)\u001b[0m\u001b[1;33m\u001b[0m\u001b[0m\n\u001b[0m\u001b[0;32m   4099\u001b[0m         \u001b[1;32mreturn\u001b[0m \u001b[0mbm\u001b[0m\u001b[1;33m\u001b[0m\u001b[0m\n\u001b[0;32m   4100\u001b[0m \u001b[1;33m\u001b[0m\u001b[0m\n",
      "\u001b[1;32mD:\\python3\\lib\\site-packages\\pandas\\core\\internals.py\u001b[0m in \u001b[0;36m_consolidate_inplace\u001b[1;34m(self)\u001b[0m\n\u001b[0;32m   4101\u001b[0m     \u001b[1;32mdef\u001b[0m \u001b[0m_consolidate_inplace\u001b[0m\u001b[1;33m(\u001b[0m\u001b[0mself\u001b[0m\u001b[1;33m)\u001b[0m\u001b[1;33m:\u001b[0m\u001b[1;33m\u001b[0m\u001b[0m\n\u001b[0;32m   4102\u001b[0m         \u001b[1;32mif\u001b[0m \u001b[1;32mnot\u001b[0m \u001b[0mself\u001b[0m\u001b[1;33m.\u001b[0m\u001b[0mis_consolidated\u001b[0m\u001b[1;33m(\u001b[0m\u001b[1;33m)\u001b[0m\u001b[1;33m:\u001b[0m\u001b[1;33m\u001b[0m\u001b[0m\n\u001b[1;32m-> 4103\u001b[1;33m             \u001b[0mself\u001b[0m\u001b[1;33m.\u001b[0m\u001b[0mblocks\u001b[0m \u001b[1;33m=\u001b[0m \u001b[0mtuple\u001b[0m\u001b[1;33m(\u001b[0m\u001b[0m_consolidate\u001b[0m\u001b[1;33m(\u001b[0m\u001b[0mself\u001b[0m\u001b[1;33m.\u001b[0m\u001b[0mblocks\u001b[0m\u001b[1;33m)\u001b[0m\u001b[1;33m)\u001b[0m\u001b[1;33m\u001b[0m\u001b[0m\n\u001b[0m\u001b[0;32m   4104\u001b[0m             \u001b[0mself\u001b[0m\u001b[1;33m.\u001b[0m\u001b[0m_is_consolidated\u001b[0m \u001b[1;33m=\u001b[0m \u001b[1;32mTrue\u001b[0m\u001b[1;33m\u001b[0m\u001b[0m\n\u001b[0;32m   4105\u001b[0m             \u001b[0mself\u001b[0m\u001b[1;33m.\u001b[0m\u001b[0m_known_consolidated\u001b[0m \u001b[1;33m=\u001b[0m \u001b[1;32mTrue\u001b[0m\u001b[1;33m\u001b[0m\u001b[0m\n",
      "\u001b[1;32mD:\\python3\\lib\\site-packages\\pandas\\core\\internals.py\u001b[0m in \u001b[0;36m_consolidate\u001b[1;34m(blocks)\u001b[0m\n\u001b[0;32m   5067\u001b[0m     \u001b[1;32mfor\u001b[0m \u001b[1;33m(\u001b[0m\u001b[0m_can_consolidate\u001b[0m\u001b[1;33m,\u001b[0m \u001b[0mdtype\u001b[0m\u001b[1;33m)\u001b[0m\u001b[1;33m,\u001b[0m \u001b[0mgroup_blocks\u001b[0m \u001b[1;32min\u001b[0m \u001b[0mgrouper\u001b[0m\u001b[1;33m:\u001b[0m\u001b[1;33m\u001b[0m\u001b[0m\n\u001b[0;32m   5068\u001b[0m         merged_blocks = _merge_blocks(list(group_blocks), dtype=dtype,\n\u001b[1;32m-> 5069\u001b[1;33m                                       _can_consolidate=_can_consolidate)\n\u001b[0m\u001b[0;32m   5070\u001b[0m         \u001b[0mnew_blocks\u001b[0m \u001b[1;33m=\u001b[0m \u001b[0m_extend_blocks\u001b[0m\u001b[1;33m(\u001b[0m\u001b[0mmerged_blocks\u001b[0m\u001b[1;33m,\u001b[0m \u001b[0mnew_blocks\u001b[0m\u001b[1;33m)\u001b[0m\u001b[1;33m\u001b[0m\u001b[0m\n\u001b[0;32m   5071\u001b[0m     \u001b[1;32mreturn\u001b[0m \u001b[0mnew_blocks\u001b[0m\u001b[1;33m\u001b[0m\u001b[0m\n",
      "\u001b[1;32mD:\\python3\\lib\\site-packages\\pandas\\core\\internals.py\u001b[0m in \u001b[0;36m_merge_blocks\u001b[1;34m(blocks, dtype, _can_consolidate)\u001b[0m\n\u001b[0;32m   5090\u001b[0m \u001b[1;33m\u001b[0m\u001b[0m\n\u001b[0;32m   5091\u001b[0m         \u001b[0margsort\u001b[0m \u001b[1;33m=\u001b[0m \u001b[0mnp\u001b[0m\u001b[1;33m.\u001b[0m\u001b[0margsort\u001b[0m\u001b[1;33m(\u001b[0m\u001b[0mnew_mgr_locs\u001b[0m\u001b[1;33m)\u001b[0m\u001b[1;33m\u001b[0m\u001b[0m\n\u001b[1;32m-> 5092\u001b[1;33m         \u001b[0mnew_values\u001b[0m \u001b[1;33m=\u001b[0m \u001b[0mnew_values\u001b[0m\u001b[1;33m[\u001b[0m\u001b[0margsort\u001b[0m\u001b[1;33m]\u001b[0m\u001b[1;33m\u001b[0m\u001b[0m\n\u001b[0m\u001b[0;32m   5093\u001b[0m         \u001b[0mnew_mgr_locs\u001b[0m \u001b[1;33m=\u001b[0m \u001b[0mnew_mgr_locs\u001b[0m\u001b[1;33m[\u001b[0m\u001b[0margsort\u001b[0m\u001b[1;33m]\u001b[0m\u001b[1;33m\u001b[0m\u001b[0m\n\u001b[0;32m   5094\u001b[0m \u001b[1;33m\u001b[0m\u001b[0m\n",
      "\u001b[1;31mMemoryError\u001b[0m: "
     ]
    }
   ],
   "source": [
    "data = pd.merge(data2, data4, how=\"outer\", on=\"UID\").drop_duplicates(\"UID\")"
   ]
  },
  {
   "cell_type": "markdown",
   "metadata": {},
   "source": [
    "#### 获得train集数据"
   ]
  },
  {
   "cell_type": "code",
   "execution_count": null,
   "metadata": {},
   "outputs": [],
   "source": [
    "train= pd.merge(data, tag_train, how=\"inner\", on=\"UID\")\n",
    "train = train.sort_values(\"UID\")"
   ]
  },
  {
   "cell_type": "code",
   "execution_count": null,
   "metadata": {},
   "outputs": [],
   "source": [
    "train.shape"
   ]
  },
  {
   "cell_type": "markdown",
   "metadata": {},
   "source": [
    "#### 获得test集数据"
   ]
  },
  {
   "cell_type": "code",
   "execution_count": null,
   "metadata": {},
   "outputs": [],
   "source": [
    "test = pd.merge(data, prob_sample, how=\"inner\", on=\"UID\")\n",
    "test = test.sort_values(\"UID\")\n",
    "test = test.drop([\"Tag\"], axis=1)"
   ]
  },
  {
   "cell_type": "code",
   "execution_count": null,
   "metadata": {},
   "outputs": [],
   "source": [
    "test.shape"
   ]
  },
  {
   "cell_type": "code",
   "execution_count": null,
   "metadata": {},
   "outputs": [],
   "source": [
    "train.to_csv(\"../data/train_new1.csv\", index=False)\n",
    "test.to_csv(\"../data/test_new1.csv\", index=False)"
   ]
  },
  {
   "cell_type": "code",
   "execution_count": null,
   "metadata": {},
   "outputs": [],
   "source": []
  },
  {
   "cell_type": "code",
   "execution_count": null,
   "metadata": {},
   "outputs": [],
   "source": []
  }
 ],
 "metadata": {
  "kernelspec": {
   "display_name": "Python 3",
   "language": "python",
   "name": "python3"
  },
  "language_info": {
   "codemirror_mode": {
    "name": "ipython",
    "version": 3
   },
   "file_extension": ".py",
   "mimetype": "text/x-python",
   "name": "python",
   "nbconvert_exporter": "python",
   "pygments_lexer": "ipython3",
   "version": "3.6.5"
  }
 },
 "nbformat": 4,
 "nbformat_minor": 2
}
