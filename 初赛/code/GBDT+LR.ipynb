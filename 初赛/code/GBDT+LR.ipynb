{
 "cells": [
  {
   "cell_type": "code",
   "execution_count": 1,
   "metadata": {},
   "outputs": [],
   "source": [
    "# !/usr/bin/python3\n",
    "# -*- coding: utf-8 -*-\n",
    "\n",
    "import numpy as np\n",
    "import pandas as pd\n",
    "from sklearn.linear_model import LogisticRegression\n",
    "from sklearn.model_selection import train_test_split\n",
    "import lightgbm as lgb\n",
    "from sklearn.preprocessing import MinMaxScaler, OneHotEncoder, LabelEncoder\n",
    "from sklearn.metrics import log_loss\n",
    "import warnings\n",
    "warnings.filterwarnings(\"ignore\")\n",
    "import gc\n",
    "from scipy import sparse\n",
    "import matplotlib.pyplot as plt\n",
    "from sklearn.metrics import roc_curve, auc"
   ]
  },
  {
   "cell_type": "code",
   "execution_count": 2,
   "metadata": {},
   "outputs": [],
   "source": [
    "def preProcess():\n",
    "    path = \"../data/\"\n",
    "    print(\"读取数据...\")\n",
    "    operation_TRAIN = pd.read_csv(\"../data/operation_TRAIN.csv\")\n",
    "    transaction_TRAIN = pd.read_csv(\"../data/transaction_TRAIN.csv\")\n",
    "    tag_TRAIN = pd.read_csv(\"../data/tag_TRAIN.csv\")\n",
    "    operation_TRAIN = operation_TRAIN.drop_duplicates([\"UID\"], keep=\"last\")\n",
    "    transaction_TRAIN = transaction_TRAIN.drop_duplicates([\"UID\"], keep=\"last\")\n",
    "    train_X = pd.merge(operation_TRAIN, transaction_TRAIN, on=\"UID\", how=\"outer\")\n",
    "    df_train = pd.merge(train_X, tag_TRAIN, on=\"UID\", how=\"left\")\n",
    "\n",
    "    \n",
    "    operation_round1 = pd.read_csv(\"../data/operation_round1.csv\")\n",
    "    transaction_round1 = pd.read_csv(\"../data/transaction_round1.csv\")\n",
    "    operation_round1 = operation_round1.drop_duplicates([\"UID\"], keep=\"last\")\n",
    "    transaction_round1 = transaction_round1.drop_duplicates([\"UID\"], keep=\"last\")\n",
    "    df_test = pd.merge(operation_round1, transaction_round1, on=\"UID\", how=\"outer\")\n",
    "    \n",
    "    \n",
    "    print(\"读取结束...\")\n",
    "    df_train.drop([\"UID\"], axis=1, inplace=True)\n",
    "    df_test_UID = df_test[\"UID\"]\n",
    "    df_test.drop([\"UID\"], axis=1, inplace=True)\n",
    "    df_test[\"Tag\"] = -1\n",
    "    data = pd.concat([df_train, df_test])\n",
    "    data = data.fillna(-1)\n",
    "    data.to_csv(\"../data/data.csv\", index=False)\n",
    "    return df_test_UID, data"
   ]
  },
  {
   "cell_type": "code",
   "execution_count": 3,
   "metadata": {},
   "outputs": [],
   "source": [
    "def gbdt_lr_predict(data, dis_feature, con_feature, df_test_UID):\n",
    "    \"\"\"离散特征one-hot\"\"\"\n",
    "    print(\"开始one-hot...\")\n",
    "    for col in dis_feature:\n",
    "        onehot_feats = pd.get_dummies(data[col], prefix=col)\n",
    "        data.drop([col], axis=1, inplace=True)\n",
    "        data = pd.concat([data, onehot_feats], axis=1)\n",
    "    print(\"one-hot结束\")\n",
    "    \n",
    "    train = data[data[\"Tag\"] != -1]\n",
    "    target = train.pop(\"Tag\")\n",
    "    test = data[data[\"Tag\"] == -1]\n",
    "    test.drop([\"Tag\"], axis=1, inplace=True)\n",
    "    \n",
    "    print(\"划分数据集...\")\n",
    "    x_train, x_val, y_train, y_val = train_test_split(train, target, test_size=0.2, random_state=2018)\n",
    "    \n",
    "    print(\"开始训练gbdt...\")\n",
    "    gbm = lgb.LGBMRegressor(objective=\"binary\",\n",
    "                            subsample=0.8,\n",
    "                            min_child_weight=0.5,\n",
    "                            colsample_bylevel=0.8,\n",
    "                            num_leaves=50,\n",
    "                            max_depth=12,\n",
    "                            learning_rate=0.01,\n",
    "                            n_estimators=10)\n",
    "    gbm.fit(x_train, y_train, \n",
    "            eval_set=[(x_train, y_train), (x_val, y_val)],\n",
    "            eval_names=[\"train\", \"val\"],\n",
    "            eval_metric=\"binary_logloss\")\n",
    "    model = gbm.booster_\n",
    "    print(\"训练得到叶子数...\")\n",
    "    gbdt_feats_train = model.predict(train, pred_leaf=True)\n",
    "    gbdt_feats_test = model.predict(test, pred_leaf=True)\n",
    "    gbdt_feats_name = [\"gbdt_leaf_\" + str(i) for i in range(gbdt_feats_train.shape[1])]\n",
    "    df_train_gbdt_feats = pd.DataFrame(gbdt_feats_train, columns=gbdt_feats_name)\n",
    "    df_test_gbdt_feats = pd.DataFrame(gbdt_feats_test, columns=gbdt_feats_name)\n",
    "\n",
    "    \n",
    "    print(\"构造新的数据集...\")\n",
    "    train = pd.concat([train, df_train_gbdt_feats], axis=1)\n",
    "    test = pd.concat([test, df_test_gbdt_feats], axis=1)\n",
    "    train_len = train.shape[0]\n",
    "    data = pd.concat([train, test])\n",
    "    del train\n",
    "    del test\n",
    "    gc.collect()\n",
    "    \n",
    "    \n",
    "    \"\"\"连续特征归一化\"\"\"\n",
    "    print(\"开始归一化...\")\n",
    "    scaler = MinMaxScaler()\n",
    "    for col in con_feature:\n",
    "        data[col] = scaler.fit_transform(data[col].values.reshape(-1, 1))\n",
    "    print(\"归一化结束\")\n",
    "    \n",
    "    \"\"\"叶子数One-Hot\"\"\"\n",
    "    print(\"开始one-hot...\")\n",
    "    for col in gbdt_feats_name:\n",
    "        print(\"this is feature:\", col)\n",
    "        onehot_feats = pd.get_dummies(data[col], prefix=col)\n",
    "        data.drop([col], axis=1, inplace=True)\n",
    "        data = pd.concat([data, onehot_feats], axis=1)\n",
    "    print(\"one-hot结束\")\n",
    "    \n",
    "    train = data[ :train_len]\n",
    "    test = data[train_len: ]\n",
    "    del data\n",
    "    gc.collect()\n",
    "    \n",
    "    x_train, x_val, y_train, y_val = train_test_split(train, target, test_size=0.2, random_state=2018)\n",
    "    print(\"开始训练lr...\")\n",
    "    lr = LogisticRegression()\n",
    "    lr.fit(x_train, y_train)\n",
    "    tr_logloss = log_loss(y_train, lr.predict_proba(x_train)[:, 1])\n",
    "    print(\"tr-logloss:\", tr_logloss)\n",
    "    val_logloss = log_loss(y_val, lr.predict_proba(x_val)[:, 1])\n",
    "    print(\"val-logloss:\", val_logloss)\n",
    "    \n",
    "    \n",
    "    fpr, tpr, threshold = roc_curve(y_val, lr.predict_proba(x_val)[:, 1])\n",
    "    roc_auc = auc(fpr, tpr)\n",
    "    lw = 2\n",
    "    plt.plot(fpr, tpr, color=\"darkorange\", lw=lw, label=\"ROC curve (area = %0.5f)\" % roc_auc)\n",
    "    plt.plot([0, 1], [0, 1], color=\"navy\", lw=lw, linestyle=\"--\")  \n",
    "    plt.xlim([0.0, 1.0])  \n",
    "    plt.ylim([0.0, 1.05])  \n",
    "    plt.xlabel(\"False Positive Rate\")  \n",
    "    plt.ylabel(\"True Positive Rate\")  \n",
    "    plt.title( \"gbdt_lr\"+ \"ROC\")  \n",
    "    plt.legend(loc=\"lower right\")\n",
    "    plt.show()\n",
    "    \n",
    "    \n",
    "    \n",
    "    \n",
    "    print(\"开始预测...\")\n",
    "    y_pred = lr.predict_proba(test)[:, 1]\n",
    "    print(\"写入结果...\")\n",
    "    submission = pd.DataFrame({\"UID\": df_test_UID, \"Tag\": y_pred})\n",
    "    submission.to_csv(\"../submission/submission_gbdt+lr_trlogloss_%s_vallogloss_%s.csv\" % (tr_logloss, val_logloss), index=False)\n",
    "    print(\"结束\")\n",
    "    "
   ]
  },
  {
   "cell_type": "code",
   "execution_count": null,
   "metadata": {},
   "outputs": [
    {
     "name": "stdout",
     "output_type": "stream",
     "text": [
      "读取数据...\n",
      "读取结束...\n",
      "开始one-hot...\n"
     ]
    }
   ],
   "source": [
    "if __name__ == \"__main__\":\n",
    "    df_test_UID, data = preProcess()\n",
    "    feature = data.columns\n",
    "    col_feature = [\"day_x\", \"day_y\", \"bal\", \"trans_amt\"]\n",
    "    dis_feature = feature.drop(col_feature)\n",
    "    gbdt_lr_predict(data, dis_feature, col_feature, df_test_UID)"
   ]
  },
  {
   "cell_type": "code",
   "execution_count": null,
   "metadata": {},
   "outputs": [],
   "source": []
  },
  {
   "cell_type": "code",
   "execution_count": null,
   "metadata": {},
   "outputs": [],
   "source": []
  },
  {
   "cell_type": "code",
   "execution_count": null,
   "metadata": {},
   "outputs": [],
   "source": []
  },
  {
   "cell_type": "code",
   "execution_count": null,
   "metadata": {},
   "outputs": [],
   "source": []
  },
  {
   "cell_type": "code",
   "execution_count": null,
   "metadata": {},
   "outputs": [],
   "source": []
  },
  {
   "cell_type": "code",
   "execution_count": null,
   "metadata": {},
   "outputs": [],
   "source": []
  },
  {
   "cell_type": "code",
   "execution_count": null,
   "metadata": {},
   "outputs": [],
   "source": []
  },
  {
   "cell_type": "code",
   "execution_count": null,
   "metadata": {},
   "outputs": [],
   "source": []
  },
  {
   "cell_type": "code",
   "execution_count": null,
   "metadata": {},
   "outputs": [],
   "source": []
  },
  {
   "cell_type": "code",
   "execution_count": null,
   "metadata": {},
   "outputs": [],
   "source": []
  },
  {
   "cell_type": "code",
   "execution_count": null,
   "metadata": {},
   "outputs": [],
   "source": []
  },
  {
   "cell_type": "code",
   "execution_count": null,
   "metadata": {},
   "outputs": [],
   "source": []
  },
  {
   "cell_type": "code",
   "execution_count": null,
   "metadata": {},
   "outputs": [],
   "source": []
  },
  {
   "cell_type": "code",
   "execution_count": null,
   "metadata": {},
   "outputs": [],
   "source": []
  },
  {
   "cell_type": "code",
   "execution_count": null,
   "metadata": {},
   "outputs": [],
   "source": []
  },
  {
   "cell_type": "code",
   "execution_count": null,
   "metadata": {},
   "outputs": [],
   "source": []
  },
  {
   "cell_type": "code",
   "execution_count": null,
   "metadata": {},
   "outputs": [],
   "source": []
  },
  {
   "cell_type": "code",
   "execution_count": null,
   "metadata": {},
   "outputs": [],
   "source": []
  },
  {
   "cell_type": "code",
   "execution_count": null,
   "metadata": {},
   "outputs": [],
   "source": []
  },
  {
   "cell_type": "code",
   "execution_count": null,
   "metadata": {},
   "outputs": [],
   "source": []
  },
  {
   "cell_type": "code",
   "execution_count": null,
   "metadata": {},
   "outputs": [],
   "source": []
  },
  {
   "cell_type": "code",
   "execution_count": null,
   "metadata": {},
   "outputs": [],
   "source": []
  },
  {
   "cell_type": "code",
   "execution_count": null,
   "metadata": {},
   "outputs": [],
   "source": []
  },
  {
   "cell_type": "code",
   "execution_count": null,
   "metadata": {},
   "outputs": [],
   "source": []
  },
  {
   "cell_type": "code",
   "execution_count": null,
   "metadata": {},
   "outputs": [],
   "source": []
  }
 ],
 "metadata": {
  "kernelspec": {
   "display_name": "Python 3",
   "language": "python",
   "name": "python3"
  },
  "language_info": {
   "codemirror_mode": {
    "name": "ipython",
    "version": 3
   },
   "file_extension": ".py",
   "mimetype": "text/x-python",
   "name": "python",
   "nbconvert_exporter": "python",
   "pygments_lexer": "ipython3",
   "version": "3.6.5"
  }
 },
 "nbformat": 4,
 "nbformat_minor": 2
}
