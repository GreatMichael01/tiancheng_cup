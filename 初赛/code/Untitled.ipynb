{
 "cells": [
  {
   "cell_type": "markdown",
   "metadata": {},
   "source": [
    "## 数据分析"
   ]
  },
  {
   "cell_type": "code",
   "execution_count": 66,
   "metadata": {},
   "outputs": [],
   "source": [
    "import pandas as pd\n",
    "import numpy as np\n",
    "from sklearn import preprocessing\n",
    "from sklearn.preprocessing import OneHotEncoder  \n",
    "from sklearn.preprocessing import LabelEncoder "
   ]
  },
  {
   "cell_type": "code",
   "execution_count": 67,
   "metadata": {},
   "outputs": [],
   "source": [
    "operation_TRAIN = pd.read_csv(\"../data/operation_TRAIN.csv\")\n",
    "operation_TRAIN = operation_TRAIN.drop_duplicates(\"UID\")"
   ]
  },
  {
   "cell_type": "code",
   "execution_count": 68,
   "metadata": {},
   "outputs": [
    {
     "data": {
      "text/html": [
       "<div>\n",
       "<style scoped>\n",
       "    .dataframe tbody tr th:only-of-type {\n",
       "        vertical-align: middle;\n",
       "    }\n",
       "\n",
       "    .dataframe tbody tr th {\n",
       "        vertical-align: top;\n",
       "    }\n",
       "\n",
       "    .dataframe thead th {\n",
       "        text-align: right;\n",
       "    }\n",
       "</style>\n",
       "<table border=\"1\" class=\"dataframe\">\n",
       "  <thead>\n",
       "    <tr style=\"text-align: right;\">\n",
       "      <th></th>\n",
       "      <th>UID</th>\n",
       "      <th>day</th>\n",
       "      <th>mode</th>\n",
       "      <th>success</th>\n",
       "      <th>time</th>\n",
       "      <th>os</th>\n",
       "      <th>version</th>\n",
       "      <th>device1</th>\n",
       "      <th>device2</th>\n",
       "      <th>device_code1</th>\n",
       "      <th>device_code2</th>\n",
       "      <th>device_code3</th>\n",
       "      <th>mac1</th>\n",
       "      <th>mac2</th>\n",
       "      <th>ip1</th>\n",
       "      <th>ip2</th>\n",
       "      <th>wifi</th>\n",
       "      <th>geo_code</th>\n",
       "      <th>ip1_sub</th>\n",
       "      <th>ip2_sub</th>\n",
       "    </tr>\n",
       "  </thead>\n",
       "  <tbody>\n",
       "    <tr>\n",
       "      <th>0</th>\n",
       "      <td>10035</td>\n",
       "      <td>30</td>\n",
       "      <td>c8741ce15ceac2a4</td>\n",
       "      <td>1.0</td>\n",
       "      <td>17:51:50</td>\n",
       "      <td>102</td>\n",
       "      <td>7.0.9</td>\n",
       "      <td>49dd36968dbfadda</td>\n",
       "      <td>OPPO R11</td>\n",
       "      <td>ecb58082e0e9b8e2</td>\n",
       "      <td>00fa2e4ba95605ef</td>\n",
       "      <td>NaN</td>\n",
       "      <td>NaN</td>\n",
       "      <td>a8dc52f65085212e</td>\n",
       "      <td>55dd8936655c86f6</td>\n",
       "      <td>NaN</td>\n",
       "      <td>NaN</td>\n",
       "      <td>wskx</td>\n",
       "      <td>e58e48fb9215116e</td>\n",
       "      <td>NaN</td>\n",
       "    </tr>\n",
       "    <tr>\n",
       "      <th>1</th>\n",
       "      <td>16264</td>\n",
       "      <td>16</td>\n",
       "      <td>20a91b45ef8f8221</td>\n",
       "      <td>1.0</td>\n",
       "      <td>08:36:00</td>\n",
       "      <td>200</td>\n",
       "      <td>NaN</td>\n",
       "      <td>NaN</td>\n",
       "      <td>NaN</td>\n",
       "      <td>NaN</td>\n",
       "      <td>NaN</td>\n",
       "      <td>NaN</td>\n",
       "      <td>NaN</td>\n",
       "      <td>NaN</td>\n",
       "      <td>NaN</td>\n",
       "      <td>fc7fc47d6c93f554</td>\n",
       "      <td>NaN</td>\n",
       "      <td>NaN</td>\n",
       "      <td>NaN</td>\n",
       "      <td>3502c553ea2ac187</td>\n",
       "    </tr>\n",
       "  </tbody>\n",
       "</table>\n",
       "</div>"
      ],
      "text/plain": [
       "     UID  day              mode  success      time   os version  \\\n",
       "0  10035   30  c8741ce15ceac2a4      1.0  17:51:50  102   7.0.9   \n",
       "1  16264   16  20a91b45ef8f8221      1.0  08:36:00  200     NaN   \n",
       "\n",
       "            device1   device2      device_code1      device_code2  \\\n",
       "0  49dd36968dbfadda  OPPO R11  ecb58082e0e9b8e2  00fa2e4ba95605ef   \n",
       "1               NaN       NaN               NaN               NaN   \n",
       "\n",
       "  device_code3 mac1              mac2               ip1               ip2  \\\n",
       "0          NaN  NaN  a8dc52f65085212e  55dd8936655c86f6               NaN   \n",
       "1          NaN  NaN               NaN               NaN  fc7fc47d6c93f554   \n",
       "\n",
       "  wifi geo_code           ip1_sub           ip2_sub  \n",
       "0  NaN     wskx  e58e48fb9215116e               NaN  \n",
       "1  NaN      NaN               NaN  3502c553ea2ac187  "
      ]
     },
     "execution_count": 68,
     "metadata": {},
     "output_type": "execute_result"
    }
   ],
   "source": [
    "operation_TRAIN.head(2)"
   ]
  },
  {
   "cell_type": "code",
   "execution_count": 25,
   "metadata": {},
   "outputs": [],
   "source": [
    "feature = operation_TRAIN.drop(\"UID\", axis=1).columns\n",
    "con_feature = [\"day\"]\n",
    "dis_feature = feature.drop(con_feature).values.tolist()"
   ]
  },
  {
   "cell_type": "markdown",
   "metadata": {},
   "source": [
    "### 数据one-hot"
   ]
  },
  {
   "cell_type": "code",
   "execution_count": 75,
   "metadata": {},
   "outputs": [],
   "source": [
    "import pandas as pd\n",
    "import numpy as np\n",
    "from sklearn import preprocessing\n",
    "from sklearn.preprocessing import OneHotEncoder  \n",
    "from sklearn.preprocessing import LabelEncoder\n",
    "operation_TRAIN = pd.read_csv(\"../data/operation_TRAIN.csv\")\n",
    "transaction_TRAIN = pd.read_csv(\"../data/transaction_TRAIN.csv\")\n",
    "tag_TRAIN = pd.read_csv(\"../data/tag_TRAIN.csv\")                                                          \n",
    "operation_TRAIN = operation_TRAIN.drop_duplicates(\"UID\", keep=\"last\")\n",
    "transaction_TRAIN = transaction_TRAIN.drop_duplicates(\"UID\", keep=\"last\")\n",
    "train_X = pd.merge(operation_TRAIN, transaction_TRAIN, on=\"UID\", how=\"outer\")\n",
    "train = pd.merge(train_X, tag_TRAIN, on=\"UID\", how=\"left\")\n",
    "train = train.sort_values(\"UID\")\n",
    "operation_round1 = pd.read_csv(\"../data/operation_round1.csv\")\n",
    "transaction_round1 = pd.read_csv(\"../data/transaction_round1.csv\")                                                                                                                      \n",
    "operation_round1 = operation_round1.drop_duplicates([\"UID\"], keep=\"last\")\n",
    "transaction_round1 = transaction_round1.drop_duplicates([\"UID\"], keep=\"last\")                                                              \n",
    "test_C = pd.merge(operation_round1, transaction_round1, on=\"UID\", how=\"outer\")\n",
    "test_C = test_C.sort_values(\"UID\")\n",
    "\n",
    "test_C[\"Tag\"] = -1\n",
    "data = pd.concat([train, test_C])"
   ]
  },
  {
   "cell_type": "code",
   "execution_count": 67,
   "metadata": {},
   "outputs": [],
   "source": [
    "import pandas as pd\n",
    "import seaborn as sns\n",
    "import matplotlib.pyplot as plt"
   ]
  },
  {
   "cell_type": "code",
   "execution_count": 68,
   "metadata": {},
   "outputs": [
    {
     "data": {
      "image/png": "[encoded data removed]",
      "text/plain": [
       "<Figure size 648x648 with 2 Axes>"
      ]
     },
     "metadata": {},
     "output_type": "display_data"
    }
   ],
   "source": [
    "train = train.drop([\"UID\", \"Tag\"], axis=1)\n",
    "train_data = train.corr()\n",
    "plt.subplots(figsize=(9,9))\n",
    "# cmap = sns.cubehelix_palette(start = 1.5, rot = 3, gamma=0.8, as_cmap = True)\n",
    "sns.heatmap(train_data, annot=True, vmax=1, square=True, cmap=\"Oranges\")\n",
    "plt.show()"
   ]
  },
  {
   "cell_type": "code",
   "execution_count": null,
   "metadata": {},
   "outputs": [
    {
     "name": "stdout",
     "output_type": "stream",
     "text": [
      "开始one-hot...\n",
      "this is feature: mode\n",
      "this is feature: success\n",
      "this is feature: time_x\n",
      "this is feature: os\n",
      "this is feature: version\n",
      "this is feature: device1_x\n",
      "this is feature: device2_x\n",
      "this is feature: device_code1_x\n",
      "this is feature: device_code2_x\n",
      "this is feature: device_code3_x\n",
      "this is feature: mac1_x\n",
      "this is feature: mac2\n",
      "this is feature: ip1_x\n",
      "this is feature: ip2\n",
      "this is feature: wifi\n",
      "this is feature: geo_code_x\n",
      "this is feature: ip1_sub_x\n",
      "this is feature: ip2_sub\n",
      "this is feature: channel\n",
      "this is feature: time_y\n",
      "this is feature: amt_src1\n"
     ]
    }
   ],
   "source": [
    "print(\"开始one-hot...\")\n",
    "feature = data.columns.drop([\"UID\", \"Tag\"])\n",
    "col_feature = [\"day_x\", \"day_y\", \"bal\", \"trans_amt\"]\n",
    "dis_feature = feature.drop(col_feature).values.tolist()\n",
    "for col in dis_feature:\n",
    "    print(\"this is feature:\", col)\n",
    "    onehot_feats = pd.get_dummies(data[col], prefix=col)\n",
    "    data.drop([col], axis=1, inplace=True)\n",
    "    data = pd.concat([data, onehot_feats], axis=1)"
   ]
  },
  {
   "cell_type": "code",
   "execution_count": null,
   "metadata": {},
   "outputs": [],
   "source": []
  },
  {
   "cell_type": "code",
   "execution_count": null,
   "metadata": {},
   "outputs": [],
   "source": []
  },
  {
   "cell_type": "code",
   "execution_count": null,
   "metadata": {},
   "outputs": [],
   "source": []
  },
  {
   "cell_type": "code",
   "execution_count": null,
   "metadata": {},
   "outputs": [],
   "source": []
  },
  {
   "cell_type": "code",
   "execution_count": null,
   "metadata": {},
   "outputs": [],
   "source": []
  },
  {
   "cell_type": "code",
   "execution_count": null,
   "metadata": {},
   "outputs": [],
   "source": []
  },
  {
   "cell_type": "code",
   "execution_count": 39,
   "metadata": {},
   "outputs": [],
   "source": [
    "test_C[\"Tag\"] = -1\n",
    "data = pd.concat([train, test_C])\n",
    "data[\"time_x\"] = data[\"time_x\"].fillna(value=\"00:00:00\")\n",
    "data[\"time_y\"] = data[\"time_y\"].fillna(value=\"00:00:00\")\n",
    "data[\"day_x\"] = data[\"day_x\"].fillna(value=0)\n",
    "data[\"day_y\"] = data[\"day_y\"].fillna(value=30)\n",
    "data = data.fillna(value=-99999)"
   ]
  },
  {
   "cell_type": "code",
   "execution_count": 45,
   "metadata": {},
   "outputs": [],
   "source": [
    "feature = data.columns.drop([\"UID\", \"Tag\"])\n",
    "col_feature = [\"day_x\", \"day_y\", \"bal\", \"trans_amt\"]\n",
    "dis_feature = feature.drop(col_feature).values.tolist()\n",
    "\n",
    "for col in dis_feature:\n",
    "    lbl = preprocessing.LabelEncoder()\n",
    "    test_C[col] = lbl.fit_transform(list(test_C[col].values))"
   ]
  },
  {
   "cell_type": "code",
   "execution_count": 46,
   "metadata": {},
   "outputs": [],
   "source": [
    "enc = OneHotEncoder()\n",
    "enc.fit(test_C[[\"mode\", \"os\"]])\n",
    "test_C = pd.concat([test_C, pd.DataFrame(enc.transform(test_C[[\"mode\", \"os\"]]).toarray())], axis=1)"
   ]
  },
  {
   "cell_type": "code",
   "execution_count": null,
   "metadata": {},
   "outputs": [],
   "source": []
  },
  {
   "cell_type": "code",
   "execution_count": null,
   "metadata": {},
   "outputs": [],
   "source": []
  },
  {
   "cell_type": "code",
   "execution_count": null,
   "metadata": {},
   "outputs": [],
   "source": []
  },
  {
   "cell_type": "code",
   "execution_count": 26,
   "metadata": {},
   "outputs": [],
   "source": [
    "feature = train.drop([\"UID\", \"Tag\"], axis=1).columns\n",
    "con_feature = [\"day_x\", \"day_y\"]\n",
    "dis_feature = feature.drop(con_feature).values.tolist()"
   ]
  },
  {
   "cell_type": "code",
   "execution_count": null,
   "metadata": {},
   "outputs": [],
   "source": []
  },
  {
   "cell_type": "code",
   "execution_count": 27,
   "metadata": {},
   "outputs": [],
   "source": [
    "for col in dis_feature:\n",
    "    lbl = preprocessing.LabelEncoder()\n",
    "    train[col] = lbl.fit_transform(list(train[col].values))\n"
   ]
  },
  {
   "cell_type": "code",
   "execution_count": 29,
   "metadata": {},
   "outputs": [
    {
     "data": {
      "text/html": [
       "<div>\n",
       "<style scoped>\n",
       "    .dataframe tbody tr th:only-of-type {\n",
       "        vertical-align: middle;\n",
       "    }\n",
       "\n",
       "    .dataframe tbody tr th {\n",
       "        vertical-align: top;\n",
       "    }\n",
       "\n",
       "    .dataframe thead th {\n",
       "        text-align: right;\n",
       "    }\n",
       "</style>\n",
       "<table border=\"1\" class=\"dataframe\">\n",
       "  <thead>\n",
       "    <tr style=\"text-align: right;\">\n",
       "      <th></th>\n",
       "      <th>UID</th>\n",
       "      <th>day_x</th>\n",
       "      <th>mode</th>\n",
       "      <th>success</th>\n",
       "      <th>time_x</th>\n",
       "      <th>os</th>\n",
       "      <th>version</th>\n",
       "      <th>device1_x</th>\n",
       "      <th>device2_x</th>\n",
       "      <th>device_code1_x</th>\n",
       "      <th>...</th>\n",
       "      <th>bal</th>\n",
       "      <th>amt_src2</th>\n",
       "      <th>acc_id2</th>\n",
       "      <th>acc_id3</th>\n",
       "      <th>geo_code_y</th>\n",
       "      <th>trans_type2</th>\n",
       "      <th>market_code</th>\n",
       "      <th>market_type</th>\n",
       "      <th>ip1_sub_y</th>\n",
       "      <th>Tag</th>\n",
       "    </tr>\n",
       "  </thead>\n",
       "  <tbody>\n",
       "    <tr>\n",
       "      <th>9064</th>\n",
       "      <td>10000</td>\n",
       "      <td>13.0</td>\n",
       "      <td>45</td>\n",
       "      <td>1</td>\n",
       "      <td>5372</td>\n",
       "      <td>2</td>\n",
       "      <td>12</td>\n",
       "      <td>605</td>\n",
       "      <td>297</td>\n",
       "      <td>7775</td>\n",
       "      <td>...</td>\n",
       "      <td>0</td>\n",
       "      <td>54</td>\n",
       "      <td>1552</td>\n",
       "      <td>1567</td>\n",
       "      <td>2</td>\n",
       "      <td>3</td>\n",
       "      <td>171</td>\n",
       "      <td>5620</td>\n",
       "      <td>902</td>\n",
       "      <td>1</td>\n",
       "    </tr>\n",
       "    <tr>\n",
       "      <th>11787</th>\n",
       "      <td>10001</td>\n",
       "      <td>7.0</td>\n",
       "      <td>42</td>\n",
       "      <td>1</td>\n",
       "      <td>6787</td>\n",
       "      <td>1</td>\n",
       "      <td>7</td>\n",
       "      <td>36</td>\n",
       "      <td>251</td>\n",
       "      <td>7023</td>\n",
       "      <td>...</td>\n",
       "      <td>1020</td>\n",
       "      <td>55</td>\n",
       "      <td>1552</td>\n",
       "      <td>1567</td>\n",
       "      <td>1372</td>\n",
       "      <td>0</td>\n",
       "      <td>171</td>\n",
       "      <td>7717</td>\n",
       "      <td>974</td>\n",
       "      <td>0</td>\n",
       "    </tr>\n",
       "  </tbody>\n",
       "</table>\n",
       "<p>2 rows × 47 columns</p>\n",
       "</div>"
      ],
      "text/plain": [
       "         UID  day_x  mode  success  time_x  os  version  device1_x  device2_x  \\\n",
       "9064   10000   13.0    45        1    5372   2       12        605        297   \n",
       "11787  10001    7.0    42        1    6787   1        7         36        251   \n",
       "\n",
       "       device_code1_x ...    bal  amt_src2  acc_id2  acc_id3  geo_code_y  \\\n",
       "9064             7775 ...      0        54     1552     1567           2   \n",
       "11787            7023 ...   1020        55     1552     1567        1372   \n",
       "\n",
       "       trans_type2  market_code  market_type  ip1_sub_y  Tag  \n",
       "9064             3          171         5620        902    1  \n",
       "11787            0          171         7717        974    0  \n",
       "\n",
       "[2 rows x 47 columns]"
      ]
     },
     "execution_count": 29,
     "metadata": {},
     "output_type": "execute_result"
    }
   ],
   "source": [
    "train.head(2)"
   ]
  },
  {
   "cell_type": "code",
   "execution_count": 30,
   "metadata": {},
   "outputs": [],
   "source": [
    "enc = OneHotEncoder()\n",
    "enc.fit(train[[\"mode\", \"os\"]])\n",
    "train = pd.concat([train, pd.DataFrame(enc.transform(train[[\"mode\", \"os\"]]).toarray())], axis=1)"
   ]
  },
  {
   "cell_type": "code",
   "execution_count": 31,
   "metadata": {},
   "outputs": [
    {
     "data": {
      "text/html": [
       "<div>\n",
       "<style scoped>\n",
       "    .dataframe tbody tr th:only-of-type {\n",
       "        vertical-align: middle;\n",
       "    }\n",
       "\n",
       "    .dataframe tbody tr th {\n",
       "        vertical-align: top;\n",
       "    }\n",
       "\n",
       "    .dataframe thead th {\n",
       "        text-align: right;\n",
       "    }\n",
       "</style>\n",
       "<table border=\"1\" class=\"dataframe\">\n",
       "  <thead>\n",
       "    <tr style=\"text-align: right;\">\n",
       "      <th></th>\n",
       "      <th>UID</th>\n",
       "      <th>day_x</th>\n",
       "      <th>mode</th>\n",
       "      <th>success</th>\n",
       "      <th>time_x</th>\n",
       "      <th>os</th>\n",
       "      <th>version</th>\n",
       "      <th>device1_x</th>\n",
       "      <th>device2_x</th>\n",
       "      <th>device_code1_x</th>\n",
       "      <th>...</th>\n",
       "      <th>1498</th>\n",
       "      <th>1499</th>\n",
       "      <th>1500</th>\n",
       "      <th>1501</th>\n",
       "      <th>1502</th>\n",
       "      <th>1503</th>\n",
       "      <th>1504</th>\n",
       "      <th>1505</th>\n",
       "      <th>1506</th>\n",
       "      <th>1507</th>\n",
       "    </tr>\n",
       "  </thead>\n",
       "  <tbody>\n",
       "    <tr>\n",
       "      <th>0</th>\n",
       "      <td>19923</td>\n",
       "      <td>20.0</td>\n",
       "      <td>44</td>\n",
       "      <td>1</td>\n",
       "      <td>3373</td>\n",
       "      <td>1</td>\n",
       "      <td>14</td>\n",
       "      <td>752</td>\n",
       "      <td>703</td>\n",
       "      <td>6301</td>\n",
       "      <td>...</td>\n",
       "      <td>0.0</td>\n",
       "      <td>0.0</td>\n",
       "      <td>0.0</td>\n",
       "      <td>0.0</td>\n",
       "      <td>0.0</td>\n",
       "      <td>0.0</td>\n",
       "      <td>0.0</td>\n",
       "      <td>0.0</td>\n",
       "      <td>0.0</td>\n",
       "      <td>0.0</td>\n",
       "    </tr>\n",
       "    <tr>\n",
       "      <th>1</th>\n",
       "      <td>20534</td>\n",
       "      <td>29.0</td>\n",
       "      <td>55</td>\n",
       "      <td>1</td>\n",
       "      <td>3452</td>\n",
       "      <td>1</td>\n",
       "      <td>14</td>\n",
       "      <td>36</td>\n",
       "      <td>560</td>\n",
       "      <td>2405</td>\n",
       "      <td>...</td>\n",
       "      <td>0.0</td>\n",
       "      <td>0.0</td>\n",
       "      <td>0.0</td>\n",
       "      <td>0.0</td>\n",
       "      <td>0.0</td>\n",
       "      <td>0.0</td>\n",
       "      <td>0.0</td>\n",
       "      <td>0.0</td>\n",
       "      <td>0.0</td>\n",
       "      <td>0.0</td>\n",
       "    </tr>\n",
       "  </tbody>\n",
       "</table>\n",
       "<p>2 rows × 1555 columns</p>\n",
       "</div>"
      ],
      "text/plain": [
       "     UID  day_x  mode  success  time_x  os  version  device1_x  device2_x  \\\n",
       "0  19923   20.0    44        1    3373   1       14        752        703   \n",
       "1  20534   29.0    55        1    3452   1       14         36        560   \n",
       "\n",
       "   device_code1_x  ...   1498  1499  1500  1501  1502  1503  1504  1505  1506  \\\n",
       "0            6301  ...    0.0   0.0   0.0   0.0   0.0   0.0   0.0   0.0   0.0   \n",
       "1            2405  ...    0.0   0.0   0.0   0.0   0.0   0.0   0.0   0.0   0.0   \n",
       "\n",
       "   1507  \n",
       "0   0.0  \n",
       "1   0.0  \n",
       "\n",
       "[2 rows x 1555 columns]"
      ]
     },
     "execution_count": 31,
     "metadata": {},
     "output_type": "execute_result"
    }
   ],
   "source": [
    "train.head(2)"
   ]
  },
  {
   "cell_type": "code",
   "execution_count": 75,
   "metadata": {},
   "outputs": [
    {
     "data": {
      "text/html": [
       "<div>\n",
       "<style scoped>\n",
       "    .dataframe tbody tr th:only-of-type {\n",
       "        vertical-align: middle;\n",
       "    }\n",
       "\n",
       "    .dataframe tbody tr th {\n",
       "        vertical-align: top;\n",
       "    }\n",
       "\n",
       "    .dataframe thead th {\n",
       "        text-align: right;\n",
       "    }\n",
       "</style>\n",
       "<table border=\"1\" class=\"dataframe\">\n",
       "  <thead>\n",
       "    <tr style=\"text-align: right;\">\n",
       "      <th></th>\n",
       "      <th>UID</th>\n",
       "      <th>day</th>\n",
       "      <th>mode</th>\n",
       "      <th>success</th>\n",
       "      <th>time</th>\n",
       "      <th>os</th>\n",
       "      <th>version</th>\n",
       "      <th>device1</th>\n",
       "      <th>device2</th>\n",
       "      <th>device_code1</th>\n",
       "      <th>...</th>\n",
       "      <th>1766</th>\n",
       "      <th>1767</th>\n",
       "      <th>1768</th>\n",
       "      <th>1769</th>\n",
       "      <th>1770</th>\n",
       "      <th>1771</th>\n",
       "      <th>1772</th>\n",
       "      <th>1773</th>\n",
       "      <th>1774</th>\n",
       "      <th>1775</th>\n",
       "    </tr>\n",
       "  </thead>\n",
       "  <tbody>\n",
       "    <tr>\n",
       "      <th>0</th>\n",
       "      <td>10035.0</td>\n",
       "      <td>30.0</td>\n",
       "      <td>46.0</td>\n",
       "      <td>1.0</td>\n",
       "      <td>7900.0</td>\n",
       "      <td>1.0</td>\n",
       "      <td>19.0</td>\n",
       "      <td>267.0</td>\n",
       "      <td>502.0</td>\n",
       "      <td>7208.0</td>\n",
       "      <td>...</td>\n",
       "      <td>0.0</td>\n",
       "      <td>0.0</td>\n",
       "      <td>0.0</td>\n",
       "      <td>0.0</td>\n",
       "      <td>0.0</td>\n",
       "      <td>0.0</td>\n",
       "      <td>0.0</td>\n",
       "      <td>0.0</td>\n",
       "      <td>0.0</td>\n",
       "      <td>0.0</td>\n",
       "    </tr>\n",
       "    <tr>\n",
       "      <th>1</th>\n",
       "      <td>16264.0</td>\n",
       "      <td>16.0</td>\n",
       "      <td>5.0</td>\n",
       "      <td>1.0</td>\n",
       "      <td>1146.0</td>\n",
       "      <td>5.0</td>\n",
       "      <td>20.0</td>\n",
       "      <td>886.0</td>\n",
       "      <td>823.0</td>\n",
       "      <td>7757.0</td>\n",
       "      <td>...</td>\n",
       "      <td>0.0</td>\n",
       "      <td>0.0</td>\n",
       "      <td>0.0</td>\n",
       "      <td>0.0</td>\n",
       "      <td>0.0</td>\n",
       "      <td>0.0</td>\n",
       "      <td>0.0</td>\n",
       "      <td>0.0</td>\n",
       "      <td>0.0</td>\n",
       "      <td>1.0</td>\n",
       "    </tr>\n",
       "  </tbody>\n",
       "</table>\n",
       "<p>2 rows × 1796 columns</p>\n",
       "</div>"
      ],
      "text/plain": [
       "       UID   day  mode  success    time   os  version  device1  device2  \\\n",
       "0  10035.0  30.0  46.0      1.0  7900.0  1.0     19.0    267.0    502.0   \n",
       "1  16264.0  16.0   5.0      1.0  1146.0  5.0     20.0    886.0    823.0   \n",
       "\n",
       "   device_code1  ...   1766  1767  1768  1769  1770  1771  1772  1773  1774  \\\n",
       "0        7208.0  ...    0.0   0.0   0.0   0.0   0.0   0.0   0.0   0.0   0.0   \n",
       "1        7757.0  ...    0.0   0.0   0.0   0.0   0.0   0.0   0.0   0.0   0.0   \n",
       "\n",
       "   1775  \n",
       "0   0.0  \n",
       "1   1.0  \n",
       "\n",
       "[2 rows x 1796 columns]"
      ]
     },
     "execution_count": 75,
     "metadata": {},
     "output_type": "execute_result"
    }
   ],
   "source": [
    "operation_TRAIN.head(2)"
   ]
  },
  {
   "cell_type": "code",
   "execution_count": null,
   "metadata": {},
   "outputs": [],
   "source": []
  },
  {
   "cell_type": "code",
   "execution_count": null,
   "metadata": {},
   "outputs": [],
   "source": []
  },
  {
   "cell_type": "code",
   "execution_count": 26,
   "metadata": {},
   "outputs": [],
   "source": [
    "for col in dis_feature:\n",
    "    lbl = preprocessing.LabelEncoder()\n",
    "    operation_TRAIN[col] = lbl.fit_transform(list(operation_TRAIN[col].values))"
   ]
  },
  {
   "cell_type": "code",
   "execution_count": 27,
   "metadata": {},
   "outputs": [
    {
     "data": {
      "text/html": [
       "<div>\n",
       "<style scoped>\n",
       "    .dataframe tbody tr th:only-of-type {\n",
       "        vertical-align: middle;\n",
       "    }\n",
       "\n",
       "    .dataframe tbody tr th {\n",
       "        vertical-align: top;\n",
       "    }\n",
       "\n",
       "    .dataframe thead th {\n",
       "        text-align: right;\n",
       "    }\n",
       "</style>\n",
       "<table border=\"1\" class=\"dataframe\">\n",
       "  <thead>\n",
       "    <tr style=\"text-align: right;\">\n",
       "      <th></th>\n",
       "      <th>UID</th>\n",
       "      <th>day</th>\n",
       "      <th>mode</th>\n",
       "      <th>success</th>\n",
       "      <th>time</th>\n",
       "      <th>os</th>\n",
       "      <th>version</th>\n",
       "      <th>device1</th>\n",
       "      <th>device2</th>\n",
       "      <th>device_code1</th>\n",
       "      <th>device_code2</th>\n",
       "      <th>device_code3</th>\n",
       "      <th>mac1</th>\n",
       "      <th>mac2</th>\n",
       "      <th>ip1</th>\n",
       "      <th>ip2</th>\n",
       "      <th>wifi</th>\n",
       "      <th>geo_code</th>\n",
       "      <th>ip1_sub</th>\n",
       "      <th>ip2_sub</th>\n",
       "    </tr>\n",
       "  </thead>\n",
       "  <tbody>\n",
       "    <tr>\n",
       "      <th>0</th>\n",
       "      <td>10035</td>\n",
       "      <td>30</td>\n",
       "      <td>46</td>\n",
       "      <td>1</td>\n",
       "      <td>7900</td>\n",
       "      <td>1</td>\n",
       "      <td>19</td>\n",
       "      <td>267</td>\n",
       "      <td>502</td>\n",
       "      <td>7208</td>\n",
       "      <td>33</td>\n",
       "      <td>2462</td>\n",
       "      <td>745</td>\n",
       "      <td>2721</td>\n",
       "      <td>3214</td>\n",
       "      <td>605</td>\n",
       "      <td>3264</td>\n",
       "      <td>1237</td>\n",
       "      <td>6444</td>\n",
       "      <td>589</td>\n",
       "    </tr>\n",
       "    <tr>\n",
       "      <th>1</th>\n",
       "      <td>16264</td>\n",
       "      <td>16</td>\n",
       "      <td>5</td>\n",
       "      <td>1</td>\n",
       "      <td>1146</td>\n",
       "      <td>5</td>\n",
       "      <td>20</td>\n",
       "      <td>886</td>\n",
       "      <td>823</td>\n",
       "      <td>7757</td>\n",
       "      <td>7506</td>\n",
       "      <td>2462</td>\n",
       "      <td>745</td>\n",
       "      <td>4103</td>\n",
       "      <td>9742</td>\n",
       "      <td>599</td>\n",
       "      <td>3264</td>\n",
       "      <td>0</td>\n",
       "      <td>7134</td>\n",
       "      <td>145</td>\n",
       "    </tr>\n",
       "  </tbody>\n",
       "</table>\n",
       "</div>"
      ],
      "text/plain": [
       "     UID  day  mode  success  time  os  version  device1  device2  \\\n",
       "0  10035   30    46        1  7900   1       19      267      502   \n",
       "1  16264   16     5        1  1146   5       20      886      823   \n",
       "\n",
       "   device_code1  device_code2  device_code3  mac1  mac2   ip1  ip2  wifi  \\\n",
       "0          7208            33          2462   745  2721  3214  605  3264   \n",
       "1          7757          7506          2462   745  4103  9742  599  3264   \n",
       "\n",
       "   geo_code  ip1_sub  ip2_sub  \n",
       "0      1237     6444      589  \n",
       "1         0     7134      145  "
      ]
     },
     "execution_count": 27,
     "metadata": {},
     "output_type": "execute_result"
    }
   ],
   "source": [
    "operation_TRAIN.head(2)"
   ]
  },
  {
   "cell_type": "code",
   "execution_count": null,
   "metadata": {},
   "outputs": [],
   "source": []
  },
  {
   "cell_type": "code",
   "execution_count": null,
   "metadata": {},
   "outputs": [],
   "source": []
  },
  {
   "cell_type": "code",
   "execution_count": null,
   "metadata": {},
   "outputs": [],
   "source": []
  },
  {
   "cell_type": "code",
   "execution_count": null,
   "metadata": {
    "scrolled": true
   },
   "outputs": [],
   "source": []
  },
  {
   "cell_type": "code",
   "execution_count": 66,
   "metadata": {},
   "outputs": [
    {
     "data": {
      "text/plain": [
       "(11979, 20)"
      ]
     },
     "execution_count": 66,
     "metadata": {},
     "output_type": "execute_result"
    }
   ],
   "source": [
    "operation_TRAIN.shape"
   ]
  },
  {
   "cell_type": "code",
   "execution_count": null,
   "metadata": {},
   "outputs": [],
   "source": [
    "mode_ohe = OneHotEncoder(sparse=False).fit_transform(mode_label.reshape((-1,1)))"
   ]
  },
  {
   "cell_type": "code",
   "execution_count": null,
   "metadata": {},
   "outputs": [],
   "source": [
    "mode_label= LabelEncoder().fit_transform(operation_TRAIN[dis_feature])"
   ]
  },
  {
   "cell_type": "code",
   "execution_count": 67,
   "metadata": {},
   "outputs": [],
   "source": [
    "mode_ohe = OneHotEncoder(sparse=False).fit_transform(mode_label.reshape((-1,1)))"
   ]
  },
  {
   "cell_type": "code",
   "execution_count": null,
   "metadata": {},
   "outputs": [],
   "source": []
  },
  {
   "cell_type": "markdown",
   "metadata": {},
   "source": [
    "# EDA"
   ]
  },
  {
   "cell_type": "code",
   "execution_count": 2,
   "metadata": {},
   "outputs": [],
   "source": [
    "import pandas as pd\n",
    "import numpy as np\n",
    "import gc\n",
    "import matplotlib.pyplot as plt\n",
    "import os"
   ]
  },
  {
   "cell_type": "code",
   "execution_count": 3,
   "metadata": {},
   "outputs": [
    {
     "data": {
      "text/html": [
       "<div>\n",
       "<style scoped>\n",
       "    .dataframe tbody tr th:only-of-type {\n",
       "        vertical-align: middle;\n",
       "    }\n",
       "\n",
       "    .dataframe tbody tr th {\n",
       "        vertical-align: top;\n",
       "    }\n",
       "\n",
       "    .dataframe thead th {\n",
       "        text-align: right;\n",
       "    }\n",
       "</style>\n",
       "<table border=\"1\" class=\"dataframe\">\n",
       "  <thead>\n",
       "    <tr style=\"text-align: right;\">\n",
       "      <th></th>\n",
       "      <th>UID</th>\n",
       "      <th>day</th>\n",
       "      <th>mode</th>\n",
       "      <th>success</th>\n",
       "      <th>time</th>\n",
       "      <th>os</th>\n",
       "      <th>version</th>\n",
       "      <th>device1</th>\n",
       "      <th>device2</th>\n",
       "      <th>device_code1</th>\n",
       "      <th>device_code2</th>\n",
       "      <th>device_code3</th>\n",
       "      <th>mac1</th>\n",
       "      <th>mac2</th>\n",
       "      <th>ip1</th>\n",
       "      <th>ip2</th>\n",
       "      <th>wifi</th>\n",
       "      <th>geo_code</th>\n",
       "      <th>ip1_sub</th>\n",
       "      <th>ip2_sub</th>\n",
       "    </tr>\n",
       "  </thead>\n",
       "  <tbody>\n",
       "    <tr>\n",
       "      <th>0</th>\n",
       "      <td>10035</td>\n",
       "      <td>30</td>\n",
       "      <td>c8741ce15ceac2a4</td>\n",
       "      <td>1.0</td>\n",
       "      <td>17:51:50</td>\n",
       "      <td>102</td>\n",
       "      <td>7.0.9</td>\n",
       "      <td>49dd36968dbfadda</td>\n",
       "      <td>OPPO R11</td>\n",
       "      <td>ecb58082e0e9b8e2</td>\n",
       "      <td>00fa2e4ba95605ef</td>\n",
       "      <td>NaN</td>\n",
       "      <td>NaN</td>\n",
       "      <td>a8dc52f65085212e</td>\n",
       "      <td>55dd8936655c86f6</td>\n",
       "      <td>NaN</td>\n",
       "      <td>NaN</td>\n",
       "      <td>wskx</td>\n",
       "      <td>e58e48fb9215116e</td>\n",
       "      <td>NaN</td>\n",
       "    </tr>\n",
       "    <tr>\n",
       "      <th>1</th>\n",
       "      <td>16264</td>\n",
       "      <td>16</td>\n",
       "      <td>20a91b45ef8f8221</td>\n",
       "      <td>1.0</td>\n",
       "      <td>08:36:00</td>\n",
       "      <td>200</td>\n",
       "      <td>NaN</td>\n",
       "      <td>NaN</td>\n",
       "      <td>NaN</td>\n",
       "      <td>NaN</td>\n",
       "      <td>NaN</td>\n",
       "      <td>NaN</td>\n",
       "      <td>NaN</td>\n",
       "      <td>NaN</td>\n",
       "      <td>NaN</td>\n",
       "      <td>fc7fc47d6c93f554</td>\n",
       "      <td>NaN</td>\n",
       "      <td>NaN</td>\n",
       "      <td>NaN</td>\n",
       "      <td>3502c553ea2ac187</td>\n",
       "    </tr>\n",
       "  </tbody>\n",
       "</table>\n",
       "</div>"
      ],
      "text/plain": [
       "     UID  day              mode  success      time   os version  \\\n",
       "0  10035   30  c8741ce15ceac2a4      1.0  17:51:50  102   7.0.9   \n",
       "1  16264   16  20a91b45ef8f8221      1.0  08:36:00  200     NaN   \n",
       "\n",
       "            device1   device2      device_code1      device_code2  \\\n",
       "0  49dd36968dbfadda  OPPO R11  ecb58082e0e9b8e2  00fa2e4ba95605ef   \n",
       "1               NaN       NaN               NaN               NaN   \n",
       "\n",
       "  device_code3 mac1              mac2               ip1               ip2  \\\n",
       "0          NaN  NaN  a8dc52f65085212e  55dd8936655c86f6               NaN   \n",
       "1          NaN  NaN               NaN               NaN  fc7fc47d6c93f554   \n",
       "\n",
       "  wifi geo_code           ip1_sub           ip2_sub  \n",
       "0  NaN     wskx  e58e48fb9215116e               NaN  \n",
       "1  NaN      NaN               NaN  3502c553ea2ac187  "
      ]
     },
     "execution_count": 3,
     "metadata": {},
     "output_type": "execute_result"
    }
   ],
   "source": [
    "operation_TRAIN = pd.read_csv(\"../data/operation_TRAIN.csv\")\n",
    "operation_TRAIN.head(2)"
   ]
  },
  {
   "cell_type": "code",
   "execution_count": 4,
   "metadata": {},
   "outputs": [
    {
     "data": {
      "text/plain": [
       "Text(0.5,1,'miss_rate_os')"
      ]
     },
     "execution_count": 4,
     "metadata": {},
     "output_type": "execute_result"
    },
    {
     "data": {
      "image/png": "[encoded data removed]",
      "text/plain": [
       "<Figure size 432x288 with 1 Axes>"
      ]
     },
     "metadata": {},
     "output_type": "display_data"
    }
   ],
   "source": [
    "p = \"os\"\n",
    "a = pd.DataFrame(operation_TRAIN.groupby(\"day\")[p].apply(lambda x: sum(pd.isnull(x))) / operation_TRAIN.groupby(\"day\")[\"day\"].count()).reset_index()\n",
    "a.columns = [\"day\", p]\n",
    "fig = plt.figure()\n",
    "ax = fig.add_subplot(1, 1,1)\n",
    "plt.plot(a[\"day\"], a[p])\n",
    "plt.axvline(61, color=\"r\")\n",
    "plt.axvline(122, color=\"r\")\n",
    "plt.axvline(153, color=\"r\")\n",
    "plt.xlabel(\"day\")\n",
    "plt.ylabel(\"miss_rate_\"+p)\n",
    "plt.title(\"miss_rate_\"+p)"
   ]
  },
  {
   "cell_type": "code",
   "execution_count": 5,
   "metadata": {},
   "outputs": [],
   "source": [
    "operation_TRAIN = pd.read_csv(\"../data/operation_TRAIN.csv\")\n",
    "transaction_TRAIN = pd.read_csv(\"../data/transaction_TRAIN.csv\")\n",
    "tag_TRAIN = pd.read_csv(\"../data/tag_TRAIN.csv\")                                                          \n",
    "operation_TRAIN = operation_TRAIN.drop_duplicates(\"UID\", keep=\"last\")\n",
    "transaction_TRAIN = transaction_TRAIN.drop_duplicates(\"UID\", keep=\"last\")\n",
    "train_X = pd.merge(operation_TRAIN, transaction_TRAIN, on=\"UID\", how=\"outer\")\n",
    "train = pd.merge(train_X, tag_TRAIN, on=\"UID\", how=\"left\")\n",
    "train = train.sort_values(\"UID\")"
   ]
  },
  {
   "cell_type": "code",
   "execution_count": 6,
   "metadata": {},
   "outputs": [],
   "source": [
    "train[\"day_sub\"] = train[\"day_y\"] - train[\"day_x\"]"
   ]
  },
  {
   "cell_type": "code",
   "execution_count": 7,
   "metadata": {},
   "outputs": [
    {
     "data": {
      "text/html": [
       "<div>\n",
       "<style scoped>\n",
       "    .dataframe tbody tr th:only-of-type {\n",
       "        vertical-align: middle;\n",
       "    }\n",
       "\n",
       "    .dataframe tbody tr th {\n",
       "        vertical-align: top;\n",
       "    }\n",
       "\n",
       "    .dataframe thead th {\n",
       "        text-align: right;\n",
       "    }\n",
       "</style>\n",
       "<table border=\"1\" class=\"dataframe\">\n",
       "  <thead>\n",
       "    <tr style=\"text-align: right;\">\n",
       "      <th></th>\n",
       "      <th>UID</th>\n",
       "      <th>day_x</th>\n",
       "      <th>mode</th>\n",
       "      <th>success</th>\n",
       "      <th>time_x</th>\n",
       "      <th>os</th>\n",
       "      <th>version</th>\n",
       "      <th>device1_x</th>\n",
       "      <th>device2_x</th>\n",
       "      <th>device_code1_x</th>\n",
       "      <th>...</th>\n",
       "      <th>amt_src2</th>\n",
       "      <th>acc_id2</th>\n",
       "      <th>acc_id3</th>\n",
       "      <th>geo_code_y</th>\n",
       "      <th>trans_type2</th>\n",
       "      <th>market_code</th>\n",
       "      <th>market_type</th>\n",
       "      <th>ip1_sub_y</th>\n",
       "      <th>Tag</th>\n",
       "      <th>day_sub</th>\n",
       "    </tr>\n",
       "  </thead>\n",
       "  <tbody>\n",
       "    <tr>\n",
       "      <th>9064</th>\n",
       "      <td>10000</td>\n",
       "      <td>13.0</td>\n",
       "      <td>c8741ce15ceac2a4</td>\n",
       "      <td>1.0</td>\n",
       "      <td>14:20:56</td>\n",
       "      <td>103.0</td>\n",
       "      <td>7.0.5</td>\n",
       "      <td>aca4977fbe8741e1</td>\n",
       "      <td>IPHONE 5</td>\n",
       "      <td>NaN</td>\n",
       "      <td>...</td>\n",
       "      <td>9a8ee16bde15e38a</td>\n",
       "      <td>NaN</td>\n",
       "      <td>NaN</td>\n",
       "      <td>NaN</td>\n",
       "      <td>105.0</td>\n",
       "      <td>NaN</td>\n",
       "      <td>NaN</td>\n",
       "      <td>1e3ea9498c461cbf</td>\n",
       "      <td>1</td>\n",
       "      <td>13.0</td>\n",
       "    </tr>\n",
       "    <tr>\n",
       "      <th>11787</th>\n",
       "      <td>10001</td>\n",
       "      <td>7.0</td>\n",
       "      <td>b501fa4fc58206b9</td>\n",
       "      <td>1.0</td>\n",
       "      <td>16:12:56</td>\n",
       "      <td>102.0</td>\n",
       "      <td>6.6.2</td>\n",
       "      <td>09baf2f39bc3dc86</td>\n",
       "      <td>HUAWEI GRA-CL00</td>\n",
       "      <td>e56819f72c9b7860</td>\n",
       "      <td>...</td>\n",
       "      <td>9fefed0a981dcb7a</td>\n",
       "      <td>NaN</td>\n",
       "      <td>NaN</td>\n",
       "      <td>wssu</td>\n",
       "      <td>102.0</td>\n",
       "      <td>NaN</td>\n",
       "      <td>NaN</td>\n",
       "      <td>20a23941af66c253</td>\n",
       "      <td>0</td>\n",
       "      <td>23.0</td>\n",
       "    </tr>\n",
       "  </tbody>\n",
       "</table>\n",
       "<p>2 rows × 48 columns</p>\n",
       "</div>"
      ],
      "text/plain": [
       "         UID  day_x              mode  success    time_x     os version  \\\n",
       "9064   10000   13.0  c8741ce15ceac2a4      1.0  14:20:56  103.0   7.0.5   \n",
       "11787  10001    7.0  b501fa4fc58206b9      1.0  16:12:56  102.0   6.6.2   \n",
       "\n",
       "              device1_x        device2_x    device_code1_x   ...    \\\n",
       "9064   aca4977fbe8741e1         IPHONE 5               NaN   ...     \n",
       "11787  09baf2f39bc3dc86  HUAWEI GRA-CL00  e56819f72c9b7860   ...     \n",
       "\n",
       "               amt_src2 acc_id2 acc_id3 geo_code_y trans_type2 market_code  \\\n",
       "9064   9a8ee16bde15e38a     NaN     NaN        NaN       105.0         NaN   \n",
       "11787  9fefed0a981dcb7a     NaN     NaN       wssu       102.0         NaN   \n",
       "\n",
       "      market_type         ip1_sub_y Tag day_sub  \n",
       "9064          NaN  1e3ea9498c461cbf   1    13.0  \n",
       "11787         NaN  20a23941af66c253   0    23.0  \n",
       "\n",
       "[2 rows x 48 columns]"
      ]
     },
     "execution_count": 7,
     "metadata": {},
     "output_type": "execute_result"
    }
   ],
   "source": [
    "train.head(2)"
   ]
  },
  {
   "cell_type": "code",
   "execution_count": null,
   "metadata": {},
   "outputs": [],
   "source": []
  },
  {
   "cell_type": "code",
   "execution_count": 11,
   "metadata": {},
   "outputs": [
    {
     "name": "stdout",
     "output_type": "stream",
     "text": [
      "train.shape: (13422, 47)\n",
      "train_pos: 1528\n",
      "train_neg: 11894\n"
     ]
    }
   ],
   "source": [
    "train_pos_sum = train[\"Tag\"][train[\"Tag\"] == 1].count()\n",
    "train_neg_sum = train[\"Tag\"][train[\"Tag\"] == 0].count()\n",
    "print(\"train.shape:\", train.shape)\n",
    "print(\"train_pos:\", train_pos_sum)\n",
    "print(\"train_neg:\", train_neg_sum)"
   ]
  },
  {
   "cell_type": "code",
   "execution_count": 18,
   "metadata": {},
   "outputs": [],
   "source": [
    "train_pos = train[train[\"Tag\"] == 0].groupby([\"success\"]).count()"
   ]
  },
  {
   "cell_type": "code",
   "execution_count": 19,
   "metadata": {},
   "outputs": [
    {
     "data": {
      "text/html": [
       "<div>\n",
       "<style scoped>\n",
       "    .dataframe tbody tr th:only-of-type {\n",
       "        vertical-align: middle;\n",
       "    }\n",
       "\n",
       "    .dataframe tbody tr th {\n",
       "        vertical-align: top;\n",
       "    }\n",
       "\n",
       "    .dataframe thead th {\n",
       "        text-align: right;\n",
       "    }\n",
       "</style>\n",
       "<table border=\"1\" class=\"dataframe\">\n",
       "  <thead>\n",
       "    <tr style=\"text-align: right;\">\n",
       "      <th></th>\n",
       "      <th>UID</th>\n",
       "      <th>day_x</th>\n",
       "      <th>mode</th>\n",
       "      <th>time_x</th>\n",
       "      <th>os</th>\n",
       "      <th>version</th>\n",
       "      <th>device1_x</th>\n",
       "      <th>device2_x</th>\n",
       "      <th>device_code1_x</th>\n",
       "      <th>device_code2_x</th>\n",
       "      <th>...</th>\n",
       "      <th>bal</th>\n",
       "      <th>amt_src2</th>\n",
       "      <th>acc_id2</th>\n",
       "      <th>acc_id3</th>\n",
       "      <th>geo_code_y</th>\n",
       "      <th>trans_type2</th>\n",
       "      <th>market_code</th>\n",
       "      <th>market_type</th>\n",
       "      <th>ip1_sub_y</th>\n",
       "      <th>Tag</th>\n",
       "    </tr>\n",
       "    <tr>\n",
       "      <th>success</th>\n",
       "      <th></th>\n",
       "      <th></th>\n",
       "      <th></th>\n",
       "      <th></th>\n",
       "      <th></th>\n",
       "      <th></th>\n",
       "      <th></th>\n",
       "      <th></th>\n",
       "      <th></th>\n",
       "      <th></th>\n",
       "      <th></th>\n",
       "      <th></th>\n",
       "      <th></th>\n",
       "      <th></th>\n",
       "      <th></th>\n",
       "      <th></th>\n",
       "      <th></th>\n",
       "      <th></th>\n",
       "      <th></th>\n",
       "      <th></th>\n",
       "      <th></th>\n",
       "    </tr>\n",
       "  </thead>\n",
       "  <tbody>\n",
       "    <tr>\n",
       "      <th>0.0</th>\n",
       "      <td>559</td>\n",
       "      <td>559</td>\n",
       "      <td>559</td>\n",
       "      <td>559</td>\n",
       "      <td>559</td>\n",
       "      <td>477</td>\n",
       "      <td>478</td>\n",
       "      <td>381</td>\n",
       "      <td>376</td>\n",
       "      <td>359</td>\n",
       "      <td>...</td>\n",
       "      <td>542</td>\n",
       "      <td>353</td>\n",
       "      <td>71</td>\n",
       "      <td>69</td>\n",
       "      <td>469</td>\n",
       "      <td>498</td>\n",
       "      <td>64</td>\n",
       "      <td>64</td>\n",
       "      <td>503</td>\n",
       "      <td>559</td>\n",
       "    </tr>\n",
       "    <tr>\n",
       "      <th>1.0</th>\n",
       "      <td>9356</td>\n",
       "      <td>9356</td>\n",
       "      <td>9356</td>\n",
       "      <td>9356</td>\n",
       "      <td>9356</td>\n",
       "      <td>8727</td>\n",
       "      <td>8744</td>\n",
       "      <td>7649</td>\n",
       "      <td>7062</td>\n",
       "      <td>6882</td>\n",
       "      <td>...</td>\n",
       "      <td>9234</td>\n",
       "      <td>6006</td>\n",
       "      <td>1079</td>\n",
       "      <td>1081</td>\n",
       "      <td>7690</td>\n",
       "      <td>8317</td>\n",
       "      <td>1174</td>\n",
       "      <td>1174</td>\n",
       "      <td>8393</td>\n",
       "      <td>9356</td>\n",
       "    </tr>\n",
       "  </tbody>\n",
       "</table>\n",
       "<p>2 rows × 46 columns</p>\n",
       "</div>"
      ],
      "text/plain": [
       "          UID  day_x  mode  time_x    os  version  device1_x  device2_x  \\\n",
       "success                                                                   \n",
       "0.0       559    559   559     559   559      477        478        381   \n",
       "1.0      9356   9356  9356    9356  9356     8727       8744       7649   \n",
       "\n",
       "         device_code1_x  device_code2_x  ...    bal  amt_src2  acc_id2  \\\n",
       "success                                  ...                             \n",
       "0.0                 376             359  ...    542       353       71   \n",
       "1.0                7062            6882  ...   9234      6006     1079   \n",
       "\n",
       "         acc_id3  geo_code_y  trans_type2  market_code  market_type  \\\n",
       "success                                                               \n",
       "0.0           69         469          498           64           64   \n",
       "1.0         1081        7690         8317         1174         1174   \n",
       "\n",
       "         ip1_sub_y   Tag  \n",
       "success                   \n",
       "0.0            503   559  \n",
       "1.0           8393  9356  \n",
       "\n",
       "[2 rows x 46 columns]"
      ]
     },
     "execution_count": 19,
     "metadata": {},
     "output_type": "execute_result"
    }
   ],
   "source": [
    "train_pos"
   ]
  },
  {
   "cell_type": "code",
   "execution_count": null,
   "metadata": {},
   "outputs": [],
   "source": []
  },
  {
   "cell_type": "code",
   "execution_count": 2,
   "metadata": {},
   "outputs": [],
   "source": [
    "import time\n",
    "import pandas as pd\n",
    "import numpy as np\n",
    "from sklearn.model_selection import train_test_split\n",
    "from sklearn import preprocessing\n",
    "from sklearn.preprocessing import OneHotEncoder  \n",
    "from sklearn.preprocessing import LabelEncoder\n",
    "import xgboost as xgb\n",
    "\n",
    "\n",
    "operation_TRAIN = pd.read_csv(\"../data/operation_TRAIN.csv\")\n",
    "transaction_TRAIN = pd.read_csv(\"../data/transaction_TRAIN.csv\")\n",
    "tag_TRAIN = pd.read_csv(\"../data/tag_TRAIN.csv\")                                                          \n",
    "operation_TRAIN = operation_TRAIN.drop_duplicates(\"UID\", keep=\"last\")\n",
    "transaction_TRAIN = transaction_TRAIN.drop_duplicates(\"UID\", keep=\"last\")\n",
    "train_X = pd.merge(operation_TRAIN, transaction_TRAIN, on=\"UID\", how=\"outer\")\n",
    "train = pd.merge(train_X, tag_TRAIN, on=\"UID\", how=\"left\")\n",
    "train = train.sort_values(\"UID\")\n",
    "operation_round1 = pd.read_csv(\"../data/operation_round1.csv\")\n",
    "transaction_round1 = pd.read_csv(\"../data/transaction_round1.csv\")                                                                                                                      \n",
    "operation_round1 = operation_round1.drop_duplicates([\"UID\"], keep=\"last\")\n",
    "transaction_round1 = transaction_round1.drop_duplicates([\"UID\"], keep=\"last\")                                                              \n",
    "test_C = pd.merge(operation_round1, transaction_round1, on=\"UID\", how=\"outer\")\n",
    "test_C = test_C.sort_values(\"UID\")\n",
    "\n",
    "del operation_TRAIN\n",
    "del transaction_TRAIN\n",
    "del tag_TRAIN\n",
    "del operation_round1\n",
    "del transaction_round1\n"
   ]
  },
  {
   "cell_type": "code",
   "execution_count": 3,
   "metadata": {},
   "outputs": [],
   "source": [
    "test_C[\"Tag\"] = -1\n",
    "data = pd.concat([train, test_C])\n",
    "\n",
    "data[\"time_x\"] = data[\"time_x\"].fillna(value=\"00:00:00\")\n",
    "data[\"time_y\"] = data[\"time_y\"].fillna(value=\"00:00:00\")\n",
    "data[\"day_x\"] = data[\"day_x\"].fillna(value=0)\n",
    "data[\"day_y\"] = data[\"day_y\"].fillna(value=30)\n",
    "data = data.fillna(value=-99999)\n",
    "\n",
    "data[\"hour_x\"] = data.time_x.apply(lambda  x: x.split(\":\")[0])\n",
    "data[\"minutes_x\"] = data.time_x.apply(lambda  x: x.split(\":\")[1])\n",
    "data[\"hour_y\"] = data.time_y.apply(lambda  x: x.split(\":\")[0])\n",
    "data[\"minutes_y\"] = data.time_y.apply(lambda  x: x.split(\":\")[1])\n",
    "\n",
    "data[\"day_y\"] = data[\"day_y\"] + 30\n",
    "data[\"day_sub\"] = data[\"day_y\"] - data[\"day_x\"]\n",
    "data[\"hour_sub\"] = (data[\"hour_y\"].astype(int) +24) - data[\"hour_x\"].astype(int)\n",
    "data[\"minutes_sub\"] = (data[\"minutes_y\"].astype(int) +60) - data[\"minutes_x\"].astype(int)\n",
    "data[\"amt_bal_sum\"] = data[\"trans_amt\"] + data[\"bal\"]\n"
   ]
  },
  {
   "cell_type": "code",
   "execution_count": 4,
   "metadata": {},
   "outputs": [],
   "source": [
    "feature = data.columns.drop([\"UID\", \"Tag\"])\n",
    "col_feature = [\"day_x\", \"day_y\",\"day_sub\", \"hour_sub\", \"minutes_sub\", \"bal\", \"trans_amt\"]\n",
    "dis_feature = feature.drop(col_feature).values.tolist()\n",
    "\n",
    "for col in dis_feature:\n",
    "    lbl = preprocessing.LabelEncoder()\n",
    "    data[col] = lbl.fit_transform(list(data[col].values))\n",
    " "
   ]
  },
  {
   "cell_type": "code",
   "execution_count": 1,
   "metadata": {},
   "outputs": [],
   "source": [
    "# print(\"开始one-hot...\")\n",
    "# feature = data.columns.drop([\"UID\", \"Tag\"])\n",
    "# col_feature = [\"day_x\", \"day_y\",\"day_sub\", \"hour_sub\", \"minutes_sub\", \"bal\", \"trans_amt\"]\n",
    "# dis_feature = feature.drop(col_feature).values.tolist()\n",
    "# for col in [\"mode\", \"os\", \"wifi\"]:\n",
    "#     print(\"this is feature:\", col)\n",
    "#     onehot_feats = pd.get_dummies(data[col], prefix=col)\n",
    "#     data.drop([col], axis=1, inplace=True)\n",
    "#     data = pd.concat([data, onehot_feats], axis=1)"
   ]
  },
  {
   "cell_type": "code",
   "execution_count": 5,
   "metadata": {},
   "outputs": [],
   "source": [
    "# data[\"time_sub\"] = data[\"time_y\"] - data[\"time_x\"]\n",
    "# data[\"geo_code_sub\"] = data[\"geo_code_y\"] - data[\"geo_code_x\"]\n",
    "\n",
    "# data[\"device21_x_sub\"] = data[\"device2_x\"] - data[\"device1_x\"]\n",
    "# data[\"device21_y_sub\"] = data[\"device2_y\"] - data[\"device1_y\"]\n",
    "# data[\"device1_sub\"] = data[\"device1_y\"] - data[\"device1_x\"]\n",
    "# data[\"device2_sub\"] = data[\"device2_y\"] - data[\"device2_x\"]\n",
    "\n",
    "# data[\"device_code21_x_sub\"] = data[\"device_code2_x\"] - data[\"device_code1_x\"]\n",
    "# data[\"device_code32_x_sub\"] = data[\"device_code3_x\"] - data[\"device_code2_x\"]\n",
    "# data[\"device_code31_x_sub\"] = data[\"device_code3_x\"] - data[\"device_code1_x\"]\n",
    "# data[\"device_code21_y_sub\"] = data[\"device_code2_y\"] - data[\"device_code1_y\"]\n",
    "# data[\"device_code32_y_sub\"] = data[\"device_code3_y\"] - data[\"device_code2_y\"]\n",
    "# data[\"device_code31_y_sub\"] = data[\"device_code3_y\"] - data[\"device_code1_y\"]\n",
    "# data[\"device_code1_sub\"] = data[\"device_code1_y\"] - data[\"device_code1_x\"]\n",
    "# data[\"device_code2_sub\"] = data[\"device_code2_y\"] - data[\"device_code2_x\"]\n",
    "# data[\"device_code3_sub\"] = data[\"device_code3_y\"] - data[\"device_code3_x\"]\n",
    "\n",
    "# data[\"mac1_sub\"] = data[\"mac1_y\"] - data[\"mac1_x\"]\n",
    "# data[\"mac_sub\"] = data[\"mac2\"] - data[\"mac1_x\"]\n",
    "# data[\"ip1_sub\"] = data[\"ip1_y\"] - data[\"ip1_x\"]\n",
    "# data[\"ip21_sub\"] = data[\"ip2_sub\"] - data[\"ip1_sub\"]\n",
    "# data[\"ip1_sub_sub\"] = data[\"ip1_sub_y\"] - data[\"ip1_sub_x\"]\n",
    "# data[\"acc_id21_sub\"] = data[\"acc_id2\"] - data[\"acc_id1\"]\n",
    "# data[\"acc_id32_sub\"] = data[\"acc_id3\"] - data[\"acc_id2\"]\n",
    "# data[\"acc_id31_sub\"] = data[\"acc_id3\"] - data[\"acc_id1\"]\n",
    "# data = data.drop([\"day_y\", \"channel\", \"trans_type2\"], axis=1)"
   ]
  },
  {
   "cell_type": "code",
   "execution_count": 6,
   "metadata": {},
   "outputs": [
    {
     "data": {
      "text/html": [
       "<div>\n",
       "<style scoped>\n",
       "    .dataframe tbody tr th:only-of-type {\n",
       "        vertical-align: middle;\n",
       "    }\n",
       "\n",
       "    .dataframe tbody tr th {\n",
       "        vertical-align: top;\n",
       "    }\n",
       "\n",
       "    .dataframe thead th {\n",
       "        text-align: right;\n",
       "    }\n",
       "</style>\n",
       "<table border=\"1\" class=\"dataframe\">\n",
       "  <thead>\n",
       "    <tr style=\"text-align: right;\">\n",
       "      <th></th>\n",
       "      <th>UID</th>\n",
       "      <th>day_x</th>\n",
       "      <th>mode</th>\n",
       "      <th>success</th>\n",
       "      <th>time_x</th>\n",
       "      <th>os</th>\n",
       "      <th>version</th>\n",
       "      <th>device1_x</th>\n",
       "      <th>device2_x</th>\n",
       "      <th>device_code1_x</th>\n",
       "      <th>...</th>\n",
       "      <th>device_code2_sub</th>\n",
       "      <th>device_code3_sub</th>\n",
       "      <th>mac1_sub</th>\n",
       "      <th>mac_sub</th>\n",
       "      <th>ip1_sub</th>\n",
       "      <th>ip21_sub</th>\n",
       "      <th>ip1_sub_sub</th>\n",
       "      <th>acc_id21_sub</th>\n",
       "      <th>acc_id32_sub</th>\n",
       "      <th>acc_id31_sub</th>\n",
       "    </tr>\n",
       "  </thead>\n",
       "  <tbody>\n",
       "    <tr>\n",
       "      <th>9064</th>\n",
       "      <td>10000</td>\n",
       "      <td>13.0</td>\n",
       "      <td>53</td>\n",
       "      <td>2</td>\n",
       "      <td>9271</td>\n",
       "      <td>3</td>\n",
       "      <td>17</td>\n",
       "      <td>997</td>\n",
       "      <td>398</td>\n",
       "      <td>0</td>\n",
       "      <td>...</td>\n",
       "      <td>0</td>\n",
       "      <td>-156</td>\n",
       "      <td>0</td>\n",
       "      <td>0</td>\n",
       "      <td>178</td>\n",
       "      <td>-178</td>\n",
       "      <td>-9531</td>\n",
       "      <td>0</td>\n",
       "      <td>0</td>\n",
       "      <td>0</td>\n",
       "    </tr>\n",
       "    <tr>\n",
       "      <th>11787</th>\n",
       "      <td>10001</td>\n",
       "      <td>7.0</td>\n",
       "      <td>49</td>\n",
       "      <td>2</td>\n",
       "      <td>11566</td>\n",
       "      <td>2</td>\n",
       "      <td>12</td>\n",
       "      <td>65</td>\n",
       "      <td>342</td>\n",
       "      <td>13075</td>\n",
       "      <td>...</td>\n",
       "      <td>9</td>\n",
       "      <td>0</td>\n",
       "      <td>4162</td>\n",
       "      <td>-818</td>\n",
       "      <td>-1637</td>\n",
       "      <td>1637</td>\n",
       "      <td>-3554</td>\n",
       "      <td>-3985</td>\n",
       "      <td>0</td>\n",
       "      <td>-3985</td>\n",
       "    </tr>\n",
       "  </tbody>\n",
       "</table>\n",
       "<p>2 rows × 75 columns</p>\n",
       "</div>"
      ],
      "text/plain": [
       "         UID  day_x  mode  success  time_x  os  version  device1_x  device2_x  \\\n",
       "9064   10000   13.0    53        2    9271   3       17        997        398   \n",
       "11787  10001    7.0    49        2   11566   2       12         65        342   \n",
       "\n",
       "       device_code1_x      ...       device_code2_sub  device_code3_sub  \\\n",
       "9064                0      ...                      0              -156   \n",
       "11787           13075      ...                      9                 0   \n",
       "\n",
       "       mac1_sub  mac_sub  ip1_sub  ip21_sub  ip1_sub_sub  acc_id21_sub  \\\n",
       "9064          0        0      178      -178        -9531             0   \n",
       "11787      4162     -818    -1637      1637        -3554         -3985   \n",
       "\n",
       "       acc_id32_sub  acc_id31_sub  \n",
       "9064              0             0  \n",
       "11787             0         -3985  \n",
       "\n",
       "[2 rows x 75 columns]"
      ]
     },
     "execution_count": 6,
     "metadata": {},
     "output_type": "execute_result"
    }
   ],
   "source": [
    "data.head(2)"
   ]
  },
  {
   "cell_type": "code",
   "execution_count": 36,
   "metadata": {},
   "outputs": [
    {
     "data": {
      "text/plain": [
       "Index(['UID', 'day_x', 'mode', 'success', 'time_x', 'os', 'version',\n",
       "       'device1_x', 'device2_x', 'device_code1_x', 'device_code2_x',\n",
       "       'device_code3_x', 'mac1_x', 'mac2', 'ip1_x', 'ip2', 'wifi',\n",
       "       'geo_code_x', 'ip1_sub_x', 'ip2_sub', 'channel', 'day_y', 'time_y',\n",
       "       'trans_amt', 'amt_src1', 'merchant', 'code1', 'code2', 'trans_type1',\n",
       "       'acc_id1', 'device_code1_y', 'device_code2_y', 'device_code3_y',\n",
       "       'device1_y', 'device2_y', 'mac1_y', 'ip1_y', 'bal', 'amt_src2',\n",
       "       'acc_id2', 'acc_id3', 'geo_code_y', 'trans_type2', 'market_code',\n",
       "       'market_type', 'ip1_sub_y', 'Tag', 'hour_x', 'minutes_x', 'hour_y',\n",
       "       'minutes_y', 'day_sub', 'hour_sub', 'minutes_sub', 'amt_bal_sum',\n",
       "       'geo_code_sub'],\n",
       "      dtype='object')"
      ]
     },
     "execution_count": 36,
     "metadata": {},
     "output_type": "execute_result"
    }
   ],
   "source": [
    "data.columns"
   ]
  },
  {
   "cell_type": "code",
   "execution_count": null,
   "metadata": {},
   "outputs": [],
   "source": []
  },
  {
   "cell_type": "code",
   "execution_count": 1,
   "metadata": {},
   "outputs": [],
   "source": [
    "import pandas as pd\n",
    "import numpy as np"
   ]
  },
  {
   "cell_type": "code",
   "execution_count": 2,
   "metadata": {},
   "outputs": [],
   "source": [
    "operation_TRAIN = pd.read_csv(\"../data/operation_TRAIN.csv\")"
   ]
  },
  {
   "cell_type": "code",
   "execution_count": 5,
   "metadata": {},
   "outputs": [],
   "source": [
    "operation_TRAIN = operation_TRAIN.sort_values(\"UID\")"
   ]
  },
  {
   "cell_type": "code",
   "execution_count": null,
   "metadata": {},
   "outputs": [],
   "source": []
  },
  {
   "cell_type": "code",
   "execution_count": 10,
   "metadata": {},
   "outputs": [],
   "source": []
  },
  {
   "cell_type": "code",
   "execution_count": 12,
   "metadata": {
    "scrolled": true
   },
   "outputs": [],
   "source": []
  },
  {
   "cell_type": "code",
   "execution_count": null,
   "metadata": {},
   "outputs": [],
   "source": []
  },
  {
   "cell_type": "code",
   "execution_count": 41,
   "metadata": {},
   "outputs": [],
   "source": [
    "operation_TRAIN = operation_TRAIN.drop_duplicates(\"UID\", keep=\"last\")"
   ]
  },
  {
   "cell_type": "code",
   "execution_count": 43,
   "metadata": {},
   "outputs": [],
   "source": [
    "tag_TRAIN = pd.read_csv(\"../data/tag_TRAIN.csv\")"
   ]
  },
  {
   "cell_type": "code",
   "execution_count": 5,
   "metadata": {},
   "outputs": [],
   "source": [
    "transaction_TRAIN = pd.read_csv(\"../data/transaction_TRAIN.csv\")"
   ]
  },
  {
   "cell_type": "code",
   "execution_count": 6,
   "metadata": {},
   "outputs": [
    {
     "data": {
      "text/plain": [
       "(161965, 27)"
      ]
     },
     "execution_count": 6,
     "metadata": {},
     "output_type": "execute_result"
    }
   ],
   "source": [
    "transaction_TRAIN.shape"
   ]
  },
  {
   "cell_type": "code",
   "execution_count": 8,
   "metadata": {},
   "outputs": [],
   "source": [
    "operation_round1 = pd.read_csv(\"../data/operation_round1.csv\")"
   ]
  },
  {
   "cell_type": "code",
   "execution_count": 14,
   "metadata": {},
   "outputs": [
    {
     "data": {
      "text/plain": [
       "(10128, 20)"
      ]
     },
     "execution_count": 14,
     "metadata": {},
     "output_type": "execute_result"
    }
   ],
   "source": [
    "operation_round1.drop_duplicates(\"UID\").shape"
   ]
  },
  {
   "cell_type": "code",
   "execution_count": null,
   "metadata": {},
   "outputs": [],
   "source": []
  },
  {
   "cell_type": "code",
   "execution_count": null,
   "metadata": {},
   "outputs": [],
   "source": []
  },
  {
   "cell_type": "code",
   "execution_count": 10,
   "metadata": {},
   "outputs": [],
   "source": [
    "transaction_round1 = pd.read_csv(\"../data/transaction_round1.csv\")"
   ]
  },
  {
   "cell_type": "code",
   "execution_count": 15,
   "metadata": {},
   "outputs": [
    {
     "data": {
      "text/plain": [
       "(13115, 27)"
      ]
     },
     "execution_count": 15,
     "metadata": {},
     "output_type": "execute_result"
    }
   ],
   "source": [
    "transaction_round1.drop_duplicates(\"UID\").shape"
   ]
  },
  {
   "cell_type": "markdown",
   "metadata": {},
   "source": [
    "## 将操作数据和交易数据分开建模"
   ]
  },
  {
   "cell_type": "code",
   "execution_count": 67,
   "metadata": {},
   "outputs": [],
   "source": [
    "import time\n",
    "import pandas as pd\n",
    "import numpy as np\n",
    "from sklearn.model_selection import train_test_split\n",
    "from sklearn import preprocessing\n",
    "import xgboost as xgb\n",
    "import matplotlib.pyplot as plt\n",
    "%matplotlib inline"
   ]
  },
  {
   "cell_type": "code",
   "execution_count": null,
   "metadata": {},
   "outputs": [],
   "source": []
  },
  {
   "cell_type": "code",
   "execution_count": null,
   "metadata": {},
   "outputs": [],
   "source": []
  },
  {
   "cell_type": "code",
   "execution_count": null,
   "metadata": {},
   "outputs": [],
   "source": []
  },
  {
   "cell_type": "code",
   "execution_count": null,
   "metadata": {},
   "outputs": [],
   "source": []
  },
  {
   "cell_type": "code",
   "execution_count": null,
   "metadata": {},
   "outputs": [],
   "source": []
  },
  {
   "cell_type": "code",
   "execution_count": null,
   "metadata": {},
   "outputs": [],
   "source": []
  },
  {
   "cell_type": "code",
   "execution_count": null,
   "metadata": {},
   "outputs": [],
   "source": []
  },
  {
   "cell_type": "code",
   "execution_count": null,
   "metadata": {},
   "outputs": [],
   "source": []
  },
  {
   "cell_type": "code",
   "execution_count": null,
   "metadata": {},
   "outputs": [],
   "source": []
  },
  {
   "cell_type": "code",
   "execution_count": null,
   "metadata": {},
   "outputs": [],
   "source": []
  },
  {
   "cell_type": "code",
   "execution_count": null,
   "metadata": {},
   "outputs": [],
   "source": []
  },
  {
   "cell_type": "code",
   "execution_count": null,
   "metadata": {},
   "outputs": [],
   "source": []
  },
  {
   "cell_type": "code",
   "execution_count": null,
   "metadata": {},
   "outputs": [],
   "source": []
  },
  {
   "cell_type": "code",
   "execution_count": null,
   "metadata": {},
   "outputs": [],
   "source": []
  }
 ],
 "metadata": {
  "kernelspec": {
   "display_name": "Python 3",
   "language": "python",
   "name": "python3"
  },
  "language_info": {
   "codemirror_mode": {
    "name": "ipython",
    "version": 3
   },
   "file_extension": ".py",
   "mimetype": "text/x-python",
   "name": "python",
   "nbconvert_exporter": "python",
   "pygments_lexer": "ipython3",
   "version": "3.6.6"
  }
 },
 "nbformat": 4,
 "nbformat_minor": 2
}
