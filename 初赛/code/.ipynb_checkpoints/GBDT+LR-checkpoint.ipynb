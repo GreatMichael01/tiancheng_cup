{
 "cells": [
  {
   "cell_type": "code",
   "execution_count": 9,
   "metadata": {},
   "outputs": [],
   "source": [
    "# !/usr/bin/python3\n",
    "# -*- coding: utf-8 -*-\n",
    "\n",
    "import numpy as np\n",
    "import pandas as pd\n",
    "from sklearn.linear_model import LogisticRegression\n",
    "from sklearn.model_selection import train_test_split\n",
    "import lightgbm as lgb\n",
    "from sklearn.preprocessing import MinMaxScaler, OneHotEncoder, LabelEncoder\n",
    "from sklearn.metrics import log_loss\n",
    "import warnings\n",
    "warnings.filterwarnings(\"ignore\")\n",
    "import gc\n",
    "from scipy import sparse\n",
    "import matplotlib.pyplot as plt\n",
    "from sklearn.metrics import roc_curve, auc"
   ]
  },
  {
   "cell_type": "code",
   "execution_count": 10,
   "metadata": {},
   "outputs": [],
   "source": [
    "def preProcess():\n",
    "    path = \"../data/\"\n",
    "    print(\"读取数据...\")\n",
    "    operation_TRAIN = pd.read_csv(\"../data/operation_TRAIN.csv\")\n",
    "    transaction_TRAIN = pd.read_csv(\"../data/transaction_TRAIN.csv\")\n",
    "    tag_TRAIN = pd.read_csv(\"../data/tag_TRAIN.csv\")\n",
    "    df_train = \n",
    "    df_train = pd.read_csv(path + \"train.csv\")\n",
    "    df_test = pd.read_csv(path + \"test.csv\")\n",
    "    print(\"读取结束...\")\n",
    "    df_train.drop([\"Id\"], axis=1, inplace=True)\n",
    "    df_test.drop([\"Id\"], axis=1, inplace=True)\n",
    "    df_test[\"Label\"] = -1\n",
    "    data = pd.concat([df_train, df_test])\n",
    "    data = data.fillna(-1)\n",
    "    data.to_csv(\"../data/data.csv\", index=False)\n",
    "    return data"
   ]
  },
  {
   "cell_type": "code",
   "execution_count": 11,
   "metadata": {},
   "outputs": [],
   "source": [
    "def gbdt_lr_predict(data, dis_feature, con_feature):\n",
    "    \"\"\"离散特征one-hot\"\"\"\n",
    "    print(\"开始one-hot...\")\n",
    "    for col in dis_feature:\n",
    "        onehot_feats = pd.get_dummies(data[col], prefix=col)\n",
    "        data.drop([col], axis=1, inplace=True)\n",
    "        data = pd.concat([data, onehot_feats], axis=1)\n",
    "    print(\"one-hot结束\")\n",
    "    \n",
    "    train = data[data[\"Label\"] != -1]\n",
    "    target = train.pop(\"Label\")\n",
    "    test = data[data[\"Label\"] == -1]\n",
    "    test.drop([\"Label\"], axis=1, inplace=True)\n",
    "    \n",
    "    print(\"划分数据集...\")\n",
    "    x_train, x_val, y_train, y_val = train_test_split(train, target, test_size=0.2, random_state=2018)\n",
    "    \n",
    "    print(\"开始训练gbdt...\")\n",
    "    gbm = lgb.LGBMRegressor(objective=\"binary\",\n",
    "                            subsample=0.8,\n",
    "                            min_child_weight=0.5,\n",
    "                            colsample_bytree=0.7,\n",
    "                            num_leaves=100,\n",
    "                            max_depth=12,\n",
    "                            learning_rate=0.001,\n",
    "                            n_estimators=10)\n",
    "    gbm.fit(x_train, y_train, \n",
    "            eval_set=[(x_train, y_train), (x_val, y_val)],\n",
    "            eval_names=[\"train\", \"val\"],\n",
    "            eval_metric=\"binary_logloss\")\n",
    "    model = gbm.booster_\n",
    "    print(\"训练得到叶子数...\")\n",
    "    gbdt_feats_train = model.predict(train, pred_leaf=True)\n",
    "    gbdt_feats_test = model.predict(test, pred_leaf=True)\n",
    "    gbdt_feats_name = [\"gbdt_leaf_\" + str(i) for i in range(gbdt_feats_train.shape[1])]\n",
    "    df_train_gbdt_feats = pd.DataFrame(gbdt_feats_train, columns=gbdt_feats_name)\n",
    "    df_test_gbdt_feats = pd.DataFrame(gbdt_feats_test, columns=gbdt_feats_name)\n",
    "\n",
    "    \n",
    "    print(\"构造新的数据集...\")\n",
    "    train = pd.concat([train, df_train_gbdt_feats], axis=1)\n",
    "    test = pd.concat([test, df_test_gbdt_feats], axis=1)\n",
    "    train_len = train.shape[0]\n",
    "    data = pd.concat([train, test])\n",
    "    del train\n",
    "    del test\n",
    "    gc.collect()\n",
    "    \n",
    "    \n",
    "    \"\"\"连续特征归一化\"\"\"\n",
    "    print(\"开始归一化...\")\n",
    "    scaler = MinMaxScaler()\n",
    "    for col in con_feature:\n",
    "        data[col] = scaler.fit_transform(data[col].values.reshape(-1, 1))\n",
    "    print(\"归一化结束\")\n",
    "    \n",
    "    \"\"\"叶子数One-Hot\"\"\"\n",
    "    print(\"开始one-hot...\")\n",
    "    for col in gbdt_feats_name:\n",
    "        print(\"this is feature:\", col)\n",
    "        onehot_feats = pd.get_dummies(data[col], prefix=col)\n",
    "        data.drop([col], axis=1, inplace=True)\n",
    "        data = pd.concat([data, onehot_feats], axis=1)\n",
    "    print(\"one-hot结束\")\n",
    "    \n",
    "    train = data[ :train_len]\n",
    "    test = data[train_len: ]\n",
    "    del data\n",
    "    gc.collect()\n",
    "    \n",
    "    x_train, x_val, y_train, y_val = train_test_split(train, target, test_size=0.3, random_state=2018)\n",
    "    print(\"开始训练lr...\")\n",
    "    lr = LogisticRegression()\n",
    "    lr.fit(x_train, y_train)\n",
    "    tr_logloss = log_loss(y_train, lr.predict_proba(x_train)[:, 1])\n",
    "    print(\"tr-logloss:\", tr_logloss)\n",
    "    val_logloss = log_loss(y_val, lr.predict_proba(x_val)[:, 1])\n",
    "    print(\"val-logloss:\", val_logloss)\n",
    "    \n",
    "    \n",
    "    fpr, tpr, threshold = roc_curve(y_val, lr.predict_proba(x_val)[:, 1])\n",
    "    roc_auc = auc(fpr, tpr)\n",
    "    lw = 2\n",
    "    plt.plot(fpr, tpr, color=\"darkorange\", lw=lw, label=\"ROC curve (area = %0.5f)\" % roc_auc)\n",
    "    plt.plot([0, 1], [0, 1], color=\"navy\", lw=lw, linestyle=\"--\")  \n",
    "    plt.xlim([0.0, 1.0])  \n",
    "    plt.ylim([0.0, 1.05])  \n",
    "    plt.xlabel(\"False Positive Rate\")  \n",
    "    plt.ylabel(\"True Positive Rate\")  \n",
    "    plt.title( \"gbdt_lr\"+ \"ROC\")  \n",
    "    plt.legend(loc=\"lower right\")\n",
    "    plt.show()\n",
    "    \n",
    "    \n",
    "    \n",
    "    \n",
    "    print(\"开始预测...\")\n",
    "    y_pred = lr.predict_proba(test)[:, 1]\n",
    "    print(\"写入结果...\")\n",
    "    res = pd.read_csv(\"../data/test.csv\")\n",
    "    submission = pd.DataFrame({\"Id\": res[\"Id\"], \"Label\": y_pred})\n",
    "    submission.to_csv(\"../submission/submission_gbdt+lr_trlogloss_%s_vallogloss_%s.csv\" % (tr_logloss, val_logloss), index=False)\n",
    "    print(\"结束\")\n",
    "    "
   ]
  },
  {
   "cell_type": "code",
   "execution_count": null,
   "metadata": {},
   "outputs": [
    {
     "name": "stdout",
     "output_type": "stream",
     "text": [
      "读取数据...\n",
      "读取结束...\n",
      "开始one-hot...\n",
      "one-hot结束\n",
      "划分数据集...\n",
      "开始训练gbdt...\n",
      "[1]\ttrain's binary_logloss: 0.499298\tval's binary_logloss: 0.565496\n",
      "[2]\ttrain's binary_logloss: 0.499056\tval's binary_logloss: 0.56541\n",
      "[3]\ttrain's binary_logloss: 0.498834\tval's binary_logloss: 0.565312\n",
      "[4]\ttrain's binary_logloss: 0.498627\tval's binary_logloss: 0.565209\n",
      "[5]\ttrain's binary_logloss: 0.498389\tval's binary_logloss: 0.565123\n",
      "[6]\ttrain's binary_logloss: 0.49817\tval's binary_logloss: 0.565016\n",
      "[7]\ttrain's binary_logloss: 0.49798\tval's binary_logloss: 0.564969\n",
      "[8]\ttrain's binary_logloss: 0.497767\tval's binary_logloss: 0.564883\n",
      "[9]\ttrain's binary_logloss: 0.497526\tval's binary_logloss: 0.564783\n",
      "[10]\ttrain's binary_logloss: 0.497306\tval's binary_logloss: 0.564678\n",
      "训练得到叶子数...\n"
     ]
    }
   ],
   "source": [
    "if __name__ == \"__main__\":\n",
    "    data = preProcess()\n",
    "    con_feature = [\"I\"] * 13\n",
    "    con_feature = [col + str(i+1) for i, col in enumerate(con_feature)]\n",
    "    dis_feature = [\"C\"] * 26\n",
    "    dis_feature = [col + str(i+1) for i, col in enumerate(dis_feature)]\n",
    "    gbdt_lr_predict(data, dis_feature, con_feature)"
   ]
  },
  {
   "cell_type": "code",
   "execution_count": null,
   "metadata": {},
   "outputs": [],
   "source": []
  },
  {
   "cell_type": "code",
   "execution_count": null,
   "metadata": {},
   "outputs": [],
   "source": []
  },
  {
   "cell_type": "code",
   "execution_count": null,
   "metadata": {},
   "outputs": [],
   "source": []
  },
  {
   "cell_type": "code",
   "execution_count": null,
   "metadata": {},
   "outputs": [],
   "source": []
  },
  {
   "cell_type": "code",
   "execution_count": null,
   "metadata": {},
   "outputs": [],
   "source": []
  },
  {
   "cell_type": "code",
   "execution_count": null,
   "metadata": {},
   "outputs": [],
   "source": []
  },
  {
   "cell_type": "code",
   "execution_count": null,
   "metadata": {},
   "outputs": [],
   "source": []
  },
  {
   "cell_type": "code",
   "execution_count": null,
   "metadata": {},
   "outputs": [],
   "source": []
  },
  {
   "cell_type": "code",
   "execution_count": null,
   "metadata": {},
   "outputs": [],
   "source": []
  },
  {
   "cell_type": "code",
   "execution_count": null,
   "metadata": {},
   "outputs": [],
   "source": []
  },
  {
   "cell_type": "code",
   "execution_count": null,
   "metadata": {},
   "outputs": [],
   "source": []
  },
  {
   "cell_type": "code",
   "execution_count": null,
   "metadata": {},
   "outputs": [],
   "source": []
  },
  {
   "cell_type": "code",
   "execution_count": null,
   "metadata": {},
   "outputs": [],
   "source": []
  },
  {
   "cell_type": "code",
   "execution_count": null,
   "metadata": {},
   "outputs": [],
   "source": []
  },
  {
   "cell_type": "code",
   "execution_count": null,
   "metadata": {},
   "outputs": [],
   "source": []
  },
  {
   "cell_type": "code",
   "execution_count": null,
   "metadata": {},
   "outputs": [],
   "source": []
  },
  {
   "cell_type": "code",
   "execution_count": null,
   "metadata": {},
   "outputs": [],
   "source": []
  },
  {
   "cell_type": "code",
   "execution_count": null,
   "metadata": {},
   "outputs": [],
   "source": []
  },
  {
   "cell_type": "code",
   "execution_count": null,
   "metadata": {},
   "outputs": [],
   "source": []
  },
  {
   "cell_type": "code",
   "execution_count": null,
   "metadata": {},
   "outputs": [],
   "source": []
  },
  {
   "cell_type": "code",
   "execution_count": null,
   "metadata": {},
   "outputs": [],
   "source": []
  },
  {
   "cell_type": "code",
   "execution_count": null,
   "metadata": {},
   "outputs": [],
   "source": []
  },
  {
   "cell_type": "code",
   "execution_count": null,
   "metadata": {},
   "outputs": [],
   "source": []
  },
  {
   "cell_type": "code",
   "execution_count": null,
   "metadata": {},
   "outputs": [],
   "source": []
  },
  {
   "cell_type": "code",
   "execution_count": null,
   "metadata": {},
   "outputs": [],
   "source": []
  }
 ],
 "metadata": {
  "kernelspec": {
   "display_name": "Python 3",
   "language": "python",
   "name": "python3"
  },
  "language_info": {
   "codemirror_mode": {
    "name": "ipython",
    "version": 3
   },
   "file_extension": ".py",
   "mimetype": "text/x-python",
   "name": "python",
   "nbconvert_exporter": "python",
   "pygments_lexer": "ipython3",
   "version": "3.6.5"
  }
 },
 "nbformat": 4,
 "nbformat_minor": 2
}
