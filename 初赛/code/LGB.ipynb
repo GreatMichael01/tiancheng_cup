{
 "cells": [
  {
   "cell_type": "code",
   "execution_count": 43,
   "metadata": {},
   "outputs": [],
   "source": [
    "import pandas as pd\n",
    "import numpy as np\n",
    "import time\n",
    "import xgboost as xgb\n",
    "import lightgbm as lgb\n",
    "from sklearn.model_selection import train_test_split\n",
    "from sklearn import preprocessing"
   ]
  },
  {
   "cell_type": "code",
   "execution_count": 44,
   "metadata": {},
   "outputs": [],
   "source": [
    "operation_TRAIN = pd.read_csv(\"../data/operation_TRAIN.csv\")\n",
    "transaction_TRAIN = pd.read_csv(\"../data/transaction_TRAIN.csv\")\n",
    "tag_TRAIN = pd.read_csv(\"../data/tag_TRAIN.csv\")                                                          \n",
    "operation_TRAIN = operation_TRAIN.drop_duplicates(\"UID\", keep=\"last\")\n",
    "transaction_TRAIN = transaction_TRAIN.drop_duplicates(\"UID\", keep=\"last\")\n",
    "train_X = pd.merge(operation_TRAIN, transaction_TRAIN, on=\"UID\", how=\"outer\")\n",
    "train = pd.merge(train_X, tag_TRAIN, on=\"UID\", how=\"left\")\n",
    "train = train.sort_values(\"UID\")\n",
    "\n",
    "operation_round1 = pd.read_csv(\"../data/operation_round1.csv\")\n",
    "transaction_round1 = pd.read_csv(\"../data/transaction_round1.csv\")                                                                                                                      \n",
    "operation_round1 = operation_round1.drop_duplicates([\"UID\"], keep=\"last\")\n",
    "transaction_round1 = transaction_round1.drop_duplicates([\"UID\"], keep=\"last\")                                                              \n",
    "test_C = pd.merge(operation_round1, transaction_round1, on=\"UID\", how=\"outer\")\n",
    "test_C = test_C.sort_values(\"UID\")"
   ]
  },
  {
   "cell_type": "code",
   "execution_count": 45,
   "metadata": {},
   "outputs": [],
   "source": [
    "del operation_TRAIN\n",
    "del transaction_TRAIN\n",
    "del tag_TRAIN\n",
    "del operation_round1\n",
    "del transaction_round1"
   ]
  },
  {
   "cell_type": "code",
   "execution_count": 46,
   "metadata": {},
   "outputs": [],
   "source": [
    "test_C[\"Tag\"] = -1\n",
    "data = pd.concat([train, test_C])\n",
    "data = data.fillna(value=-99999)\n",
    "# data = data.drop([\"time_x\", \"time_y\"], axis=1)\n",
    "feature = data.columns.drop([\"UID\", \"Tag\"])\n",
    "col_feature = [\"day_x\", \"day_y\", \"bal\", \"trans_amt\"]\n",
    "dis_feature = feature.drop(col_feature)\n",
    "\n",
    "for col in dis_feature:\n",
    "    lbl = preprocessing.LabelEncoder()\n",
    "    data[col] = lbl.fit_transform(list(data[col].values))\n",
    "    \n",
    "train = data[data[\"Tag\"] != -1]\n",
    "train_Y = train[\"Tag\"]\n",
    "train_X = train.drop([\"UID\", \"Tag\"], axis=1)\n",
    "test = data[data[\"Tag\"] == -1]\n",
    "test_UID = test[\"UID\"]\n",
    "test_X = test.drop([\"UID\", \"Tag\"], axis=1)"
   ]
  },
  {
   "cell_type": "code",
   "execution_count": 47,
   "metadata": {},
   "outputs": [],
   "source": [
    "params = {'boosting_type': 'gbdt',\n",
    "         'objective': 'binary',\n",
    "         'metric': 'auc',\n",
    "         'min_child_weight': 1.5,\n",
    "         'num_leaves': 2 ** 5,\n",
    "         'lambda_l2': 10,\n",
    "         'subsample': 0.85,\n",
    "         'learning_rate': 0.1,\n",
    "         'seed': 2018,\n",
    "         'colsample_bytree': 0.5,\n",
    "         'nthread': 12}\n",
    "\n",
    "x_train, x_val, y_train, y_true = train_test_split(train_X, train_Y, test_size=0.2, random_state=2018)\n",
    "\n",
    "d_train = lgb.Dataset(x_train, y_train)\n",
    "\n",
    "a_model = lgb.train(params, d_train, 50000)   \n",
    "y_predict = a_model.predict(x_val)\n"
   ]
  },
  {
   "cell_type": "code",
   "execution_count": 48,
   "metadata": {},
   "outputs": [
    {
     "name": "stdout",
     "output_type": "stream",
     "text": [
      "*******************************************************************************************************\n",
      "result: 0.7099378881987577\n",
      "*******************************************************************************************************\n"
     ]
    }
   ],
   "source": [
    "d = pd.DataFrame()\n",
    "d['prob'] = list(y_predict)\n",
    "d['y'] = list(y_true)\n",
    "d = d.sort_values(['prob'], ascending=[0])\n",
    "y = d.y\n",
    "PosAll = pd.Series(y).value_counts()[1]\n",
    "NegAll = pd.Series(y).value_counts()[0]\n",
    "pCumsum = d['y'].cumsum()\n",
    "nCumsum = np.arange(len(y)) - pCumsum + 1\n",
    "pCumsumPer = pCumsum / PosAll\n",
    "nCumsumPer = nCumsum / NegAll\n",
    "TR1 = pCumsumPer[abs(nCumsumPer-0.001).idxmin()]\n",
    "TR2 = pCumsumPer[abs(nCumsumPer-0.005).idxmin()]\n",
    "TR3 = pCumsumPer[abs(nCumsumPer-0.01).idxmin()]\n",
    "\n",
    "result = 0.4 * TR1 + 0.3 * TR2 + 0.3 * TR3\n",
    "print(\"*******************************************************************************************************\")\n",
    "print(\"result:\", result)\n",
    "print(\"*******************************************************************************************************\")"
   ]
  },
  {
   "cell_type": "code",
   "execution_count": null,
   "metadata": {},
   "outputs": [],
   "source": []
  },
  {
   "cell_type": "code",
   "execution_count": 49,
   "metadata": {},
   "outputs": [],
   "source": [
    "d_all = lgb.Dataset(train_X, label=train_Y)\n",
    "model = lgb.train(params, d_all, 50000)"
   ]
  },
  {
   "cell_type": "code",
   "execution_count": 50,
   "metadata": {},
   "outputs": [],
   "source": [
    "prob = model.predict(test_X)"
   ]
  },
  {
   "cell_type": "code",
   "execution_count": 51,
   "metadata": {},
   "outputs": [],
   "source": [
    "result = pd.DataFrame({\"UID\": test_UID, \"Tag\": prob})"
   ]
  },
  {
   "cell_type": "code",
   "execution_count": 52,
   "metadata": {},
   "outputs": [],
   "source": [
    "result.to_csv(\"../submission/\" + str(int(time.time())) + \".csv\", index=False)"
   ]
  },
  {
   "cell_type": "code",
   "execution_count": null,
   "metadata": {},
   "outputs": [],
   "source": []
  },
  {
   "cell_type": "code",
   "execution_count": null,
   "metadata": {},
   "outputs": [],
   "source": []
  },
  {
   "cell_type": "code",
   "execution_count": null,
   "metadata": {},
   "outputs": [],
   "source": []
  },
  {
   "cell_type": "code",
   "execution_count": null,
   "metadata": {},
   "outputs": [],
   "source": []
  },
  {
   "cell_type": "code",
   "execution_count": null,
   "metadata": {},
   "outputs": [],
   "source": []
  },
  {
   "cell_type": "code",
   "execution_count": null,
   "metadata": {},
   "outputs": [],
   "source": []
  },
  {
   "cell_type": "code",
   "execution_count": null,
   "metadata": {},
   "outputs": [],
   "source": []
  },
  {
   "cell_type": "code",
   "execution_count": null,
   "metadata": {},
   "outputs": [],
   "source": []
  },
  {
   "cell_type": "code",
   "execution_count": null,
   "metadata": {},
   "outputs": [],
   "source": []
  }
 ],
 "metadata": {
  "kernelspec": {
   "display_name": "Python 3",
   "language": "python",
   "name": "python3"
  },
  "language_info": {
   "codemirror_mode": {
    "name": "ipython",
    "version": 3
   },
   "file_extension": ".py",
   "mimetype": "text/x-python",
   "name": "python",
   "nbconvert_exporter": "python",
   "pygments_lexer": "ipython3",
   "version": "3.6.5"
  }
 },
 "nbformat": 4,
 "nbformat_minor": 2
}
