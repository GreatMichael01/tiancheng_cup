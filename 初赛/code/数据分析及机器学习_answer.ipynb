{
 "cells": [
  {
   "cell_type": "markdown",
   "metadata": {},
   "source": [
    "## 数据分析&机器学习\n",
    "\n",
    "在机器学习中，流程通常为\n",
    "1. 数据探索，对样本数量、样本基础字段、字段数据类型、缺失值及异常值、样本分布等信息进行探索分析。\n",
    "2. 数据预处理，通常是对样本数据中缺失值和异常值进行处理，此外当样本非常不平衡时，需要非平衡处理。\n",
    "3. 特征工程，特征工程是机器学习中较为重要且比较繁杂的部分，较为常用的方法是基于统计和实际业务的人为构建特征。\n",
    "4. 特征选择，其目的是帮我们选择更有用的特征，提高训练的模型的预测准确度，降低过拟合。\n",
    "5. 模型训练，用一些算法，通过对样本特征数据及其标签的学习，训练出一套具有预测能力的模型。\n",
    "6. 预测评估，对于模型准确度的评估。\n",
    "7. 模型优化，当模型效果表现不好时，需要重新构建特征、调节算法参数等工作。\n",
    "\n",
    "下面将把以上流程分为数据分析及机器学习两个部分进行评测。评测采用数据为IJCAI18第一轮训练数据及测试数据，数据已存入data文件夹内。（数据详情入口：[IJCAI18](https://tianchi.aliyun.com/competition/information.htm?spm=5176.100067.5678.2.373c2163PpY08X&raceId=231647)）\n",
    "\n",
    "整个过程采用的语言为Python。需要代码编写区域形式如下：\n",
    "```\n",
    "### 代码开始 ###\n",
    "你的代码\n",
    "### 代码结束 ###\n",
    "```\n",
    "会提示大约需要多少行代码可以完成。\n",
    "\n",
    "**注：非代码编写区域代码不要更改！**\n",
    "\n",
    "\n",
    "### 数据分析\n",
    "这一部分主要进行数据探索、数据预处理、简单的特征工程（One-Hot编码）。\n",
    "\n",
    "#### 导入模块\n",
    "在进行分析之前，我们需要导入可能用到的Python库。\n",
    "* [numpy](http://www.numpy.org/)，数据科学计算库。\n",
    "* [pandas](http://pandas.pydata.org/)，具有操作性很强的数据结构。\n",
    "* [matplotlib](https://matplotlib.org/)，画图工具。\n",
    "* [sklearn](http://scikit-learn.org/)，常用的机器学习工具库。"
   ]
  },
  {
   "cell_type": "code",
   "execution_count": 1,
   "metadata": {},
   "outputs": [],
   "source": [
    "# ignore warnings\n",
    "import warnings\n",
    "warnings.filterwarnings(\"ignore\")\n",
    "import time\n",
    "import numpy as np\n",
    "import pandas as pd\n",
    "import matplotlib.pyplot as plt\n",
    "from sklearn.preprocessing import OneHotEncoder\n",
    "%matplotlib inline"
   ]
  },
  {
   "cell_type": "markdown",
   "metadata": {},
   "source": [
    "#### 读取原始文件\n",
    "读取文件可以用pandas库中的函数。原始数据文件格式为`.txt`。"
   ]
  },
  {
   "cell_type": "code",
   "execution_count": 2,
   "metadata": {},
   "outputs": [
    {
     "name": "stdout",
     "output_type": "stream",
     "text": [
      "IJCAI 测试样本维度： (478138, 27)\n",
      "IJCAI 测试样本维度： (18371, 26)\n"
     ]
    }
   ],
   "source": [
    "# 读取原始数据\n",
    "### 代码开始 ###（大约2行代码）\n",
    "ijcai_train = pd.read_table(\"./data/ijcai18_train.txt\", sep=\" \")\n",
    "ijcai_test = pd.read_table(\"./data/ijcai18_test.txt\", sep=\" \")\n",
    "### 代码结束 ### \n",
    "\n",
    "# 打印出原始训练样本和测试样本的维度\n",
    "print(\"IJCAI 测试样本维度： \" + str(ijcai_train.shape))\n",
    "print(\"IJCAI 测试样本维度： \" + str(ijcai_test.shape))"
   ]
  },
  {
   "cell_type": "markdown",
   "metadata": {},
   "source": [
    "期望输出：\n",
    "```\n",
    "IJCAI 测试样本维度： (478138, 27)\n",
    "IJCAI 测试样本维度： (18371, 26)\n",
    "```\n",
    "#### 数据抽样\n",
    "因为原始数据的样本数量较多，在后续模型训练过程中可能造成训练时间过长，而这并不是此次评测想要看到的，所以，我们只通过简单随机抽样的方法抽取原始训练样本和测试样本数据的20%。"
   ]
  },
  {
   "cell_type": "code",
   "execution_count": 3,
   "metadata": {},
   "outputs": [
    {
     "name": "stdout",
     "output_type": "stream",
     "text": [
      "随机抽样后的训练样本维度： (96378, 27)\n",
      "随机抽样后的测试样本维度： (3696, 26)\n"
     ]
    }
   ],
   "source": [
    "np.random.seed(2) #设置随机种子，以保证划分后的样本维度和期望输出维度相同。\n",
    "\n",
    "# 对原始训练样本和测试样本数据进行抽样，抽样比例为20%\n",
    "### 代码开始 ### （大约4行代码）\n",
    "stay_flag = np.random.rand(ijcai_train.shape[0])\n",
    "ijcai_new_train = ijcai_train[stay_flag <= 0.2]\n",
    "stay_flag = np.random.rand(ijcai_test.shape[0])\n",
    "ijcai_new_test = ijcai_test[stay_flag <= 0.2]\n",
    "### 代码结束 ### \n",
    "\n",
    "# 将抽取出来的数据的索引进行重新排序\n",
    "ijcai_new_train = ijcai_new_train.reset_index().drop([\"index\"], axis=1)\n",
    "ijcai_new_test = ijcai_new_test.reset_index().drop([\"index\"], axis=1)\n",
    "\n",
    "# 打印抽样后的维度\n",
    "print(\"随机抽样后的训练样本维度： \" + str(ijcai_new_train.shape))\n",
    "print(\"随机抽样后的测试样本维度： \" + str(ijcai_new_test.shape))\n"
   ]
  },
  {
   "cell_type": "markdown",
   "metadata": {},
   "source": [
    "期望输出：\n",
    "```\n",
    "随机抽样后的训练样本维度： (96378, 27)\n",
    "\n",
    "随机抽样后的测试样本维度： (3696, 26)\n",
    "```\n",
    "\n",
    "**注意：接下来我们都是对抽样过后的数据进行分析和处理！**\n",
    "#### 数据探索"
   ]
  },
  {
   "cell_type": "code",
   "execution_count": 4,
   "metadata": {
    "scrolled": true
   },
   "outputs": [
    {
     "data": {
      "text/html": [
       "<div>\n",
       "<style scoped>\n",
       "    .dataframe tbody tr th:only-of-type {\n",
       "        vertical-align: middle;\n",
       "    }\n",
       "\n",
       "    .dataframe tbody tr th {\n",
       "        vertical-align: top;\n",
       "    }\n",
       "\n",
       "    .dataframe thead th {\n",
       "        text-align: right;\n",
       "    }\n",
       "</style>\n",
       "<table border=\"1\" class=\"dataframe\">\n",
       "  <thead>\n",
       "    <tr style=\"text-align: right;\">\n",
       "      <th></th>\n",
       "      <th>instance_id</th>\n",
       "      <th>item_id</th>\n",
       "      <th>item_category_list</th>\n",
       "      <th>item_property_list</th>\n",
       "      <th>item_brand_id</th>\n",
       "      <th>item_city_id</th>\n",
       "      <th>item_price_level</th>\n",
       "      <th>item_sales_level</th>\n",
       "      <th>item_collected_level</th>\n",
       "      <th>item_pv_level</th>\n",
       "      <th>...</th>\n",
       "      <th>context_page_id</th>\n",
       "      <th>predict_category_property</th>\n",
       "      <th>shop_id</th>\n",
       "      <th>shop_review_num_level</th>\n",
       "      <th>shop_review_positive_rate</th>\n",
       "      <th>shop_star_level</th>\n",
       "      <th>shop_score_service</th>\n",
       "      <th>shop_score_delivery</th>\n",
       "      <th>shop_score_description</th>\n",
       "      <th>is_trade</th>\n",
       "    </tr>\n",
       "  </thead>\n",
       "  <tbody>\n",
       "    <tr>\n",
       "      <th>0</th>\n",
       "      <td>5754713551599725161</td>\n",
       "      <td>3412720377098676069</td>\n",
       "      <td>7908382889764677758;5799347067982556520</td>\n",
       "      <td>2072967855524022579;5131280576272319091;263639...</td>\n",
       "      <td>1975590437749032870</td>\n",
       "      <td>3948283326616421003</td>\n",
       "      <td>3</td>\n",
       "      <td>3</td>\n",
       "      <td>4</td>\n",
       "      <td>14</td>\n",
       "      <td>...</td>\n",
       "      <td>4001</td>\n",
       "      <td>5799347067982556520:9172976955054793469;790838...</td>\n",
       "      <td>6765930309048922341</td>\n",
       "      <td>4</td>\n",
       "      <td>1.000000</td>\n",
       "      <td>5002</td>\n",
       "      <td>1.000000</td>\n",
       "      <td>1.000000</td>\n",
       "      <td>1.000000</td>\n",
       "      <td>0</td>\n",
       "    </tr>\n",
       "    <tr>\n",
       "      <th>1</th>\n",
       "      <td>8802991093903959363</td>\n",
       "      <td>285660928590172217</td>\n",
       "      <td>7908382889764677758;8277336076276184272</td>\n",
       "      <td>2072967855524022579;5131280576272319091;263639...</td>\n",
       "      <td>9057103201734987852</td>\n",
       "      <td>548352491538518780</td>\n",
       "      <td>8</td>\n",
       "      <td>9</td>\n",
       "      <td>8</td>\n",
       "      <td>13</td>\n",
       "      <td>...</td>\n",
       "      <td>4001</td>\n",
       "      <td>8277336076276184272:5131280576272319091,820214...</td>\n",
       "      <td>4885989684392199728</td>\n",
       "      <td>15</td>\n",
       "      <td>0.985427</td>\n",
       "      <td>5012</td>\n",
       "      <td>0.974878</td>\n",
       "      <td>0.976863</td>\n",
       "      <td>0.969278</td>\n",
       "      <td>0</td>\n",
       "    </tr>\n",
       "    <tr>\n",
       "      <th>2</th>\n",
       "      <td>7972325483281584825</td>\n",
       "      <td>285660928590172217</td>\n",
       "      <td>7908382889764677758;8277336076276184272</td>\n",
       "      <td>2072967855524022579;5131280576272319091;263639...</td>\n",
       "      <td>9057103201734987852</td>\n",
       "      <td>548352491538518780</td>\n",
       "      <td>8</td>\n",
       "      <td>9</td>\n",
       "      <td>8</td>\n",
       "      <td>13</td>\n",
       "      <td>...</td>\n",
       "      <td>4001</td>\n",
       "      <td>4879721024980945592:2636395404473730413,719936...</td>\n",
       "      <td>4885989684392199728</td>\n",
       "      <td>15</td>\n",
       "      <td>0.985427</td>\n",
       "      <td>5012</td>\n",
       "      <td>0.974878</td>\n",
       "      <td>0.976863</td>\n",
       "      <td>0.969278</td>\n",
       "      <td>1</td>\n",
       "    </tr>\n",
       "    <tr>\n",
       "      <th>3</th>\n",
       "      <td>5394134991759971072</td>\n",
       "      <td>285660928590172217</td>\n",
       "      <td>7908382889764677758;8277336076276184272</td>\n",
       "      <td>2072967855524022579;5131280576272319091;263639...</td>\n",
       "      <td>9057103201734987852</td>\n",
       "      <td>548352491538518780</td>\n",
       "      <td>8</td>\n",
       "      <td>9</td>\n",
       "      <td>8</td>\n",
       "      <td>13</td>\n",
       "      <td>...</td>\n",
       "      <td>4001</td>\n",
       "      <td>8277336076276184272:820214312075361939;5096600...</td>\n",
       "      <td>4885989684392199728</td>\n",
       "      <td>15</td>\n",
       "      <td>0.985427</td>\n",
       "      <td>5012</td>\n",
       "      <td>0.974878</td>\n",
       "      <td>0.976863</td>\n",
       "      <td>0.969278</td>\n",
       "      <td>0</td>\n",
       "    </tr>\n",
       "    <tr>\n",
       "      <th>4</th>\n",
       "      <td>4876117478498068156</td>\n",
       "      <td>285660928590172217</td>\n",
       "      <td>7908382889764677758;8277336076276184272</td>\n",
       "      <td>2072967855524022579;5131280576272319091;263639...</td>\n",
       "      <td>9057103201734987852</td>\n",
       "      <td>548352491538518780</td>\n",
       "      <td>8</td>\n",
       "      <td>9</td>\n",
       "      <td>8</td>\n",
       "      <td>13</td>\n",
       "      <td>...</td>\n",
       "      <td>4001</td>\n",
       "      <td>8277336076276184272:820214312075361939;5799347...</td>\n",
       "      <td>4885989684392199728</td>\n",
       "      <td>15</td>\n",
       "      <td>0.985427</td>\n",
       "      <td>5012</td>\n",
       "      <td>0.974878</td>\n",
       "      <td>0.976863</td>\n",
       "      <td>0.969278</td>\n",
       "      <td>0</td>\n",
       "    </tr>\n",
       "  </tbody>\n",
       "</table>\n",
       "<p>5 rows × 27 columns</p>\n",
       "</div>"
      ],
      "text/plain": [
       "           instance_id              item_id  \\\n",
       "0  5754713551599725161  3412720377098676069   \n",
       "1  8802991093903959363   285660928590172217   \n",
       "2  7972325483281584825   285660928590172217   \n",
       "3  5394134991759971072   285660928590172217   \n",
       "4  4876117478498068156   285660928590172217   \n",
       "\n",
       "                        item_category_list  \\\n",
       "0  7908382889764677758;5799347067982556520   \n",
       "1  7908382889764677758;8277336076276184272   \n",
       "2  7908382889764677758;8277336076276184272   \n",
       "3  7908382889764677758;8277336076276184272   \n",
       "4  7908382889764677758;8277336076276184272   \n",
       "\n",
       "                                  item_property_list        item_brand_id  \\\n",
       "0  2072967855524022579;5131280576272319091;263639...  1975590437749032870   \n",
       "1  2072967855524022579;5131280576272319091;263639...  9057103201734987852   \n",
       "2  2072967855524022579;5131280576272319091;263639...  9057103201734987852   \n",
       "3  2072967855524022579;5131280576272319091;263639...  9057103201734987852   \n",
       "4  2072967855524022579;5131280576272319091;263639...  9057103201734987852   \n",
       "\n",
       "          item_city_id  item_price_level  item_sales_level  \\\n",
       "0  3948283326616421003                 3                 3   \n",
       "1   548352491538518780                 8                 9   \n",
       "2   548352491538518780                 8                 9   \n",
       "3   548352491538518780                 8                 9   \n",
       "4   548352491538518780                 8                 9   \n",
       "\n",
       "   item_collected_level  item_pv_level    ...     context_page_id  \\\n",
       "0                     4             14    ...                4001   \n",
       "1                     8             13    ...                4001   \n",
       "2                     8             13    ...                4001   \n",
       "3                     8             13    ...                4001   \n",
       "4                     8             13    ...                4001   \n",
       "\n",
       "                           predict_category_property              shop_id  \\\n",
       "0  5799347067982556520:9172976955054793469;790838...  6765930309048922341   \n",
       "1  8277336076276184272:5131280576272319091,820214...  4885989684392199728   \n",
       "2  4879721024980945592:2636395404473730413,719936...  4885989684392199728   \n",
       "3  8277336076276184272:820214312075361939;5096600...  4885989684392199728   \n",
       "4  8277336076276184272:820214312075361939;5799347...  4885989684392199728   \n",
       "\n",
       "   shop_review_num_level  shop_review_positive_rate  shop_star_level  \\\n",
       "0                      4                   1.000000             5002   \n",
       "1                     15                   0.985427             5012   \n",
       "2                     15                   0.985427             5012   \n",
       "3                     15                   0.985427             5012   \n",
       "4                     15                   0.985427             5012   \n",
       "\n",
       "   shop_score_service  shop_score_delivery shop_score_description  is_trade  \n",
       "0            1.000000             1.000000               1.000000         0  \n",
       "1            0.974878             0.976863               0.969278         0  \n",
       "2            0.974878             0.976863               0.969278         1  \n",
       "3            0.974878             0.976863               0.969278         0  \n",
       "4            0.974878             0.976863               0.969278         0  \n",
       "\n",
       "[5 rows x 27 columns]"
      ]
     },
     "execution_count": 4,
     "metadata": {},
     "output_type": "execute_result"
    }
   ],
   "source": [
    "# 查看抽取后的训练样本数据前五行\n",
    "ijcai_new_train.head()"
   ]
  },
  {
   "cell_type": "markdown",
   "metadata": {},
   "source": [
    "通过对数据基础字段进行查看（[IJCAI18](https://tianchi.aliyun.com/competition/information.htm?spm=5176.100067.5678.2.373c2163PpY08X&raceId=231647)），我们发现该数据为分类问题，且样本标签（即`is_trade`字段）只有`0`和`1`，所以可以暂时理解为二分类问题。对于这类问题我们首先要看其总体正负样本分布。"
   ]
  },
  {
   "cell_type": "code",
   "execution_count": 5,
   "metadata": {},
   "outputs": [
    {
     "name": "stdout",
     "output_type": "stream",
     "text": [
      "正样本个数： 1847\n",
      "负样本个数： 94531\n"
     ]
    }
   ],
   "source": [
    "# 统计正负样本。\n",
    "### 代码开始 ### （大约2行代码）\n",
    "pos_samples = ijcai_new_train[\"is_trade\"][ijcai_new_train[\"is_trade\"] == 1].count()\n",
    "neg_samples = ijcai_new_train[\"is_trade\"][ijcai_new_train[\"is_trade\"] == 0].count()\n",
    "### 代码结束 ### \n",
    "\n",
    "print(\"正样本个数： \" + str(pos_samples))\n",
    "print(\"负样本个数： \" + str(neg_samples))"
   ]
  },
  {
   "cell_type": "markdown",
   "metadata": {},
   "source": [
    "期望输出：\n",
    "```\n",
    "正样本个数： 1847\n",
    "负样本个数： 94531\n",
    "```"
   ]
  },
  {
   "cell_type": "markdown",
   "metadata": {},
   "source": [
    "在数据中具有时间属性字段，而原始数据中用时间戳进行表示，无法直接使用，所以需要我们进行转换。\n",
    "\n",
    "**时间戳转换函数**"
   ]
  },
  {
   "cell_type": "code",
   "execution_count": 6,
   "metadata": {},
   "outputs": [],
   "source": [
    "# 时间戳转换函数\n",
    "def stamptrans(timestamp):\n",
    "    '''\n",
    "    参数：\n",
    "    timestamp：长整型，Unix时间戳。\n",
    "    \n",
    "    返回值：\n",
    "    dt：字符串，转换后的时间，格式为%Y-%m-%d %H:%M。\n",
    "    '''\n",
    "    ### 代码开始 ### （大约3行代码）\n",
    "    format = \"%Y-%m-%d %H:%M\"\n",
    "    timestamp = time.localtime(timestamp)\n",
    "    dt = time.strftime(format, timestamp)\n",
    "    ### 代码结束 ### \n",
    "    \n",
    "    return dt"
   ]
  },
  {
   "cell_type": "markdown",
   "metadata": {},
   "source": [
    "利用编写的时间戳转换函数，将样本中的相关字段进行转换（训练数据和测试数据），并在样本中添加名为`context_timestamp_trans`的字段进行保存。"
   ]
  },
  {
   "cell_type": "code",
   "execution_count": 7,
   "metadata": {},
   "outputs": [
    {
     "name": "stdout",
     "output_type": "stream",
     "text": [
      "0    2018-09-18 12:00\n",
      "1    2018-09-18 23:38\n",
      "2    2018-09-18 14:44\n",
      "3    2018-09-18 21:52\n",
      "4    2018-09-18 22:41\n",
      "Name: context_timestamp_trans, dtype: object\n"
     ]
    }
   ],
   "source": [
    "# Unix时间戳转换\n",
    "### 代码开始 ### （大约2行）\n",
    "ijcai_new_train[\"context_timestamp_trans\"] = ijcai_new_train.context_timestamp.apply(stamptrans)\n",
    "ijcai_new_test[\"context_timestamp_trans\"] = ijcai_new_test.context_timestamp.apply(stamptrans)\n",
    "### 代码结束 ###\n",
    "\n",
    "print(ijcai_new_train[\"context_timestamp_trans\"].head())"
   ]
  },
  {
   "cell_type": "markdown",
   "metadata": {},
   "source": [
    "期望输出：\n",
    "```\n",
    "0        2018-09-18 12:00\n",
    "1        2018-09-18 23:38\n",
    "2        2018-09-18 14:44\n",
    "3        2018-09-18 21:52\n",
    "4        2018-09-18 22:41\n",
    "Name: context_timestamp_trans, dtype: object\n",
    "```\n",
    "通过查看转换结果，我们可以看到时间以日期+小时分钟的形式展现出来，为了方便接下来我们对某一天或某一小时的相关数据进行统计分析，需要将这种形式的时间表示进行进一步划分，即把年、月、日、时、分拆分并在已有数据基础上形成新的字段进行保存。\n",
    "\n",
    "（提示：因为该数据中，年份和月份都是相同的，所以我们只需要提取日、时、分进行分别保存即可。）"
   ]
  },
  {
   "cell_type": "code",
   "execution_count": 8,
   "metadata": {},
   "outputs": [],
   "source": [
    "# 时间切割函数\n",
    "def splitime(strtime, idx):\n",
    "    '''\n",
    "    参数：\n",
    "    strtime：字符串类型，形如%Y-%m-%d %H:%M的时间串。\n",
    "    idx：整型，列表下标，要返回日、小时还是分钟，分别对应0、1、2。\n",
    "    \n",
    "    返回值：\n",
    "    caches[idx]：整型，返回caches[idx]元素，其中caches包含整型的日、小时、分钟。\n",
    "    '''\n",
    "    \n",
    "    ### 代码开始 ### （大约4行代码）\n",
    "    [year_month_day, dtime] = strtime.split()\n",
    "    day = year_month_day.split(\"-\")[2]\n",
    "    hour, minutes = dtime.split(\":\")[0:2]\n",
    "    caches = [day, hour, minutes]\n",
    "    ### 代码结束 ###\n",
    "    \n",
    "    return caches[idx]"
   ]
  },
  {
   "cell_type": "markdown",
   "metadata": {},
   "source": [
    "运用时间切割函数`splitime`，将训练样本和测试样本中的`context_timestamp_trans`字段中的时间进行切割，新建并保存到`day`、`hour`、`minutes`字段中。"
   ]
  },
  {
   "cell_type": "code",
   "execution_count": 9,
   "metadata": {},
   "outputs": [
    {
     "name": "stdout",
     "output_type": "stream",
     "text": [
      "0    12\n",
      "1    23\n",
      "2    14\n",
      "3    21\n",
      "4    22\n",
      "Name: hour, dtype: object\n"
     ]
    }
   ],
   "source": [
    "# 切割并保存\n",
    "### 代码开始 ### （大约2行代码）\n",
    "ijcai_new_train[\"day\"], ijcai_new_train[\"hour\"], ijcai_new_train[\"minutes\"] = ijcai_new_train.context_timestamp_trans.apply(splitime, idx=0), ijcai_new_train.context_timestamp_trans.apply(splitime, idx=1), ijcai_new_train.context_timestamp_trans.apply(splitime, idx=2)\n",
    "ijcai_new_test[\"day\"], ijcai_new_test[\"hour\"], ijcai_new_test[\"minutes\"] = ijcai_new_test.context_timestamp_trans.apply(splitime, idx=0), ijcai_new_test.context_timestamp_trans.apply(splitime, idx=1), ijcai_new_test.context_timestamp_trans.apply(splitime, idx=2)\n",
    "### 代码结束 ### \n",
    "\n",
    "print(ijcai_new_train[\"hour\"].head())"
   ]
  },
  {
   "cell_type": "markdown",
   "metadata": {},
   "source": [
    "期望输出结果\n",
    "```\n",
    "0    12\n",
    "1    23\n",
    "2    14\n",
    "3    21\n",
    "4    22\n",
    "Name: hour, dtype: int64\n",
    "```\n",
    "到现在，我们就完成了对时间戳的处理，这样，我们就可以对每一天的每个小时的正样本数量、负样本数量及总量的变化进行作图。（注：此处指训练样本。）\n",
    "\n",
    "**样本连续变化图**"
   ]
  },
  {
   "cell_type": "code",
   "execution_count": 10,
   "metadata": {},
   "outputs": [
    {
     "name": "stdout",
     "output_type": "stream",
     "text": [
      "day:\n",
      "['18' '19' '20' '21' '22' '23' '24']\n",
      "day_info:\n",
      "     is_trade    sum      rate\n",
      "day                           \n",
      "18        304  15806  0.019233\n",
      "19        273  14367  0.019002\n",
      "20        313  13835  0.022624\n",
      "21        275  14279  0.019259\n",
      "22        271  13842  0.019578\n",
      "23        229  12638  0.018120\n",
      "24        182  11611  0.015675\n",
      "hour_info:\n",
      "      is_trade  sum      rate\n",
      "hour                         \n",
      "00           7  374  0.018717\n",
      "01           2  128  0.015625\n",
      "02           3   67  0.044776\n",
      "03           3   61  0.049180\n",
      "04           2   39  0.051282\n"
     ]
    }
   ],
   "source": [
    "# 做出样本数据连续变化图\n",
    "\n",
    "# 第一步：统计样本中的天数\n",
    "### 代码开始 ### （大约1行代码）\n",
    "day_arr = ijcai_new_train[\"day\"].unique()\n",
    "### 代码结束 ###\n",
    "\n",
    "# 对天数进行排序。\n",
    "day_arr = np.sort(day_arr)\n",
    "\n",
    "# 第二步：\n",
    "# 统计每天样本总数、正样本数、正样本/样本总数;\n",
    "# 每一天中的每个小时的样本总数、正样本数、正样本/样本总数；\n",
    "# 将数据保存到文件到data文件夹下，按天的信息保存到day_info.csv，按每天的每个小时的统计数据保存到hour_info.csv。\n",
    "### 代码开始 ### （大约14行代码）\n",
    "data_use = ijcai_new_train[[\"is_trade\", \"day\", \"hour\"]]\n",
    "hour_info = pd.DataFrame()\n",
    "day_info = pd.DataFrame()\n",
    "for day in day_arr:\n",
    "    temp = data_use[data_use[\"day\"] == day]\n",
    "    temp[\"sum\"] = 1\n",
    "    tmp_hour = temp.groupby([\"hour\"]).agg(\"sum\")\n",
    "    tmp_hour[\"rate\"] = tmp_hour[\"is_trade\"]/tmp_hour[\"sum\"]\n",
    "    hour_info = pd.concat([hour_info, tmp_hour])\n",
    "    tmp_day = temp.groupby([\"day\"]).agg(\"sum\")\n",
    "    tmp_day[\"rate\"] = tmp_day[\"is_trade\"]/tmp_day[\"sum\"]\n",
    "    day_info = pd.concat([day_info, tmp_day])\n",
    "\n",
    "hour_info.to_csv(\"./data/hour_info.csv\")\n",
    "day_info.to_csv(\"./data/day_info.csv\")\n",
    "### 代码结束 ###\n",
    "\n",
    "print(\"day:\")\n",
    "print(day_arr)\n",
    "# 以天为单位的统计信息\n",
    "print(\"day_info:\")\n",
    "print(day_info)\n",
    "# 以小时为单位的统计信息\n",
    "print(\"hour_info:\")\n",
    "print(hour_info.head())"
   ]
  },
  {
   "cell_type": "markdown",
   "metadata": {},
   "source": [
    "期望输出：\n",
    "```\n",
    "day:\n",
    "['18' '19' '20' '21' '22' '23' '24']\n",
    "day_info:\n",
    "     is_trade    sum      rate\n",
    "day                           \n",
    "18        304  15806  0.019233\n",
    "19        273  14367  0.019002\n",
    "20        313  13835  0.022624\n",
    "21        275  14279  0.019259\n",
    "22        271  13842  0.019578\n",
    "23        229  12638  0.018120\n",
    "24        182  11611  0.015675\n",
    "hour_info:\n",
    "      is_trade  sum      rate\n",
    "hour                         \n",
    "00           7  374  0.018717\n",
    "01           2  128  0.015625\n",
    "02           3   67  0.044776\n",
    "03           3   61  0.049180\n",
    "04           2   39  0.051282\n",
    "```\n",
    "将每天的信息和每天的每个小时的样本信息统计完成之后，可以以小时为单位画连续这些天的样本总量变化图、正样本数量变化图和以天为单位的样本比率，成交比例等。\n",
    "\n",
    "（提示：可以直接用pandas DataFrame的plot函数）"
   ]
  },
  {
   "cell_type": "code",
   "execution_count": 11,
   "metadata": {},
   "outputs": [
    {
     "data": {
      "image/png": "[encoded data removed]",
      "text/plain": [
       "<Figure size 2592x864 with 1 Axes>"
      ]
     },
     "metadata": {},
     "output_type": "display_data"
    }
   ],
   "source": [
    "# 正样本比率变化图，以小时为单位，要求柱状图\n",
    "### 代码开始 ### （大约2行代码）\n",
    "hour_info[\"rate\"].plot(kind=\"bar\", figsize=(36, 12), title=\"Positive Rate per day per hour\")\n",
    "plt.show()\n",
    "### 代码结束 ###"
   ]
  },
  {
   "cell_type": "code",
   "execution_count": 12,
   "metadata": {},
   "outputs": [
    {
     "data": {
      "image/png": "[encoded data removed]",
      "text/plain": [
       "<Figure size 432x288 with 1 Axes>"
      ]
     },
     "metadata": {},
     "output_type": "display_data"
    }
   ],
   "source": [
    "# 每天样本总数，以天为单位，要求饼状图\n",
    "### 代码开始 ### （大约2行代码）\n",
    "day_info[\"sum\"].plot(kind=\"pie\", title=\"Samples sum per day\", table=True)\n",
    "plt.show()\n",
    "### 代码结束 ###"
   ]
  },
  {
   "cell_type": "code",
   "execution_count": 13,
   "metadata": {},
   "outputs": [
    {
     "data": {
      "image/png": "[encoded data removed]",
      "text/plain": [
       "<Figure size 432x288 with 1 Axes>"
      ]
     },
     "metadata": {},
     "output_type": "display_data"
    }
   ],
   "source": [
    "# 每天正样本数， 以天为单位，要求饼状图\n",
    "### 代码开始 ### （大约2行代码）\n",
    "day_info[\"is_trade\"].plot(kind=\"pie\", title=\"Samples sum per day\", table=True)\n",
    "plt.show()\n",
    "### 代码结束 ###"
   ]
  },
  {
   "cell_type": "markdown",
   "metadata": {},
   "source": [
    "统计每天的样本变化情况会帮助了解样本分布，获得一些有用的信息。\n",
    "\n",
    "#### 数据预处理\n",
    "\n",
    "在做完样本分布的分析之后，我们要对样本缺失值等进行统计和处理。\n",
    "\n",
    "**数据缺失值统计**\n",
    "\n",
    "原始字段中有两种数据类型，字符串型和数值型，所以统计时，需要加以区分。（此处只统计训练数据即可。）"
   ]
  },
  {
   "cell_type": "code",
   "execution_count": 14,
   "metadata": {
    "scrolled": true
   },
   "outputs": [
    {
     "name": "stdout",
     "output_type": "stream",
     "text": [
      "字段名：instance_id，缺失数：0，缺失比例：0.0。\n",
      "\n",
      "字段名：item_id，缺失数：0，缺失比例：0.0。\n",
      "\n",
      "字段名：item_category_list，缺失数：0，缺失比例：0.0。\n",
      "\n",
      "字段名：item_property_list，缺失数：0，缺失比例：0.0。\n",
      "\n",
      "字段名：item_brand_id，缺失数：90，缺失比例：0.0009338230716553571。\n",
      "\n",
      "字段名：item_city_id，缺失数：54，缺失比例：0.0005602938429932142。\n",
      "\n",
      "字段名：item_price_level，缺失数：0，缺失比例：0.0。\n",
      "\n",
      "字段名：item_sales_level，缺失数：179，缺失比例：0.0018572703314034323。\n",
      "\n",
      "字段名：item_collected_level，缺失数：0，缺失比例：0.0。\n",
      "\n",
      "字段名：item_pv_level，缺失数：0，缺失比例：0.0。\n",
      "\n",
      "字段名：user_id，缺失数：0，缺失比例：0.0。\n",
      "\n",
      "字段名：user_gender_id，缺失数：2643，缺失比例：0.027423270870945652。\n",
      "\n",
      "字段名：user_age_level，缺失数：180，缺失比例：0.0018676461433107141。\n",
      "\n",
      "字段名：user_occupation_id，缺失数：180，缺失比例：0.0018676461433107141。\n",
      "\n",
      "字段名：user_star_level，缺失数：180，缺失比例：0.0018676461433107141。\n",
      "\n",
      "字段名：context_id，缺失数：0，缺失比例：0.0。\n",
      "\n",
      "字段名：context_timestamp，缺失数：0，缺失比例：0.0。\n",
      "\n",
      "字段名：context_page_id，缺失数：0，缺失比例：0.0。\n",
      "\n",
      "字段名：predict_category_property，缺失数：0，缺失比例：0.0。\n",
      "\n",
      "字段名：shop_id，缺失数：0，缺失比例：0.0。\n",
      "\n",
      "字段名：shop_review_num_level，缺失数：0，缺失比例：0.0。\n",
      "\n",
      "字段名：shop_review_positive_rate，缺失数：0，缺失比例：0.0。\n",
      "\n",
      "字段名：shop_star_level，缺失数：0，缺失比例：0.0。\n",
      "\n",
      "字段名：shop_score_service，缺失数：15，缺失比例：0.00015563717860922618。\n",
      "\n",
      "字段名：shop_score_delivery，缺失数：15，缺失比例：0.00015563717860922618。\n",
      "\n",
      "字段名：shop_score_description，缺失数：15，缺失比例：0.00015563717860922618。\n",
      "\n",
      "字段名：is_trade，缺失数：0，缺失比例：0.0。\n",
      "\n",
      "字段名：context_timestamp_trans，缺失数：0，缺失比例：0.0。\n",
      "\n",
      "字段名：day，缺失数：0，缺失比例：0.0。\n",
      "\n",
      "字段名：hour，缺失数：0，缺失比例：0.0。\n",
      "\n",
      "字段名：minutes，缺失数：0，缺失比例：0.0。\n",
      "\n"
     ]
    }
   ],
   "source": [
    "# 缺失值统计\n",
    "### 代码开始 ### （大约5行代码）\n",
    "for col in ijcai_new_train.columns:\n",
    "    if ijcai_new_train[col].dtypes != 'O':\n",
    "        print(\"字段名：{0}，缺失数：{1}，缺失比例：{2}。\\n\".format(col, ijcai_new_train[ijcai_new_train[col] == -1][col].count(), ijcai_new_train[ijcai_new_train[col] == -1][col].count()/ijcai_new_train[col].count()))\n",
    "    else:\n",
    "        print(\"字段名：{0}，缺失数：{1}，缺失比例：{2}。\\n\".format(col, ijcai_new_train[ijcai_new_train[col] == \"-1\"][col].count(), ijcai_new_train[ijcai_new_train[col] == \"-1\"][col].count()/ijcai_new_train[col].count()))\n",
    "### 代码结束 ###"
   ]
  },
  {
   "cell_type": "markdown",
   "metadata": {},
   "source": [
    "期望输出：\n",
    "```\n",
    "字段名：instance_id，缺失数：0，缺失比例：0.0。\n",
    "字段名：item_id，缺失数：0，缺失比例：0.0。\n",
    "字段名：item_category_list，缺失数：0，缺失比例：0.0。\n",
    "字段名：item_property_list，缺失数：0，缺失比例：0.0。\n",
    "字段名：item_brand_id，缺失数：90，缺失比例：0.0009338230716553571。\n",
    ".\n",
    ".\n",
    ".\n",
    "\n",
    "字段名：is_trade，缺失数：0，缺失比例：0.0。\n",
    "字段名：context_timestamp_trans，缺失数：0，缺失比例：0.0。\n",
    "字段名：day，缺失数：0，缺失比例：0.0。\n",
    "字段名：hour，缺失数：0，缺失比例：0.0。\n",
    "字段名：minutes，缺失数：0，缺失比例：0.0。\n",
    "```"
   ]
  },
  {
   "cell_type": "markdown",
   "metadata": {},
   "source": [
    "从统计来看，样本缺失度比较低。\n",
    "\n",
    "接下来，通过统计每一个字段的唯一值。（此处只统计训练数据即可。）"
   ]
  },
  {
   "cell_type": "code",
   "execution_count": 15,
   "metadata": {},
   "outputs": [
    {
     "name": "stdout",
     "output_type": "stream",
     "text": [
      "字段名称：instance_id，唯一值个数：96377，唯一值列表：[5754713551599725161 8802991093903959363 7972325483281584825 ...\n",
      " 5307935891681475459  477737900698382237 4623253188146764341]。\n",
      "\n",
      "字段名称：item_id，唯一值个数：6806，唯一值列表：[3412720377098676069  285660928590172217 5202355029344881809 ...\n",
      " 5813439311965339744 5640507991384614935 5621212945513603977]。\n",
      "\n",
      "字段名称：item_category_list，唯一值个数：14，唯一值列表：['7908382889764677758;5799347067982556520'\n",
      " '7908382889764677758;8277336076276184272'\n",
      " '7908382889764677758;5755694407684602296'\n",
      " '7908382889764677758;2436715285093487584'\n",
      " '7908382889764677758;509660095530134768'\n",
      " '7908382889764677758;8710739180200009128'\n",
      " '7908382889764677758;2011981573061447208'\n",
      " '7908382889764677758;7258015885215914736'\n",
      " '7908382889764677758;4879721024980945592'\n",
      " '7908382889764677758;3203673979138763595'\n",
      " '7908382889764677758;2642175453151805566;8868887661186419229'\n",
      " '7908382889764677758;1968056100269760729'\n",
      " '7908382889764677758;22731265849056483'\n",
      " '7908382889764677758;2642175453151805566;6233669177166538628']。\n",
      "\n",
      "字段名称：item_property_list，唯一值个数：7367，唯一值列表：['2072967855524022579;5131280576272319091;2636395404473730413;8070395809181082496;6434796455031995313;7839592306500064003;3657871859501171040;1782439090818545916;6936314038707413523;5117290135792467652;720840888466250585;8838717711606756251;9172976955054793469;6296485275518770064;8154150695030794787;8199832121759092112;773321667872991333;7270669313837600482;3408398779125901630;4359277201620147874;448184584262668803;9029095803741432716'\n",
      " '2072967855524022579;5131280576272319091;2636395404473730413;9148482949976129397;7199361004668592209;4678095570925618478;2033679869864207699;3802510553218572927;1782439090818545916;820214312075361939;5320468090843686429;1134982063610307090;71803110314516845;1301076623647253687;3258780649701680217;514980552440578167;6411614163944830538;478060273908663971;1418324867218214039;6457208937217973355;4859870894564764703;6048265394477193459;5208530887565657358;2559145093180392146;8119922999783109966;90892965411648070;2935986643229018712;7125679806685817518;4998393090172019193;2653795394150816137;9132046213323956404;7004759496810158079;3674308596153344033;647428987512677251;793305798399120948;8560981779145170452;1364838863277739785;6402837117468309719;1556713051218509070;5905014002669999655;4774054090293502457;1723293555671106692;7527849185955020043;5767144546798382177;730203099166226972;8497879079912276476;7152599495073237509;615076485672811995;8382752466418861499;2296315626544640613'\n",
      " '2072967855524022579;5131280576272319091;2636395404473730413;6556896890082244813;3657871859501171040;9173428221474519642;2253152183208719552;357954758031852148;3765394546174375916;8808957892062587408;6621287826538724367;7271630337430743106;8247723580205204722;4564647423883133001;4224097012885011005;542901723744518864;4444792543859265070;1665611025031010859;1266232729783845119;7860359346697893790;549707957212148300;2662182412610098459;6261681079656394086;4803012262423035870;5465522059880368612;1530873973648683953;6503778418253407380;2917822884506250839;2827133331729755680;8271380363138018088;3971663145700298114;3796012835045751390;8724187982730364941;6324941039683947995;5275977934691214612;5119621442439839441;644460148686282775;7123215832059766729;4682240176839116979;537208717985470679;7015116144025242710;4103724031807790102;1267974281451797475;6222435412919027584;4150063881530790669;7205702158058893390'\n",
      " ...\n",
      " '5131280576272319091;2636395404473730413;4621934203383159480;3163265386149801264;7344985833148694227;2488701964620097331;4067341101015777832;1243768796732904674;6491818071284064879;6114170102428335439;13534940502119749;2032595807574745346;360508730875480086;4551572919177847394;8115339640717877394;6844128309230439917;6518827169254436786;1248848811491612718;7046835092279798919;3632233000683703193;2865114645280905956;7813953447682596156;7731581851357328826;8853013799524596040;8428929200595576491;8190913615004050276;5158866674987574120;1034072235852017644;5049188975472189378;1487973467189181290'\n",
      " '2072967855524022579;2636395404473730413;9148482949976129397;9173428221474519642;2033679869864207699;3965165427527476577;3257385717871127564;3810637967129387598;965463874480819860;8648011967513411146;1653359305896591525;7757880373225626919;3468471710883151526;3487506805926615866;8153732374295066157;1868608863886523494;2387199106372779862;533106291384309550;6758805379109355341;3920262713854146771;3847413266891902733;8957304002683771318;813032843287916039;736978337654598052;5570397814961219827;2864586475405952318'\n",
      " '2636395404473730413;422690147597355277;9148482949976129397;6072714026257332214;4678095570925618478;2033679869864207699;3965165427527476577;7422828355050797095;6844128309230439917;5982451250981091869;4696616841982410243;8094231893277648923;4604184749617479504;838514338883792950;4228488786095558499;2183678079447457625;6564005041683567547;2543995460448955001;8687006518815244261;1418324867218214039;965463874480819860;2338795090056819089;938942550188415640;4144604912378445430;5170525120828716013']。\n",
      "\n",
      "字段名称：item_brand_id，唯一值个数：1597，唯一值列表：[1975590437749032870 9057103201734987852 5520678735822176314 ...\n",
      " 5280637160506675889 7504249607452648277 1172587650831997145]。\n",
      "\n",
      "字段名称：item_city_id，唯一值个数：116，唯一值列表：[3948283326616421003  548352491538518780 3776439227963994256\n",
      " 7534238860363577544 7322157373578955368 1019055478500227370\n",
      " 8762827044490678569 6154585379646116922  196257267849351217\n",
      " 4556484397418645693 8939023195347666945 4644954126004286009\n",
      " 5918626470536001929 3122721854741763495 6738283504825746594\n",
      "  739849083029856578 6027631083130214337 8072963182326625214\n",
      " 6620239887342530822  481482873950391103 4918413420989329604\n",
      " 4374800994578205793 3819392654129628501 5161571070109172606\n",
      " 5978421288935197064 7219323489207530724 2022231041883668124\n",
      " 2171543029187596030 4083296682961047771 2174699138227015967\n",
      "  333440506879701736 8240548652619864253 1548565541085191105\n",
      " 4899814843172066235 2007021308771876996 8480550192700287318\n",
      " 8221750265705823825 2606104910636876898 3392874986167843711\n",
      " 6015153214652003909 8774880668563049760 2532567935548697032\n",
      " 9088192369782437159 5781917929618748407 3508092439405455063\n",
      " 2898261356495209345 8519578687848277273 6652984710464900997\n",
      " 2336396634847254369 8237816787986283553 7997974227049795263\n",
      " 2577951605337750872 5326000431362991708 1659868702501373320\n",
      " 5211112922919195873  470140807240234049 6353263476186488993\n",
      " 6219110439660858399 1651749364812671046 7433943245423082092\n",
      "  983006732149699580 8201343797229916526 1904187424400452352\n",
      " 4259583541340594441  266534138255813526 7599123333627852867\n",
      " 8213194587913143640 3910415904247667078  514694032262818403\n",
      " 3211191583327403811 6022410898911278879                  -1\n",
      " 5170960014354231267 9070707733479115872 2441675549383057796\n",
      " 4385375707470959263 3979267608276914880 8747526603856329147\n",
      " 4814326104676768998 6122583695544856419 3250914831627876149\n",
      " 5988548075011636636 6973610335696064794 9151270500179171459\n",
      " 4350273094117089600 5808941911350447816 3382300273275090241\n",
      " 2245236340473056111  445518607167094136 4700646804028305048\n",
      "  209109918333456044 2833529017875751130 6784669248596349924\n",
      " 6419484551622907671 3198713714849193383 8034210119001863030\n",
      " 6772615624523978733 4897150163344753705 2441251304977218559\n",
      " 7051154795364517673 8969611739750220759 4933623154101120732\n",
      " 3660951731540780082 7296767819688411871 5727554123450503368\n",
      " 5838099002455053655  977185943282967113 5884877103856494393\n",
      " 4696414479261711366 1608360359484386240 7968875866014064608\n",
      " 6785093493002189161 1114691270281148507 7566476095478034400\n",
      " 5241131667453229016 1409192320340625053]。\n",
      "\n",
      "字段名称：item_price_level，唯一值个数：13，唯一值列表：[ 3  8  4  7  6  9  5  2  1 10 11  0 17]。\n",
      "\n",
      "字段名称：item_sales_level，唯一值个数：18，唯一值列表：[ 3  9  7  8 12 11 10 14 13  6  5  4 15 16  2 -1  1 17]。\n",
      "\n",
      "字段名称：item_collected_level，唯一值个数：18，唯一值列表：[ 4  8 10 12 14 11 13 15  9  7  5 16  6  2 17  3  1  0]。\n",
      "\n",
      "字段名称：item_pv_level，唯一值个数：20，唯一值列表：[14 13 16 12 19 18 20 15 11 17 10  8  9 21  7  6  4  3  0  5]。\n",
      "\n",
      "字段名称：user_id，唯一值个数：72336，唯一值列表：[2692638157208937547 1125352029162214778 5724091758094305190 ...\n",
      "  967654015632225932 4668730476166383174 4341781618055685466]。\n",
      "\n",
      "字段名称：user_gender_id，唯一值个数：4，唯一值列表：[ 0  1  2 -1]。\n",
      "\n",
      "字段名称：user_age_level，唯一值个数：9，唯一值列表：[1002 1003 1004 1005 1006 1000 1007 1001   -1]。\n",
      "\n",
      "字段名称：user_occupation_id，唯一值个数：5，唯一值列表：[2005 2002 2004 2003   -1]。\n",
      "\n",
      "字段名称：user_star_level，唯一值个数：12，唯一值列表：[3006 3005 3002 3003 3007 3004 3008 3009 3000 3001 3010   -1]。\n",
      "\n",
      "字段名称：context_id，唯一值个数：96378，唯一值列表：[4007979028023783431 2923308860909436591 7612168924020353960 ...\n",
      "  237148683202234671 4393483968878219694 4979257525081659552]。\n",
      "\n",
      "字段名称：context_timestamp，唯一值个数：85264，唯一值列表：[1537243232 1537285082 1537253096 ... 1537786381 1537759548 1537783729]。\n",
      "\n",
      "字段名称：context_page_id，唯一值个数：20，唯一值列表：[4001 4002 4006 4005 4003 4016 4004 4009 4012 4017 4011 4015 4008 4007\n",
      " 4010 4013 4018 4014 4019 4020]。\n",
      "\n",
      "字段名称：predict_category_property，唯一值个数：31092，唯一值列表：['5799347067982556520:9172976955054793469;7908382889764677758:1787573075717641245,9172976955054793469,5195139481388729954,4621934203383159480,9148482949976129397'\n",
      " '8277336076276184272:5131280576272319091,820214312075361939;5799347067982556520:5131280576272319091,9148482949976129397;7908382889764677758:5131280576272319091,820214312075361939,9148482949976129397'\n",
      " '4879721024980945592:2636395404473730413,7199361004668592209;5799347067982556520:2636395404473730413;8658630417297894718:-1;2011981573061447208:2636395404473730413,7199361004668592209;8277336076276184272:2636395404473730413,7199361004668592209;8190716055759423915:2636395404473730413;7908382889764677758:2636395404473730413'\n",
      " ...\n",
      " '5755694407684602296:5131280576272319091;7908382889764677758:5131280576272319091;4879721024980945592:5131280576272319091;5799347067982556520:5131280576272319091'\n",
      " '5755694407684602296:3994732721176203348,2008359857263316777;7908382889764677758:-1'\n",
      " '8257512457089702259:-1;1760164811125093110:2033679869864207699;5755694407684602296:-1;870939953932227873:-1;9121432215720987772:-1;8896700187874717254:-1;7908382889764677758:2008359857263316777,9148482949976129397,7323906747451897092']。\n",
      "\n",
      "字段名称：shop_id，唯一值个数：3096，唯一值列表：[6765930309048922341 4885989684392199728 4691269887550643960 ...\n",
      "  957164184114510396 1672202913386040017 7347575640411812711]。\n",
      "\n",
      "字段名称：shop_review_num_level，唯一值个数：24，唯一值列表：[ 4 15 12 21 14 13 16  8 10 11 18 20 17  6  7 19 22  9  5  3 23  1  2 25]。\n",
      "\n",
      "字段名称：shop_review_positive_rate，唯一值个数：7669，唯一值列表：[1.         0.98542714 0.96775229 ... 0.98973049 0.98963227 0.99366153]。\n",
      "\n",
      "字段名称：shop_star_level，唯一值个数：21，唯一值列表：[5002 5012 5010 5018 5011 5013 5007 5014 5008 5009 5015 5017 5003 5005\n",
      " 5016 5004 5001 5020 5006 5000 5019]。\n",
      "\n",
      "字段名称：shop_score_service，唯一值个数：11721，唯一值列表：[1.         0.97487839 0.97422451 ... 0.98425107 0.9773273  0.95084608]。\n",
      "\n",
      "字段名称：shop_score_delivery，唯一值个数：11780，唯一值列表：[1.         0.97686251 0.97107112 ... 0.98508797 0.97736682 0.95073849]。\n",
      "\n",
      "字段名称：shop_score_description，唯一值个数：11749，唯一值列表：[1.         0.96927823 0.96558698 ... 0.98158821 0.97902676 0.94528614]。\n",
      "\n",
      "字段名称：is_trade，唯一值个数：2，唯一值列表：[0 1]。\n",
      "\n",
      "字段名称：context_timestamp_trans，唯一值个数：9300，唯一值列表：['2018-09-18 12:00' '2018-09-18 23:38' '2018-09-18 14:44' ...\n",
      " '2018-09-24 03:03' '2018-09-24 00:55' '2018-09-24 01:33']。\n",
      "\n",
      "字段名称：day，唯一值个数：7，唯一值列表：['18' '21' '19' '20' '22' '23' '24']。\n",
      "\n",
      "字段名称：hour，唯一值个数：24，唯一值列表：['12' '23' '14' '21' '22' '16' '15' '09' '10' '13' '19' '00' '08' '17'\n",
      " '20' '07' '11' '04' '02' '18' '06' '01' '05' '03']。\n",
      "\n",
      "字段名称：minutes，唯一值个数：60，唯一值列表：['00' '38' '44' '52' '41' '01' '29' '48' '51' '42' '18' '10' '57' '25'\n",
      " '06' '17' '31' '56' '26' '13' '54' '05' '23' '35' '20' '14' '12' '33'\n",
      " '32' '45' '47' '07' '02' '50' '30' '09' '34' '11' '49' '28' '16' '40'\n",
      " '36' '53' '15' '39' '08' '46' '59' '19' '04' '22' '21' '24' '43' '37'\n",
      " '03' '27' '55' '58']。\n",
      "\n"
     ]
    }
   ],
   "source": [
    "# 唯一值统计\n",
    "### 代码开始 ### （大约2行代码）\n",
    "for col in ijcai_new_train.columns:\n",
    "    print(\"字段名称：{0}，唯一值个数：{1}，唯一值列表：{2}。\\n\".format(col, ijcai_new_train[col].unique().shape[0], ijcai_new_train[col].unique()))\n",
    "### 代码结束 ###"
   ]
  },
  {
   "cell_type": "markdown",
   "metadata": {},
   "source": [
    "期望输出：\n",
    "```\n",
    "字段名称：instance_id，唯一值个数：96377，唯一值列表：[5754713551599725161 8802991093903959363 7972325483281584825 ...\n",
    " 5307935891681475459  477737900698382237 4623253188146764341]。\n",
    ".\n",
    ".\n",
    ".\n",
    "字段名称：shop_star_level，唯一值个数：21，唯一值列表：[5002 5012 5010 5018 5011 5013 5007 5014 5008 5009 5015 5017 5003 5005\n",
    " 5016 5004 5001 5020 5006 5000 5019]。\n",
    "字段名称：day，唯一值个数：7，唯一值列表：['18' '21' '19' '20' '22' '23' '24']。\n",
    "字段名称：hour，唯一值个数：24，唯一值列表：['12' '23' '14' '21' '22' '16' '15' '09' '10' '13' '19' '00' '08' '17'\n",
    " '20' '07' '11' '04' '02' '18' '06' '01' '05' '03']。\n",
    "字段名称：minutes，唯一值个数：60，唯一值列表：['00' '38' '44' '52' '41' '01' '29' '48' '51' '42' '18' '10' '57' '25'\n",
    " '06' '17' '31' '56' '26' '13' '54' '05' '23' '35' '20' '14' '12' '33'\n",
    " '32' '45' '47' '07' '02' '50' '30' '09' '34' '11' '49' '28' '16' '40'\n",
    " '36' '53' '15' '39' '08' '46' '59' '19' '04' '22' '21' '24' '43' '37'\n",
    " '03' '27' '55' '58']。\n",
    "```\n",
    "统计每个字段唯一值的目的是判断该字段为连续型还是离散型，通过统计结果，我们可以判断，除了ID类字段，还有等级类字段也是离散的。评分类字段是连续的。所以，对于评分类字段可以填充平均值，对于等级类字段填充众数。\n",
    "\n",
    "**缺失值填充**\n",
    "\n",
    "评分类字段`shop_score_service`，`shop_score_delivery`，`shop_score_description`填充平均值。（注：训练数据和测试数据都需要填充。）"
   ]
  },
  {
   "cell_type": "code",
   "execution_count": 16,
   "metadata": {},
   "outputs": [
    {
     "name": "stdout",
     "output_type": "stream",
     "text": [
      "训练数据\n",
      "字段名：shop_score_service，缺失数：0，缺失比例：0.0。\n",
      "\n",
      "测试数据\n",
      "字段名：shop_score_service，缺失数：0，缺失比例：0.0。\n",
      "\n",
      "训练数据\n",
      "字段名：shop_score_delivery，缺失数：0，缺失比例：0.0。\n",
      "\n",
      "测试数据\n",
      "字段名：shop_score_delivery，缺失数：0，缺失比例：0.0。\n",
      "\n",
      "训练数据\n",
      "字段名：shop_score_description，缺失数：0，缺失比例：0.0。\n",
      "\n",
      "测试数据\n",
      "字段名：shop_score_description，缺失数：0，缺失比例：0.0。\n",
      "\n"
     ]
    }
   ],
   "source": [
    "# 用平均数填充缺失值\n",
    "### 代码开始 ### （大约3行代码）\n",
    "for col in [\"shop_score_service\", \"shop_score_delivery\", \"shop_score_description\"]:\n",
    "    ijcai_new_train[col].replace(-1, ijcai_new_train[col].mean(), inplace=True)\n",
    "    ijcai_new_test[col].replace(-1, ijcai_new_test[col].mean(), inplace=True)\n",
    "### 代码结束 ###\n",
    "for col in [\"shop_score_service\", \"shop_score_delivery\", \"shop_score_description\"]:\n",
    "    print(\"训练数据\")\n",
    "    print(\"字段名：{0}，缺失数：{1}，缺失比例：{2}。\\n\".format(col, ijcai_new_train[ijcai_new_train[col] == -1][col].count(), ijcai_new_train[ijcai_new_train[col] == -1][col].count()/ijcai_new_train[col].count()))\n",
    "    print(\"测试数据\")\n",
    "    print(\"字段名：{0}，缺失数：{1}，缺失比例：{2}。\\n\".format(col, ijcai_new_test[ijcai_new_test[col] == -1][col].count(), ijcai_new_test[ijcai_new_test[col] == -1][col].count()/ijcai_new_test[col].count()))"
   ]
  },
  {
   "cell_type": "markdown",
   "metadata": {},
   "source": [
    "期望输出：\n",
    "```\n",
    "训练数据\n",
    "字段名：shop_score_service，缺失数：0，缺失比例：0.0。\n",
    ".\n",
    ".\n",
    ".\n",
    "```\n",
    "等级类字段`item_sales_level`、`user_star_level`、`item_city_id`、`user_gender_id`和`user_occupation_id`填充众数。（注：训练数据和测试数据都需要填充。）"
   ]
  },
  {
   "cell_type": "code",
   "execution_count": 17,
   "metadata": {
    "scrolled": true
   },
   "outputs": [
    {
     "name": "stdout",
     "output_type": "stream",
     "text": [
      "训练数据\n",
      "字段名：item_sales_level，缺失数：0，缺失比例：0.0。\n",
      "\n",
      "测试数据\n",
      "字段名：item_sales_level，缺失数：0，缺失比例：0.0。\n",
      "\n",
      "训练数据\n",
      "字段名：user_star_level，缺失数：0，缺失比例：0.0。\n",
      "\n",
      "测试数据\n",
      "字段名：user_star_level，缺失数：0，缺失比例：0.0。\n",
      "\n",
      "训练数据\n",
      "字段名：user_gender_id，缺失数：0，缺失比例：0.0。\n",
      "\n",
      "测试数据\n",
      "字段名：user_gender_id，缺失数：0，缺失比例：0.0。\n",
      "\n",
      "训练数据\n",
      "字段名：user_occupation_id，缺失数：0，缺失比例：0.0。\n",
      "\n",
      "测试数据\n",
      "字段名：user_occupation_id，缺失数：0，缺失比例：0.0。\n",
      "\n",
      "训练数据\n",
      "字段名：item_city_id，缺失数：0，缺失比例：0.0。\n",
      "\n",
      "测试数据\n",
      "字段名：item_city_id，缺失数：0，缺失比例：0.0。\n",
      "\n"
     ]
    }
   ],
   "source": [
    "# 用平均数填充缺失值\n",
    "### 代码开始 ### （大约3行代码）\n",
    "for col in [\"item_sales_level\", \"user_star_level\", \"user_gender_id\", \"user_occupation_id\", \"item_city_id\"]:\n",
    "    ijcai_new_train[col].replace(-1, ijcai_new_train[col].mode()[0], inplace=True)\n",
    "    ijcai_new_test[col].replace(-1, ijcai_new_test[col].mode()[0], inplace=True)\n",
    "### 代码结束 ###\n",
    "for col in [\"item_sales_level\", \"user_star_level\", \"user_gender_id\", \"user_occupation_id\", \"item_city_id\"]:\n",
    "    print(\"训练数据\")\n",
    "    print(\"字段名：{0}，缺失数：{1}，缺失比例：{2}。\\n\".format(col, ijcai_new_train[ijcai_new_train[col] == -1][col].count(), ijcai_new_train[ijcai_new_train[col] == -1][col].count()/ijcai_new_train[col].count()))\n",
    "    print(\"测试数据\")\n",
    "    print(\"字段名：{0}，缺失数：{1}，缺失比例：{2}。\\n\".format(col, ijcai_new_test[ijcai_new_test[col] == -1][col].count(), ijcai_new_test[ijcai_new_test[col] == -1][col].count()/ijcai_new_test[col].count()))"
   ]
  },
  {
   "cell_type": "markdown",
   "metadata": {},
   "source": [
    "期望输出：\n",
    "```\n",
    "训练数据\n",
    "字段名：item_sales_level，缺失数：0，缺失比例：0.0。\n",
    "\n",
    "测试数据\n",
    "字段名：item_sales_level，缺失数：0，缺失比例：0.0。\n",
    ".\n",
    ".\n",
    ".\n",
    "```\n",
    "**One-Hot编码**\n",
    "\n",
    "One-Hot编码是一种常用的数据处理的方法，此处只对字段`user_gender_id`和`user_occupation_id`进行编码处理。（注：训练数据和测试数据都需要处理，可以调用sklearn库，也可以自己写函数，建议直接调用库。）"
   ]
  },
  {
   "cell_type": "code",
   "execution_count": 18,
   "metadata": {},
   "outputs": [],
   "source": [
    "# 对user_gender_id和user_occupation_id进行one-hot处理，并拼接到数据集中。\n",
    "### 代码开始 ### （大约5行代码）\n",
    "enc = OneHotEncoder()\n",
    "enc.fit(ijcai_new_train[[\"user_gender_id\", \"user_occupation_id\"]])\n",
    "ijcai_new_train = pd.concat([ijcai_new_train, pd.DataFrame(enc.transform(ijcai_new_train[[ \"user_gender_id\", \"user_occupation_id\"]]).toarray())], axis=1)\n",
    "enc.fit(ijcai_new_test[[\"user_gender_id\", \"user_occupation_id\"]])\n",
    "ijcai_new_test = pd.concat([ijcai_new_test, pd.DataFrame(enc.transform(ijcai_new_test[[ \"user_gender_id\", \"user_occupation_id\"]]).toarray())], axis=1)\n",
    "### 代码结束 ###"
   ]
  },
  {
   "cell_type": "code",
   "execution_count": 19,
   "metadata": {},
   "outputs": [
    {
     "name": "stdout",
     "output_type": "stream",
     "text": [
      "ijcai_new_train.shape: (96378, 38)\n",
      "ijcai_new_test.shape: (3696, 37)\n"
     ]
    }
   ],
   "source": [
    "print(\"ijcai_new_train.shape: \" + str(ijcai_new_train.shape))\n",
    "print(\"ijcai_new_test.shape: \" + str(ijcai_new_test.shape))"
   ]
  },
  {
   "cell_type": "markdown",
   "metadata": {},
   "source": [
    "期望输出：\n",
    "```\n",
    "ijcai_new_train.shape: (96378, 38)\n",
    "ijcai_new_test.shape: (3696, 37)\n",
    "```\n",
    "至此，关于数据分析的评测部分结束，下面是机器学习部分评测内容。\n",
    "\n",
    "### 机器学习\n",
    "该部分包括特征选择、特征重要性分析、模型训练、交叉验证、模型预测、模型评估等。所使用的数据是`ijcai_new_train`和`ijcai_new_test`。\n",
    "\n",
    "注：该部分主要以调包为主，所以只做描述性要求，不进行标准结果提示。\n",
    "\n",
    "**导入需要的库**\n",
    "\n",
    "提示：主要用到`sklearn`相关库和`matplotlib`画图库"
   ]
  },
  {
   "cell_type": "code",
   "execution_count": 20,
   "metadata": {},
   "outputs": [
    {
     "name": "stderr",
     "output_type": "stream",
     "text": [
      "c:\\program files\\python36\\lib\\site-packages\\sklearn\\ensemble\\weight_boosting.py:29: DeprecationWarning: numpy.core.umath_tests is an internal NumPy module and should not be imported. It will be removed in a future NumPy release.\n",
      "  from numpy.core.umath_tests import inner1d\n"
     ]
    }
   ],
   "source": [
    "### 代码开始 ### （2~10行代码）\n",
    "import sklearn.feature_selection as fs \n",
    "from sklearn.linear_model import LogisticRegression\n",
    "from sklearn.model_selection import train_test_split, cross_val_score\n",
    "from sklearn.ensemble import GradientBoostingClassifier\n",
    "from sklearn.metrics import roc_curve, auc\n",
    "import matplotlib.pyplot as plt\n",
    "### 代码结束 ###"
   ]
  },
  {
   "cell_type": "markdown",
   "metadata": {},
   "source": [
    "从数据中选取如下数据作为训练及测试数据。"
   ]
  },
  {
   "cell_type": "code",
   "execution_count": 21,
   "metadata": {},
   "outputs": [
    {
     "name": "stdout",
     "output_type": "stream",
     "text": [
      "X_train.shape: (96378, 33)\n",
      "X_train.shape: (96378, 1)\n",
      "X_train.shape: (3696, 33)\n"
     ]
    }
   ],
   "source": [
    "X_train = ijcai_new_train.drop([\"predict_category_property\", \"item_property_list\", \"item_category_list\", \"context_timestamp_trans\", \"is_trade\"], axis=1)\n",
    "y_train = ijcai_new_train[[\"is_trade\"]]\n",
    "X_test = ijcai_new_test.drop([\"predict_category_property\", \"item_property_list\", \"item_category_list\", \"context_timestamp_trans\"], axis=1)\n",
    "print(\"X_train.shape: \" + str(X_train.shape))\n",
    "print(\"X_train.shape: \" + str(y_train.shape))\n",
    "print(\"X_train.shape: \" + str(X_test.shape))"
   ]
  },
  {
   "cell_type": "markdown",
   "metadata": {},
   "source": [
    "**特征选择及特征重要性分析**\n",
    "\n",
    "采用两种或两种以上以上不同的方法进行选择，采用其中一套数据集记性训练、预测即可。"
   ]
  },
  {
   "cell_type": "code",
   "execution_count": 22,
   "metadata": {},
   "outputs": [],
   "source": [
    "# 特征选择及特征重要性分析，将特征重要性表保存到data文件夹下，命名为featselect1.csv\n",
    "def featselect1(X, y):\n",
    "    '''\n",
    "    参数:\n",
    "    X：pandas dataframe，样本特征数据。\n",
    "    y：pandas dataframe，样本标签数据\n",
    "    \n",
    "    Return:\n",
    "    X_selected： pandas dataframe, 经过选择的特征数据。\n",
    "    feats_dropped： 列表，被去掉的特征。\n",
    "    feats_flag：列表，特征是否保存的标志。\n",
    "    '''\n",
    "    \n",
    "    ### 代码开始 ###(大约16行代码)\n",
    "    feats_name = list(X.columns.values)\n",
    "    feats_dropped = []\n",
    "    feat_info = pd.DataFrame(feats_name)\n",
    "\n",
    "    gbdt = GradientBoostingClassifier()\n",
    "    gbdt.fit(X.values, y.values.ravel())\n",
    "    feat_select = fs.SelectFromModel(gbdt,prefit=True)\n",
    "    feat_info[\"feature_score\"] = pd.DataFrame(gbdt.feature_importances_)\n",
    "    # get dropped features\n",
    "    feats_flag = feat_select.get_support()\n",
    "    for i in range(len(feats_flag)):\n",
    "        if feat_select.get_support()[i] == False:\n",
    "            feats_dropped.append(feats_name[i])\n",
    "    X_selected = X.drop(columns=feats_dropped)\n",
    "\n",
    "    # get feature importance scores and save to file\n",
    "    feat_info.columns = [\"feature\", \"feature_importance\"]\n",
    "    feat_info = feat_info.sort_values(\"feature_importance\", ascending=False)\n",
    "    feat_info.to_csv(\"./data/featselect1.csv\")\n",
    "    ### 代码结束 ###\n",
    "    \n",
    "    return X_selected, feats_dropped, feats_flag\n",
    "\n",
    "# Function: 特征选择及特征重要性分析，将特征重要性表保存到data文件夹下，命名为featselect2.csv\n",
    "def featselect2(X, y):\n",
    "    '''\n",
    "    参数:\n",
    "    X：pandas dataframe，样本特征数据。\n",
    "    y：pandas dataframe，样本标签数据\n",
    "    \n",
    "    Return:\n",
    "    X_selected： pandas dataframe, 经过选择的特征数据。\n",
    "    feats_dropped： 列表，被去掉的特征。\n",
    "    feats_flag：列表，特征是否保存的标志。\n",
    "    '''\n",
    "    \n",
    "    ### 代码开始 ###(大约16行代码)\n",
    "    feats_name = list(X.columns.values)\n",
    "    feats_dropped = []\n",
    "    feat_info = pd.DataFrame(feats_name)\n",
    "\n",
    "    gbdt = GradientBoostingClassifier()\n",
    "    gbdt.fit(X.values, y.values.ravel())\n",
    "    feat_select = fs.SelectFromModel(gbdt,prefit=True)\n",
    "    feat_info[\"feature_score\"] = pd.DataFrame(gbdt.feature_importances_)\n",
    "    # get dropped features\n",
    "    feats_flag = feat_select.get_support()\n",
    "    for i in range(len(feats_flag)):\n",
    "        if feat_select.get_support()[i] == False:\n",
    "            feats_dropped.append(feats_name[i])\n",
    "    X_selected = X.drop(columns=feats_dropped)\n",
    "\n",
    "    # get feature importance scores and save to file\n",
    "    feat_info.columns = [\"feature\", \"feature_importance\"]\n",
    "    feat_info = feat_info.sort_values(\"feature_importance\", ascending=False)\n",
    "    feat_info.to_csv(\"./data/featselect2.csv\")\n",
    "    ### 代码结束 ###\n",
    "    \n",
    "    return X_selected, feats_dropped, feats_flag"
   ]
  },
  {
   "cell_type": "markdown",
   "metadata": {},
   "source": [
    "调用特征选择函数，获得相关数据。"
   ]
  },
  {
   "cell_type": "code",
   "execution_count": 23,
   "metadata": {},
   "outputs": [
    {
     "name": "stdout",
     "output_type": "stream",
     "text": [
      "X_train_selected.shape: (96378, 13)\n",
      "X_test_selected.shape: (3696, 13)\n"
     ]
    }
   ],
   "source": [
    "# 特征选择，得到选择后的训练数据等\n",
    "X_train_selected, feats_dropped, feats_flag = featselect1(X_train, y_train)\n",
    "\n",
    "# 对测试数据的数据进行相同规则的特征选择\n",
    "### 代码开始 ### （大约1行代码）\n",
    "X_test_selected = X_test[X_test.columns[feats_flag]]\n",
    "### 代码结束 ###\n",
    "\n",
    "print(\"X_train_selected.shape: \" + str(X_train_selected.shape))\n",
    "print(\"X_test_selected.shape: \" + str(X_test_selected.shape))"
   ]
  },
  {
   "cell_type": "markdown",
   "metadata": {},
   "source": [
    "**建模，并进行CV**\n",
    "\n",
    "可以选用GBDT、LR等可用模型。"
   ]
  },
  {
   "cell_type": "code",
   "execution_count": 24,
   "metadata": {},
   "outputs": [
    {
     "name": "stdout",
     "output_type": "stream",
     "text": [
      "0.980805146295912\n"
     ]
    }
   ],
   "source": [
    "### 代码开始 ### （大约4行代码）\n",
    "X_train_s, X_dev_s, y_train_s, y_dev_s = train_test_split(X_train_selected, y_train, test_size=.2, random_state=0)\n",
    "clf = LogisticRegression()\n",
    "clf.fit(X_train_s, y_train_s)\n",
    "scores = clf.score(X_dev_s, y_dev_s)\n",
    "### 代码结束 ###\n",
    "print(scores)"
   ]
  },
  {
   "cell_type": "markdown",
   "metadata": {},
   "source": [
    "**评估（AUC）**\n",
    "\n",
    "评估（AUC）并且画图"
   ]
  },
  {
   "cell_type": "code",
   "execution_count": 25,
   "metadata": {},
   "outputs": [
    {
     "data": {
      "image/png": "[encoded data removed]",
      "text/plain": [
       "<Figure size 432x288 with 1 Axes>"
      ]
     },
     "metadata": {},
     "output_type": "display_data"
    }
   ],
   "source": [
    "### 代码开始 ### （大约13行）\n",
    "y_dev_s_predprobs = clf.predict_proba(X_dev_s)[:, 1]\n",
    "fpr, tpr, threshold = roc_curve(y_dev_s, y_dev_s_predprobs)\n",
    "roc_auc = auc(fpr, tpr)\n",
    "lw = 2\n",
    "plt.plot(fpr, tpr, color=\"darkorange\", lw=lw, label=\"ROC curve (area = %0.2f)\" % roc_auc)\n",
    "plt.plot([0, 1], [0, 1], color=\"navy\", lw=lw, linestyle=\"--\")  \n",
    "plt.xlim([0.0, 1.0])  \n",
    "plt.ylim([0.0, 1.05])  \n",
    "plt.xlabel(\"False Positive Rate\")  \n",
    "plt.ylabel(\"True Positive Rate\")  \n",
    "plt.title(\"ROC\")  \n",
    "plt.legend(loc=\"lower right\")\n",
    "plt.show()\n",
    "### 代码结束 ###"
   ]
  },
  {
   "cell_type": "markdown",
   "metadata": {},
   "source": [
    "**预测**\n",
    "\n",
    "对测试数据进行预测，并将预测结果（概率）和 样本ID输出到`result`文件夹下的`result.csv`文件中。输出结果要求只有样本ID和预测概率两列，列名可以随意命名。"
   ]
  },
  {
   "cell_type": "code",
   "execution_count": 26,
   "metadata": {},
   "outputs": [],
   "source": [
    "### 代码开始 ### （大约3行代码）\n",
    "y_predprobs = clf.predict_proba(X_test_selected)[:, 1]\n",
    "res_info = pd.DataFrame({\"instance_id\": X_test[\"instance_id\"], \"predict_score\": y_predprobs})\n",
    "res_info.to_csv(\"./result/result.csv\", index=False)\n",
    "### 代码结束 ###"
   ]
  },
  {
   "cell_type": "markdown",
   "metadata": {},
   "source": [
    "**结束**"
   ]
  },
  {
   "cell_type": "code",
   "execution_count": null,
   "metadata": {},
   "outputs": [],
   "source": []
  }
 ],
 "metadata": {
  "kernelspec": {
   "display_name": "Python 3",
   "language": "python",
   "name": "python3"
  },
  "language_info": {
   "codemirror_mode": {
    "name": "ipython",
    "version": 3
   },
   "file_extension": ".py",
   "mimetype": "text/x-python",
   "name": "python",
   "nbconvert_exporter": "python",
   "pygments_lexer": "ipython3",
   "version": "3.6.5"
  },
  "toc": {
   "base_numbering": 1,
   "nav_menu": {},
   "number_sections": true,
   "sideBar": true,
   "skip_h1_title": false,
   "title_cell": "Table of Contents",
   "title_sidebar": "Contents",
   "toc_cell": false,
   "toc_position": {},
   "toc_section_display": true,
   "toc_window_display": false
  }
 },
 "nbformat": 4,
 "nbformat_minor": 2
}
